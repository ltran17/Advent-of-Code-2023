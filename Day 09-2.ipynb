{
 "cells": [
  {
   "cell_type": "markdown",
   "id": "2fbc381d-cb33-434c-8ae1-6467026f02e7",
   "metadata": {},
   "source": [
    "# --- Part Two ---\n",
    "Of course, it would be nice to have even more history included in your report. Surely it's safe to just extrapolate backwards as well, right?\n",
    "\n",
    "For each history, repeat the process of finding differences until the sequence of differences is entirely zero. Then, rather than adding a zero to the end and filling in the next values of each previous sequence, you should instead add a zero to the beginning of your sequence of zeroes, then fill in new first values for each previous sequence.\n",
    "\n",
    "In particular, here is what the third example history looks like when extrapolating back in time:\n",
    "```\n",
    "5  10  13  16  21  30  45\n",
    "  5   3   3   5   9  15\n",
    "   -2   0   2   4   6\n",
    "      2   2   2   2\n",
    "        0   0   0\n",
    "```\n",
    "\n",
    "Adding the new values on the left side of each sequence from bottom to top eventually reveals the new left-most history value: 5.\n",
    "\n",
    "Doing this for the remaining example data above results in previous values of -3 for the first history and 0 for the second history. Adding all three new values together produces 2.\n",
    "\n",
    "**Analyze your OASIS report again, this time extrapolating the previous value for each history. What is the sum of these extrapolated values?**\n"
   ]
  },
  {
   "cell_type": "code",
   "execution_count": 9,
   "id": "68915e28-4daf-4ffa-affb-c1090cc222a1",
   "metadata": {},
   "outputs": [],
   "source": [
    "from utilities import get_lines"
   ]
  },
  {
   "cell_type": "code",
   "execution_count": 35,
   "id": "2ab03303-2365-409d-b632-5af042a0dd22",
   "metadata": {},
   "outputs": [],
   "source": [
    "lines = get_lines('input')\n",
    "lines = [line.split(' ') for line in lines]\n",
    "lines = [[int(n) for n in nums] for nums in lines]"
   ]
  },
  {
   "cell_type": "code",
   "execution_count": 36,
   "id": "9b0c2693-f647-4144-bd3d-812b736f57c1",
   "metadata": {},
   "outputs": [],
   "source": [
    "def get_diffs(nums):\n",
    "    return [nums[i]-nums[i-1] for i in range(1,len(nums))]"
   ]
  },
  {
   "cell_type": "code",
   "execution_count": 37,
   "id": "d2f51bbd-0982-4c5a-ac53-af7e10e2c797",
   "metadata": {},
   "outputs": [],
   "source": [
    "def check_all_zero(nums):\n",
    "    if sum([abs(num) for num in nums])==0:\n",
    "        return True\n",
    "    return False"
   ]
  },
  {
   "cell_type": "code",
   "execution_count": 38,
   "id": "fa8a60f8-4998-4627-a718-3c080f2fe6c0",
   "metadata": {},
   "outputs": [],
   "source": [
    "def get_first_values(nums):\n",
    "    first_vals = [nums[0]]\n",
    "    while check_all_zero(nums)!=True:\n",
    "        nums = get_diffs(nums)\n",
    "        first_vals.append(nums[0])\n",
    "    first_vals.reverse()\n",
    "    return first_vals"
   ]
  },
  {
   "cell_type": "code",
   "execution_count": 40,
   "id": "513a0b13-28e9-4676-9ee0-6ddc510ac036",
   "metadata": {},
   "outputs": [],
   "source": [
    "def get_next_values(first_vals):\n",
    "    next_vals = [0]\n",
    "    for i in range(1,len(first_vals)):\n",
    "        value = first_vals[i]-next_vals[i-1]\n",
    "        next_vals.append(value)\n",
    "    return next_vals"
   ]
  },
  {
   "cell_type": "code",
   "execution_count": 41,
   "id": "9b54c4af-1f46-407d-bef5-eda9c5eaecd6",
   "metadata": {},
   "outputs": [
    {
     "data": {
      "text/plain": [
       "889"
      ]
     },
     "execution_count": 41,
     "metadata": {},
     "output_type": "execute_result"
    }
   ],
   "source": [
    "total = 0\n",
    "for nums in lines:\n",
    "    next_values = get_next_values(get_first_values(nums))\n",
    "    total += next_values[-1]\n",
    "total"
   ]
  },
  {
   "cell_type": "code",
   "execution_count": null,
   "id": "2cd53de5-d6b9-4f4f-b68b-8cc7b3f59bb7",
   "metadata": {},
   "outputs": [],
   "source": []
  }
 ],
 "metadata": {
  "kernelspec": {
   "display_name": "Python 3 (ipykernel)",
   "language": "python",
   "name": "python3"
  },
  "language_info": {
   "codemirror_mode": {
    "name": "ipython",
    "version": 3
   },
   "file_extension": ".py",
   "mimetype": "text/x-python",
   "name": "python",
   "nbconvert_exporter": "python",
   "pygments_lexer": "ipython3",
   "version": "3.10.8"
  }
 },
 "nbformat": 4,
 "nbformat_minor": 5
}
