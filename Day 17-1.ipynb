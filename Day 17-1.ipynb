{
 "cells": [
  {
   "cell_type": "markdown",
   "id": "68151891-264a-4ab8-a3f0-8ff34e772b60",
   "metadata": {},
   "source": [
    "# --- Day 17: Clumsy Crucible ---\n",
    "\n",
    "The lava starts flowing rapidly once the Lava Production Facility is operational. As you leave, the reindeer offers you a parachute, allowing you to quickly reach Gear Island.\n",
    "\n",
    "As you descend, your bird's-eye view of Gear Island reveals why you had trouble finding anyone on your way up: half of Gear Island is empty, but the half below you is a giant factory city!\n",
    "\n",
    "You land near the gradually-filling pool of lava at the base of your new lavafall. Lavaducts will eventually carry the lava throughout the city, but to make use of it immediately, Elves are loading it into large crucibles on wheels.\n",
    "\n",
    "The crucibles are top-heavy and pushed by hand. Unfortunately, the crucibles become very difficult to steer at high speeds, and so it can be hard to go in a straight line for very long.\n",
    "\n",
    "To get Desert Island the machine parts it needs as soon as possible, you'll need to find the best way to get the crucible from the lava pool to the machine parts factory. To do this, you need to minimize heat loss while choosing a route that doesn't require the crucible to go in a straight line for too long.\n",
    "\n",
    "Fortunately, the Elves here have a map (your puzzle input) that uses traffic patterns, ambient temperature, and hundreds of other parameters to calculate exactly how much heat loss can be expected for a crucible entering any particular city block.\n",
    "\n",
    "For example:\n",
    "```\n",
    "2413432311323\n",
    "3215453535623\n",
    "3255245654254\n",
    "3446585845452\n",
    "4546657867536\n",
    "1438598798454\n",
    "4457876987766\n",
    "3637877979653\n",
    "4654967986887\n",
    "4564679986453\n",
    "1224686865563\n",
    "2546548887735\n",
    "4322674655533\n",
    "```\n",
    "Each city block is marked by a single digit that represents the amount of heat loss if the crucible enters that block. The starting point, the lava pool, is the top-left city block; the destination, the machine parts factory, is the bottom-right city block. (Because you already start in the top-left block, you don't incur that block's heat loss unless you leave that block and then return to it.)\n",
    "\n",
    "Because it is difficult to keep the top-heavy crucible going in a straight line for very long, it can move at most three blocks in a single direction before it must turn 90 degrees left or right. The crucible also can't reverse direction; after entering each city block, it may only turn left, continue straight, or turn right.\n",
    "\n",
    "One way to minimize heat loss is this path:\n",
    "```\n",
    "2>>34^>>>1323\n",
    "32v>>>35v5623\n",
    "32552456v>>54\n",
    "3446585845v52\n",
    "4546657867v>6\n",
    "14385987984v4\n",
    "44578769877v6\n",
    "36378779796v>\n",
    "465496798688v\n",
    "456467998645v\n",
    "12246868655<v\n",
    "25465488877v5\n",
    "43226746555v>\n",
    "```\n",
    "This path never moves more than three consecutive blocks in the same direction and incurs a heat loss of only 102.\n",
    "\n",
    "Directing the crucible from the lava pool to the machine parts factory, but not moving more than three consecutive blocks in the same direction, **what is the least heat loss it can incur?**"
   ]
  },
  {
   "cell_type": "code",
   "execution_count": null,
   "id": "c85e5a62-937e-4348-8160-43051c7695e8",
   "metadata": {},
   "outputs": [],
   "source": []
  }
 ],
 "metadata": {
  "kernelspec": {
   "display_name": "Python 3 (ipykernel)",
   "language": "python",
   "name": "python3"
  },
  "language_info": {
   "codemirror_mode": {
    "name": "ipython",
    "version": 3
   },
   "file_extension": ".py",
   "mimetype": "text/x-python",
   "name": "python",
   "nbconvert_exporter": "python",
   "pygments_lexer": "ipython3",
   "version": "3.8.12"
  }
 },
 "nbformat": 4,
 "nbformat_minor": 5
}
