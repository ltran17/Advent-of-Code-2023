{
 "cells": [
  {
   "cell_type": "markdown",
   "id": "faf10cbc-e500-4a3c-a446-ba832daf8099",
   "metadata": {
    "tags": []
   },
   "source": [
    "# --- Part Two ---\n",
    "Everyone will starve if you only plant such a small number of seeds. Re-reading the almanac, it looks like the seeds: line actually describes ranges of seed numbers.\n",
    "\n",
    "The values on the initial seeds: line come in pairs. Within each pair, the first value is the start of the range and the second value is the length of the range. So, in the first line of the example above:\n",
    "```\n",
    "seeds: 79 14 55 13\n",
    "```\n",
    "This line describes two ranges of seed numbers to be planted in the garden. The first range starts with seed number 79 and contains 14 values: 79, 80, ..., 91, 92. The second range starts with seed number 55 and contains 13 values: 55, 56, ..., 66, 67.\n",
    "\n",
    "Now, rather than considering four seed numbers, you need to consider a total of 27 seed numbers.\n",
    "\n",
    "In the above example, the lowest location number can be obtained from seed number 82, which corresponds to soil 84, fertilizer 84, water 84, light 77, temperature 45, humidity 46, and location 46. So, the lowest location number is 46.\n",
    "\n",
    "**Consider all of the initial seed numbers listed in the ranges on the first line of the almanac. What is the lowest location number that corresponds to any of the initial seed numbers?**"
   ]
  },
  {
   "cell_type": "code",
   "execution_count": 19,
   "id": "d6edfc69-2919-488c-aba3-7cf8d0e7b007",
   "metadata": {},
   "outputs": [],
   "source": [
    "from utilities import get_lines"
   ]
  },
  {
   "cell_type": "code",
   "execution_count": 54,
   "id": "40d324b5-f38c-477f-bba9-2442445fa72c",
   "metadata": {},
   "outputs": [
    {
     "data": {
      "text/plain": [
       "197"
      ]
     },
     "execution_count": 54,
     "metadata": {},
     "output_type": "execute_result"
    }
   ],
   "source": [
    "lines = get_lines('input')\n",
    "len(lines)"
   ]
  },
  {
   "cell_type": "code",
   "execution_count": 55,
   "id": "245a33ac-1de0-40ae-978a-26acc2b203ca",
   "metadata": {},
   "outputs": [],
   "source": [
    "def get_numbers(nums):\n",
    "    '''\n",
    "    Parameters\n",
    "    ----------\n",
    "    nums: str of numbers separated by spaces\n",
    "    \n",
    "    Returns\n",
    "    -------\n",
    "    numbers: list of ints\n",
    "    '''\n",
    "    try:\n",
    "        return [int(n) for n in nums.strip().split(' ')]\n",
    "    except:\n",
    "        return None"
   ]
  },
  {
   "cell_type": "code",
   "execution_count": 56,
   "id": "20d5f26c-aef0-4bf1-a06e-e6bfd7673f92",
   "metadata": {},
   "outputs": [],
   "source": [
    "numbers = get_numbers(lines[0].split(':')[1])"
   ]
  },
  {
   "cell_type": "code",
   "execution_count": 57,
   "id": "5fdfb3f1-4daa-4903-afc7-3f5e84732b89",
   "metadata": {},
   "outputs": [
    {
     "data": {
      "text/plain": [
       "[range(3082872446, 3399552858),\n",
       " range(2769223903, 2843267226),\n",
       " range(4131958457, 4231497921),\n",
       " range(109726392, 463263294),\n",
       " range(619902767, 1268617265),\n",
       " range(3762874676, 3911192868),\n",
       " range(1545670780, 1889560560),\n",
       " range(4259893555, 4266033371),\n",
       " range(3980757676, 4000929738),\n",
       " range(2199623551, 2396581910)]"
      ]
     },
     "execution_count": 57,
     "metadata": {},
     "output_type": "execute_result"
    }
   ],
   "source": [
    "ranges = [range(numbers[i], numbers[i]+numbers[i+1]) for i in range(len(numbers)) if i%2==0]\n",
    "ranges #  starting value, ending value (non-inclusive)"
   ]
  },
  {
   "cell_type": "code",
   "execution_count": 58,
   "id": "a3f479a1-ad26-4d81-871f-14e60dca96d0",
   "metadata": {},
   "outputs": [],
   "source": [
    "def process_line(line):\n",
    "    if line=='':\n",
    "        return None\n",
    "    elif ':' in line:\n",
    "        return line.split(':')[0]\n",
    "    else:\n",
    "        return get_numbers(line)"
   ]
  },
  {
   "cell_type": "code",
   "execution_count": 59,
   "id": "8d0d4632-bc76-4289-870d-4159bacfd92e",
   "metadata": {},
   "outputs": [],
   "source": [
    "processed = list()\n",
    "for line in lines[1:]:\n",
    "    p = process_line(line)\n",
    "    if p is not None:\n",
    "        processed.append(p)"
   ]
  },
  {
   "cell_type": "code",
   "execution_count": 60,
   "id": "a095c0ae-b609-48ee-a667-7cb3f4d1232b",
   "metadata": {},
   "outputs": [],
   "source": [
    "from collections import namedtuple"
   ]
  },
  {
   "cell_type": "code",
   "execution_count": 61,
   "id": "e4d0f11a-fbb8-4270-82c5-a7d08a8a528a",
   "metadata": {},
   "outputs": [],
   "source": [
    "Loc = namedtuple('Loc','d_start s_start len')"
   ]
  },
  {
   "cell_type": "code",
   "execution_count": 62,
   "id": "f6dfabea-7346-421c-9fe6-9b0545b147a7",
   "metadata": {},
   "outputs": [],
   "source": [
    "maps = list()\n",
    "for p in processed:\n",
    "    if type(p)==str:\n",
    "        maps.append(p)\n",
    "    else:\n",
    "        loc = Loc(*p)\n",
    "        maps.append(loc)"
   ]
  },
  {
   "cell_type": "code",
   "execution_count": 63,
   "id": "5b1bbded-6141-42b4-be99-9a0900744fc3",
   "metadata": {},
   "outputs": [
    {
     "data": {
      "text/plain": [
       "['seed-to-soil map',\n",
       " 'soil-to-fertilizer map',\n",
       " 'fertilizer-to-water map',\n",
       " 'water-to-light map',\n",
       " 'light-to-temperature map',\n",
       " 'temperature-to-humidity map',\n",
       " 'humidity-to-location map']"
      ]
     },
     "execution_count": 63,
     "metadata": {},
     "output_type": "execute_result"
    }
   ],
   "source": [
    "map_names = [value for value in maps if type(value)==str]\n",
    "map_names"
   ]
  },
  {
   "cell_type": "code",
   "execution_count": 64,
   "id": "11b195bf-c701-456c-988f-99e48c13aec0",
   "metadata": {},
   "outputs": [],
   "source": [
    "def get_map_cats(map_name):\n",
    "    i = maps.index(map_name)+1\n",
    "    cats = list()\n",
    "    try:\n",
    "        while type(maps[i])!=str:\n",
    "            cats.append(maps[i])\n",
    "            i+=1\n",
    "    except Exception as e:\n",
    "        pass\n",
    "    return cats"
   ]
  },
  {
   "cell_type": "code",
   "execution_count": 65,
   "id": "9674b497-f0d5-43ac-ac01-af5f6fa0d24a",
   "metadata": {},
   "outputs": [],
   "source": [
    "categories = {map_name: get_map_cats(map_name) for map_name in map_names}"
   ]
  },
  {
   "cell_type": "code",
   "execution_count": 66,
   "id": "38e4055f-8241-46df-bd1d-f337eb7ad406",
   "metadata": {},
   "outputs": [],
   "source": [
    "def process_seed(seed, m):\n",
    "    # print(m)\n",
    "    s_start = m.s_start\n",
    "    s_end = m.s_start+m.len\n",
    "    if (s_start <= seed) & (seed < s_end):\n",
    "        diff = s_start - m.d_start\n",
    "        # print(f'seed {seed}-{diff}={seed-diff}')\n",
    "        return seed-diff\n",
    "    else:\n",
    "        return seed\n"
   ]
  },
  {
   "cell_type": "code",
   "execution_count": 67,
   "id": "da9ce255-5540-468a-8e4e-4cc24fba4cb0",
   "metadata": {},
   "outputs": [],
   "source": [
    "def give_a_mouse_a_cookie(seed, category):\n",
    "    '''\n",
    "    Parameters\n",
    "    ----------\n",
    "    seed: int representing seed to process\n",
    "    category: list of Loc objects\n",
    "    \n",
    "    Returns\n",
    "    -------\n",
    "    int: processed location value, changed or not\n",
    "    '''\n",
    "    for m in category:\n",
    "        s = seed\n",
    "        seed = process_seed(seed,m)\n",
    "        if s!=seed:\n",
    "            return seed\n",
    "    return seed"
   ]
  },
  {
   "cell_type": "code",
   "execution_count": 68,
   "id": "5f11f4f4-58ca-4f85-adcf-cfb25cc655ee",
   "metadata": {},
   "outputs": [],
   "source": [
    "base_seed = numbers[0]\n",
    "base_loc = base_seed"
   ]
  },
  {
   "cell_type": "markdown",
   "id": "d3fee2b0-3aeb-48d3-b2c3-33935784bd5e",
   "metadata": {},
   "source": [
    "## Brute force is not the way\n",
    "Will have to think on this."
   ]
  },
  {
   "cell_type": "code",
   "execution_count": 69,
   "id": "83602c99-0ed6-4924-bfc3-7ea44fa1869a",
   "metadata": {},
   "outputs": [
    {
     "ename": "KeyboardInterrupt",
     "evalue": "",
     "output_type": "error",
     "traceback": [
      "\u001b[0;31m---------------------------------------------------------------------------\u001b[0m",
      "\u001b[0;31mKeyboardInterrupt\u001b[0m                         Traceback (most recent call last)",
      "Cell \u001b[0;32mIn[69], line 6\u001b[0m\n\u001b[1;32m      4\u001b[0m s \u001b[38;5;241m=\u001b[39m seed\n\u001b[1;32m      5\u001b[0m \u001b[38;5;28;01mfor\u001b[39;00m cat \u001b[38;5;129;01min\u001b[39;00m categories:\n\u001b[0;32m----> 6\u001b[0m     loc \u001b[38;5;241m=\u001b[39m \u001b[43mgive_a_mouse_a_cookie\u001b[49m\u001b[43m(\u001b[49m\u001b[43ms\u001b[49m\u001b[43m,\u001b[49m\u001b[43m \u001b[49m\u001b[43mcategories\u001b[49m\u001b[43m[\u001b[49m\u001b[43mcat\u001b[49m\u001b[43m]\u001b[49m\u001b[43m)\u001b[49m\n\u001b[1;32m      7\u001b[0m     \u001b[38;5;66;03m# print(s, cat, loc)\u001b[39;00m\n\u001b[1;32m      8\u001b[0m     s \u001b[38;5;241m=\u001b[39m loc\n",
      "Cell \u001b[0;32mIn[67], line 14\u001b[0m, in \u001b[0;36mgive_a_mouse_a_cookie\u001b[0;34m(seed, category)\u001b[0m\n\u001b[1;32m     12\u001b[0m \u001b[38;5;28;01mfor\u001b[39;00m m \u001b[38;5;129;01min\u001b[39;00m category:\n\u001b[1;32m     13\u001b[0m     s \u001b[38;5;241m=\u001b[39m seed\n\u001b[0;32m---> 14\u001b[0m     seed \u001b[38;5;241m=\u001b[39m \u001b[43mprocess_seed\u001b[49m\u001b[43m(\u001b[49m\u001b[43mseed\u001b[49m\u001b[43m,\u001b[49m\u001b[43mm\u001b[49m\u001b[43m)\u001b[49m\n\u001b[1;32m     15\u001b[0m     \u001b[38;5;28;01mif\u001b[39;00m s\u001b[38;5;241m!=\u001b[39mseed:\n\u001b[1;32m     16\u001b[0m         \u001b[38;5;28;01mreturn\u001b[39;00m seed\n",
      "\u001b[0;31mKeyboardInterrupt\u001b[0m: "
     ]
    }
   ],
   "source": [
    "min_loc = base_loc\n",
    "min_seed = base_seed\n",
    "for seed in ranges[0]:\n",
    "    s = seed\n",
    "    for cat in categories:\n",
    "        loc = give_a_mouse_a_cookie(s, categories[cat])\n",
    "        # print(s, cat, loc)\n",
    "        s = loc\n",
    "    # print(seed,'->',loc)\n",
    "    if loc < min_loc:\n",
    "        min_seed = seed\n",
    "        min_loc = loc\n",
    "        # print('new min',min_loc)\n",
    "min_seed, min_loc"
   ]
  },
  {
   "cell_type": "code",
   "execution_count": 70,
   "id": "832e6a79-e529-4224-8ce4-5ba60827859b",
   "metadata": {},
   "outputs": [
    {
     "data": {
      "text/plain": [
       "(3082872446, 1085436433)"
      ]
     },
     "execution_count": 70,
     "metadata": {},
     "output_type": "execute_result"
    }
   ],
   "source": [
    "min_seed, min_loc"
   ]
  },
  {
   "cell_type": "code",
   "execution_count": null,
   "id": "56e1ee67-15fe-4ac7-b3b5-732ec985ec48",
   "metadata": {},
   "outputs": [],
   "source": []
  }
 ],
 "metadata": {
  "kernelspec": {
   "display_name": "Python 3 (ipykernel)",
   "language": "python",
   "name": "python3"
  },
  "language_info": {
   "codemirror_mode": {
    "name": "ipython",
    "version": 3
   },
   "file_extension": ".py",
   "mimetype": "text/x-python",
   "name": "python",
   "nbconvert_exporter": "python",
   "pygments_lexer": "ipython3",
   "version": "3.10.8"
  }
 },
 "nbformat": 4,
 "nbformat_minor": 5
}
