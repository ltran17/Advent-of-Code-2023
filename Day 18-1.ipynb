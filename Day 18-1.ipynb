{
 "cells": [
  {
   "cell_type": "markdown",
   "id": "98f08edf-41a7-4034-99a0-01512028cb55",
   "metadata": {},
   "source": [
    "# --- Day 18: Lavaduct Lagoon ---\n",
    "Thanks to your efforts, the machine parts factory is one of the first factories up and running since the lavafall came back. However, to catch up with the large backlog of parts requests, the factory will also need a large supply of lava for a while; the Elves have already started creating a large lagoon nearby for this purpose.\n",
    "\n",
    "However, they aren't sure the lagoon will be big enough; they've asked you to take a look at the dig plan (your puzzle input). For example:\n",
    "```\n",
    "R 6 (#70c710)\n",
    "D 5 (#0dc571)\n",
    "L 2 (#5713f0)\n",
    "D 2 (#d2c081)\n",
    "R 2 (#59c680)\n",
    "D 2 (#411b91)\n",
    "L 5 (#8ceee2)\n",
    "U 2 (#caa173)\n",
    "L 1 (#1b58a2)\n",
    "U 2 (#caa171)\n",
    "R 2 (#7807d2)\n",
    "U 3 (#a77fa3)\n",
    "L 2 (#015232)\n",
    "U 2 (#7a21e3)\n",
    "```\n",
    "The digger starts in a 1 meter cube hole in the ground. They then dig the specified number of meters up (U), down (D), left (L), or right (R), clearing full 1 meter cubes as they go. The directions are given as seen from above, so if \"up\" were north, then \"right\" would be east, and so on. Each trench is also listed with the color that the edge of the trench should be painted as an RGB hexadecimal color code.\n",
    "\n",
    "When viewed from above, the above example dig plan would result in the following loop of trench (#) having been dug out from otherwise ground-level terrain (.):\n",
    "```\n",
    "#######\n",
    "#.....#\n",
    "###...#\n",
    "..#...#\n",
    "..#...#\n",
    "###.###\n",
    "#...#..\n",
    "##..###\n",
    ".#....#\n",
    ".######\n",
    "```\n",
    "At this point, the trench could contain 38 cubic meters of lava. However, this is just the edge of the lagoon; the next step is to dig out the interior so that it is one meter deep as well:\n",
    "```\n",
    "#######\n",
    "#######\n",
    "#######\n",
    "..#####\n",
    "..#####\n",
    "#######\n",
    "#####..\n",
    "#######\n",
    ".######\n",
    ".######\n",
    "```\n",
    "Now, the lagoon can contain a much more respectable 62 cubic meters of lava. While the interior is dug out, the edges are also painted according to the color codes in the dig plan.\n",
    "\n",
    "The Elves are concerned the lagoon won't be large enough; if they follow their dig plan, **how many cubic meters of lava could it hold?**"
   ]
  },
  {
   "cell_type": "code",
   "execution_count": 1,
   "id": "46970bd0-03f2-4f88-b790-3433bee4e8d3",
   "metadata": {},
   "outputs": [],
   "source": [
    "from utilities import get_lines"
   ]
  },
  {
   "cell_type": "code",
   "execution_count": 2,
   "id": "af8ad73e-d2e6-48df-82ec-5f3e28561631",
   "metadata": {},
   "outputs": [],
   "source": [
    "lines = get_lines('input', 18)"
   ]
  },
  {
   "cell_type": "code",
   "execution_count": 3,
   "id": "d30e644a-c383-434a-abb3-2bc36d292aee",
   "metadata": {},
   "outputs": [],
   "source": [
    "from collections import namedtuple"
   ]
  },
  {
   "cell_type": "code",
   "execution_count": 4,
   "id": "65c44e7a-7a21-4a17-a62b-2d055b07a8a9",
   "metadata": {},
   "outputs": [],
   "source": [
    "Dig = namedtuple('Dig', 'dir len color')"
   ]
  },
  {
   "cell_type": "code",
   "execution_count": 5,
   "id": "bbc7c162-d542-435d-beed-8bc0e8bdc085",
   "metadata": {},
   "outputs": [],
   "source": [
    "Point = namedtuple('Point', 'x y')"
   ]
  },
  {
   "cell_type": "code",
   "execution_count": 6,
   "id": "c06c2e78-e737-4134-9379-eb8635028d94",
   "metadata": {},
   "outputs": [],
   "source": [
    "diggers = [Dig(line.split(' ')[0],int(line.split(' ')[1]),line.split(' ')[2][1:-1]) for line in lines]"
   ]
  },
  {
   "cell_type": "code",
   "execution_count": 7,
   "id": "a708e147-08df-41c2-acb8-d5482fbc5df3",
   "metadata": {},
   "outputs": [
    {
     "data": {
      "text/plain": [
       "634"
      ]
     },
     "execution_count": 7,
     "metadata": {},
     "output_type": "execute_result"
    }
   ],
   "source": [
    "len(diggers)"
   ]
  },
  {
   "cell_type": "code",
   "execution_count": 8,
   "id": "f3ee45aa-89f3-4946-89b5-913d698a4c29",
   "metadata": {},
   "outputs": [],
   "source": [
    "def get_next_corner(loc, digger):\n",
    "    ''' \n",
    "    calculate location of next corner from current location and next digger\n",
    "    return Point coordinate\n",
    "    '''\n",
    "    x, y = loc\n",
    "    dir, length, _ = digger\n",
    "    if dir=='R':\n",
    "        x+=length\n",
    "    elif dir=='L':\n",
    "        x-=length\n",
    "    elif dir=='U':\n",
    "        y-=length\n",
    "    else:\n",
    "        y+=length\n",
    "    return Point(x,y)"
   ]
  },
  {
   "cell_type": "code",
   "execution_count": 9,
   "id": "071d58f3-5256-495d-85b9-34e62e9f49bb",
   "metadata": {},
   "outputs": [],
   "source": [
    "def get_corners(diggers):\n",
    "    start = Point(0,0)\n",
    "    corners = [start]\n",
    "    curr_loc = start\n",
    "    for dig in diggers:\n",
    "        next_loc = get_next_corner(curr_loc, dig)\n",
    "        corners.append(next_loc)\n",
    "        curr_loc = next_loc\n",
    "    return corners"
   ]
  },
  {
   "cell_type": "code",
   "execution_count": 10,
   "id": "be6bd600-603c-4604-8f95-4c5b45242219",
   "metadata": {},
   "outputs": [],
   "source": [
    "corners = get_corners(diggers)"
   ]
  },
  {
   "cell_type": "code",
   "execution_count": 11,
   "id": "4a9541ea-c1d7-4ac0-b517-5ec3166f685a",
   "metadata": {},
   "outputs": [],
   "source": [
    "assert(corners[0]==corners[-1]) #  check that this is, indeed, a closed loop"
   ]
  },
  {
   "cell_type": "code",
   "execution_count": 12,
   "id": "926259ba-951e-4b2d-b947-16b3d62b7243",
   "metadata": {},
   "outputs": [],
   "source": [
    "def get_trench_length(corners):\n",
    "    length = 0\n",
    "    x0,y0 = corners[0]\n",
    "    for loc in corners:\n",
    "        x1,y1 = loc\n",
    "        length += abs(x1-x0)+abs(y1-y0)\n",
    "        x0,y0 = x1,y1\n",
    "    return length"
   ]
  },
  {
   "cell_type": "code",
   "execution_count": 13,
   "id": "edd37271-5dc2-4951-b422-63c092f7ad45",
   "metadata": {},
   "outputs": [
    {
     "data": {
      "text/plain": [
       "3090"
      ]
     },
     "execution_count": 13,
     "metadata": {},
     "output_type": "execute_result"
    }
   ],
   "source": [
    "trench_len = get_trench_length(corners)\n",
    "trench_len"
   ]
  },
  {
   "cell_type": "code",
   "execution_count": 14,
   "id": "5a0fbf14-7655-4bf8-9722-34951ed794b5",
   "metadata": {},
   "outputs": [],
   "source": [
    "def get_greens_value(corners):\n",
    "    _, y0 = corners[0]\n",
    "    total = 0\n",
    "    for loc in corners[1:]:\n",
    "        x1,y1 = loc\n",
    "        dy = y1-y0\n",
    "        total += x1*dy\n",
    "        y0=y1\n",
    "    return abs(total)"
   ]
  },
  {
   "cell_type": "code",
   "execution_count": 15,
   "id": "11f9e8f4-f863-45aa-ad29-9b6bdcb6f4f5",
   "metadata": {},
   "outputs": [
    {
     "data": {
      "text/plain": [
       "31945"
      ]
     },
     "execution_count": 15,
     "metadata": {},
     "output_type": "execute_result"
    }
   ],
   "source": [
    "greens = get_greens_value(corners)\n",
    "greens"
   ]
  },
  {
   "cell_type": "code",
   "execution_count": 16,
   "id": "94999ba0-a486-4db4-b38e-4fa9e9c74448",
   "metadata": {},
   "outputs": [
    {
     "data": {
      "text/plain": [
       "33491.0"
      ]
     },
     "execution_count": 16,
     "metadata": {},
     "output_type": "execute_result"
    }
   ],
   "source": [
    "area = greens + trench_len/2 + 1\n",
    "area"
   ]
  },
  {
   "cell_type": "code",
   "execution_count": null,
   "id": "8ecae743-7539-43d9-9400-f4027c49c0c6",
   "metadata": {},
   "outputs": [],
   "source": []
  }
 ],
 "metadata": {
  "kernelspec": {
   "display_name": "Python 3 (ipykernel)",
   "language": "python",
   "name": "python3"
  },
  "language_info": {
   "codemirror_mode": {
    "name": "ipython",
    "version": 3
   },
   "file_extension": ".py",
   "mimetype": "text/x-python",
   "name": "python",
   "nbconvert_exporter": "python",
   "pygments_lexer": "ipython3",
   "version": "3.8.12"
  }
 },
 "nbformat": 4,
 "nbformat_minor": 5
}
