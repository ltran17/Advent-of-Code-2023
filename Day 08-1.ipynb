{
 "cells": [
  {
   "cell_type": "markdown",
   "id": "38fa4ff6-d37b-42bd-9f1a-bbbe120243d1",
   "metadata": {},
   "source": [
    "# --- Day 8: Haunted Wasteland ---\n",
    "\n",
    "You're still riding a camel across Desert Island when you spot a sandstorm quickly approaching. When you turn to warn the Elf, she disappears before your eyes! To be fair, she had just finished warning you about ghosts a few minutes ago.\n",
    "\n",
    "One of the camel's pouches is labeled \"maps\" - sure enough, it's full of documents (your puzzle input) about how to navigate the desert. At least, you're pretty sure that's what they are; one of the documents contains a list of left/right instructions, and the rest of the documents seem to describe some kind of network of labeled nodes.\n",
    "\n",
    "It seems like you're meant to use the left/right instructions to navigate the network. Perhaps if you have the camel follow the same instructions, you can escape the haunted wasteland!\n",
    "\n",
    "After examining the maps for a bit, two nodes stick out: AAA and ZZZ. You feel like AAA is where you are now, and you have to follow the left/right instructions until you reach ZZZ.\n",
    "\n",
    "This format defines each node of the network individually. For example:\n",
    "```\n",
    "RL\n",
    "\n",
    "AAA = (BBB, CCC)\n",
    "BBB = (DDD, EEE)\n",
    "CCC = (ZZZ, GGG)\n",
    "DDD = (DDD, DDD)\n",
    "EEE = (EEE, EEE)\n",
    "GGG = (GGG, GGG)\n",
    "ZZZ = (ZZZ, ZZZ)\n",
    "```\n",
    "Starting with AAA, you need to look up the next element based on the next left/right instruction in your input. In this example, start with AAA and go right (R) by choosing the right element of AAA, CCC. Then, L means to choose the left element of CCC, ZZZ. By following the left/right instructions, you reach ZZZ in 2 steps.\n",
    "\n",
    "Of course, you might not find ZZZ right away. If you run out of left/right instructions, repeat the whole sequence of instructions as necessary: RL really means RLRLRLRLRLRLRLRL... and so on. For example, here is a situation that takes 6 steps to reach ZZZ:\n",
    "```\n",
    "LLR\n",
    "\n",
    "AAA = (BBB, BBB)\n",
    "BBB = (AAA, ZZZ)\n",
    "ZZZ = (ZZZ, ZZZ)\n",
    "```\n",
    "Starting at AAA, follow the left/right instructions. **How many steps are required to reach ZZZ?**"
   ]
  },
  {
   "cell_type": "code",
   "execution_count": 1,
   "id": "06dec69b-0002-4015-94ce-7b06307d3a1e",
   "metadata": {},
   "outputs": [],
   "source": [
    "from utilities import get_lines"
   ]
  },
  {
   "cell_type": "code",
   "execution_count": 2,
   "id": "297b98ea-252f-485b-98e7-c72d6623f10a",
   "metadata": {},
   "outputs": [],
   "source": [
    "lines = get_lines('input')"
   ]
  },
  {
   "cell_type": "code",
   "execution_count": 3,
   "id": "514fd9c1-e1d4-4de1-b298-7d8bd111408b",
   "metadata": {},
   "outputs": [
    {
     "data": {
      "text/plain": [
       "792"
      ]
     },
     "execution_count": 3,
     "metadata": {},
     "output_type": "execute_result"
    }
   ],
   "source": [
    "len(lines)"
   ]
  },
  {
   "cell_type": "code",
   "execution_count": 4,
   "id": "b25a5908-1fc7-48ed-b964-236ebe623cd4",
   "metadata": {},
   "outputs": [],
   "source": [
    "from collections import namedtuple"
   ]
  },
  {
   "cell_type": "code",
   "execution_count": 5,
   "id": "58ffbffb-5238-4548-9833-94ca0e76e933",
   "metadata": {},
   "outputs": [],
   "source": [
    "dirs = namedtuple('Dirs','L R')"
   ]
  },
  {
   "cell_type": "code",
   "execution_count": 6,
   "id": "ecc60737-0265-438f-ac88-8f4111e339b6",
   "metadata": {},
   "outputs": [],
   "source": [
    "directions = lines[0]\n",
    "nodes = {line[:3]: dirs(line[7:10],line[12:15]) for line in lines[2:]}"
   ]
  },
  {
   "cell_type": "code",
   "execution_count": 7,
   "id": "583fdc17-3005-484d-aa35-6bf52ea3418f",
   "metadata": {},
   "outputs": [],
   "source": [
    "# nodes"
   ]
  },
  {
   "cell_type": "code",
   "execution_count": 8,
   "id": "a61e41fb-b5a0-4a63-a869-849e7c8967de",
   "metadata": {},
   "outputs": [
    {
     "name": "stdout",
     "output_type": "stream",
     "text": [
      "20569\n"
     ]
    }
   ],
   "source": [
    "source = nodes['AAA']\n",
    "count = 0\n",
    "\n",
    "dirs_len = len(directions)\n",
    "while source != nodes['ZZZ']:\n",
    "    d = directions[count%dirs_len]\n",
    "    if d == 'L':\n",
    "        dest = source.L\n",
    "    else:\n",
    "        dest = source.R\n",
    "    # print(f'source {source} -> {d} -> dest {dest}')\n",
    "    source = nodes[dest]\n",
    "    count+=1\n",
    "print(count)\n",
    "    "
   ]
  },
  {
   "cell_type": "code",
   "execution_count": null,
   "id": "9c771f46-cdc1-43aa-af77-5d4651ee53f5",
   "metadata": {},
   "outputs": [],
   "source": []
  }
 ],
 "metadata": {
  "kernelspec": {
   "display_name": "Python 3 (ipykernel)",
   "language": "python",
   "name": "python3"
  },
  "language_info": {
   "codemirror_mode": {
    "name": "ipython",
    "version": 3
   },
   "file_extension": ".py",
   "mimetype": "text/x-python",
   "name": "python",
   "nbconvert_exporter": "python",
   "pygments_lexer": "ipython3",
   "version": "3.10.8"
  }
 },
 "nbformat": 4,
 "nbformat_minor": 5
}
