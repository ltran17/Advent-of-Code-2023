{
 "cells": [
  {
   "cell_type": "markdown",
   "id": "cf358792-4754-4870-9479-f9b6e491c3fc",
   "metadata": {},
   "source": [
    "# --- Day 24: Never Tell Me The Odds ---\n",
    "It seems like something is going wrong with the snow-making process. Instead of forming snow, the water that's been absorbed into the air seems to be forming hail!\n",
    "\n",
    "Maybe there's something you can do to break up the hailstones?\n",
    "\n",
    "Due to strong, probably-magical winds, the hailstones are all flying through the air in perfectly linear trajectories. You make a note of each hailstone's position and velocity (your puzzle input). For example:\n",
    "```\n",
    "19, 13, 30 @ -2,  1, -2\n",
    "18, 19, 22 @ -1, -1, -2\n",
    "20, 25, 34 @ -2, -2, -4\n",
    "12, 31, 28 @ -1, -2, -1\n",
    "20, 19, 15 @  1, -5, -3\n",
    "```\n",
    "Each line of text corresponds to the position and velocity of a single hailstone. The positions indicate where the hailstones are right now (at time 0). The velocities are constant and indicate exactly how far each hailstone will move in one nanosecond.\n",
    "\n",
    "Each line of text uses the format px py pz @ vx vy vz. For instance, the hailstone specified by 20, 19, 15 @ 1, -5, -3 has initial X position 20, Y position 19, Z position 15, X velocity 1, Y velocity -5, and Z velocity -3. After one nanosecond, the hailstone would be at 21, 14, 12.\n",
    "\n",
    "Perhaps you won't have to do anything. How likely are the hailstones to collide with each other and smash into tiny ice crystals?\n",
    "\n",
    "To estimate this, consider only the X and Y axes; ignore the Z axis. Looking forward in time, how many of the hailstones' paths will intersect within a test area? (The hailstones themselves don't have to collide, just test for intersections between the paths they will trace.)\n",
    "\n",
    "In this example, look for intersections that happen with an X and Y position each at least 7 and at most 27; in your actual data, you'll need to check a much larger test area. Comparing all pairs of hailstones' future paths produces the following results:\n",
    "```\n",
    "Hailstone A: 19, 13, 30 @ -2, 1, -2\n",
    "Hailstone B: 18, 19, 22 @ -1, -1, -2\n",
    "Hailstones' paths will cross inside the test area (at x=14.333, y=15.333).\n",
    "\n",
    "Hailstone A: 19, 13, 30 @ -2, 1, -2\n",
    "Hailstone B: 20, 25, 34 @ -2, -2, -4\n",
    "Hailstones' paths will cross inside the test area (at x=11.667, y=16.667).\n",
    "\n",
    "Hailstone A: 19, 13, 30 @ -2, 1, -2\n",
    "Hailstone B: 12, 31, 28 @ -1, -2, -1\n",
    "Hailstones' paths will cross outside the test area (at x=6.2, y=19.4).\n",
    "\n",
    "Hailstone A: 19, 13, 30 @ -2, 1, -2\n",
    "Hailstone B: 20, 19, 15 @ 1, -5, -3\n",
    "Hailstones' paths crossed in the past for hailstone A.\n",
    "\n",
    "Hailstone A: 18, 19, 22 @ -1, -1, -2\n",
    "Hailstone B: 20, 25, 34 @ -2, -2, -4\n",
    "Hailstones' paths are parallel; they never intersect.\n",
    "\n",
    "Hailstone A: 18, 19, 22 @ -1, -1, -2\n",
    "Hailstone B: 12, 31, 28 @ -1, -2, -1\n",
    "Hailstones' paths will cross outside the test area (at x=-6, y=-5).\n",
    "\n",
    "Hailstone A: 18, 19, 22 @ -1, -1, -2\n",
    "Hailstone B: 20, 19, 15 @ 1, -5, -3\n",
    "Hailstones' paths crossed in the past for both hailstones.\n",
    "\n",
    "Hailstone A: 20, 25, 34 @ -2, -2, -4\n",
    "Hailstone B: 12, 31, 28 @ -1, -2, -1\n",
    "Hailstones' paths will cross outside the test area (at x=-2, y=3).\n",
    "\n",
    "Hailstone A: 20, 25, 34 @ -2, -2, -4\n",
    "Hailstone B: 20, 19, 15 @ 1, -5, -3\n",
    "Hailstones' paths crossed in the past for hailstone B.\n",
    "\n",
    "Hailstone A: 12, 31, 28 @ -1, -2, -1\n",
    "Hailstone B: 20, 19, 15 @ 1, -5, -3\n",
    "Hailstones' paths crossed in the past for both hailstones.\n",
    "```\n",
    "So, in this example, 2 hailstones' future paths cross inside the boundaries of the test area.\n",
    "\n",
    "However, you'll need to search a much larger test area if you want to see if any hailstones might collide. Look for intersections that happen with an X and Y position each at least 200000000000000 and at most 400000000000000. Disregard the Z axis entirely.\n",
    "\n",
    "Considering only the X and Y axes, check all pairs of hailstones' future paths for intersections. How many of these intersections occur within the test area?"
   ]
  },
  {
   "cell_type": "code",
   "execution_count": 27,
   "id": "b40ede74-8ed4-4ac2-b871-737e67e5fd1c",
   "metadata": {},
   "outputs": [],
   "source": [
    "from utilities import get_lines\n",
    "from collections import namedtuple\n",
    "from itertools import combinations"
   ]
  },
  {
   "cell_type": "code",
   "execution_count": 2,
   "id": "c46bcc0a-dc67-4460-966a-cd333f00f478",
   "metadata": {},
   "outputs": [],
   "source": [
    "SOURCE = 'sample'"
   ]
  },
  {
   "cell_type": "code",
   "execution_count": 3,
   "id": "115f2753-1e3f-4ee1-90e3-b57450c644bb",
   "metadata": {},
   "outputs": [],
   "source": [
    "lines = get_lines(SOURCE)\n",
    "if SOURCE == 'input':\n",
    "    MIN, MAX = 200000000000000, 400000000000000\n",
    "else:\n",
    "    MIN, MAX = 7, 27"
   ]
  },
  {
   "cell_type": "code",
   "execution_count": 4,
   "id": "5203cdda-7964-4ca5-bd51-fd7ec46be2d1",
   "metadata": {},
   "outputs": [
    {
     "data": {
      "text/plain": [
       "'19, 13, 30 @ -2,  1, -2'"
      ]
     },
     "execution_count": 4,
     "metadata": {},
     "output_type": "execute_result"
    }
   ],
   "source": [
    "lines[0]"
   ]
  },
  {
   "cell_type": "code",
   "execution_count": 5,
   "id": "8b77ba3e-27d1-4703-bf96-0fb5bfbca67b",
   "metadata": {},
   "outputs": [
    {
     "data": {
      "text/plain": [
       "5"
      ]
     },
     "execution_count": 5,
     "metadata": {},
     "output_type": "execute_result"
    }
   ],
   "source": [
    "len(lines)"
   ]
  },
  {
   "cell_type": "code",
   "execution_count": 6,
   "id": "26098870-1096-42e1-a548-917c523ff7d5",
   "metadata": {},
   "outputs": [],
   "source": [
    "Hail = namedtuple('Hail', 'x y z dx dy dz b m')"
   ]
  },
  {
   "cell_type": "code",
   "execution_count": 7,
   "id": "0438c978-5883-461a-b376-21dc82ca5024",
   "metadata": {},
   "outputs": [],
   "source": [
    "def get_b(x, y, dx, dy):\n",
    "    b = y-(dy/dx)*x\n",
    "    return b"
   ]
  },
  {
   "cell_type": "code",
   "execution_count": 8,
   "id": "799593d4-4639-44fe-948f-e4b75c0b88e6",
   "metadata": {},
   "outputs": [
    {
     "data": {
      "text/plain": [
       "22.5"
      ]
     },
     "execution_count": 8,
     "metadata": {},
     "output_type": "execute_result"
    }
   ],
   "source": [
    "get_b(19,13,-2,1)"
   ]
  },
  {
   "cell_type": "code",
   "execution_count": 9,
   "id": "81604f80-e2c4-4d5d-95e2-39337d9a4854",
   "metadata": {},
   "outputs": [],
   "source": [
    "def initialize(lines):\n",
    "    hailstorm = list()\n",
    "    for line in lines:\n",
    "        pt, vel = line.split('@')\n",
    "        p = [int(p.strip()) for p in pt.split(',')]\n",
    "        v = [int(v.strip()) for v in vel.split(',')]\n",
    "        b = get_b(p[0],p[1],v[0],v[1])\n",
    "        m = v[1]/v[0]\n",
    "        hailstorm.append(Hail(*p,*v,b,m))\n",
    "    return hailstorm"
   ]
  },
  {
   "cell_type": "code",
   "execution_count": 10,
   "id": "4f3a105b-c87c-4196-afdd-fe4bf7d0295a",
   "metadata": {},
   "outputs": [],
   "source": [
    "def is_valid(hail):\n",
    "    if (hail.x > MAX)&(hail.dx>=0):\n",
    "        return False\n",
    "    if (hail.y > MAX)&(hail.dy>=0):\n",
    "        return False\n",
    "    if (hail.x < MIN)&(hail.dx<=0):\n",
    "        return False\n",
    "    if (hail.y < MIN)&(hail.dy<=0):\n",
    "        return False\n",
    "    return True"
   ]
  },
  {
   "cell_type": "code",
   "execution_count": 11,
   "id": "8e13420c-f951-4ded-b1ab-6186ac9a4041",
   "metadata": {},
   "outputs": [],
   "source": [
    "def get_valid_hail(hailstorm):\n",
    "    for hail in hailstorm:\n",
    "        if is_valid(hail)==False:\n",
    "            hailstorm.remove(hail)\n",
    "    return hailstorm"
   ]
  },
  {
   "cell_type": "code",
   "execution_count": 12,
   "id": "7c63b040-b8c9-43cd-87aa-34b04e8b4297",
   "metadata": {},
   "outputs": [
    {
     "name": "stdout",
     "output_type": "stream",
     "text": [
      "5\n"
     ]
    }
   ],
   "source": [
    "hailstorm = initialize(lines)\n",
    "print(len(hailstorm))\n",
    "# hailstorm = get_valid_hail(hailstorm)\n",
    "# print(len(hailstorm))"
   ]
  },
  {
   "cell_type": "code",
   "execution_count": 13,
   "id": "c757fde9-8817-44bd-a078-e8bc3ec401c4",
   "metadata": {},
   "outputs": [],
   "source": [
    "def get_x(hail0, hail1):\n",
    "    if hail0.m==hail1.m:\n",
    "        return float('inf')\n",
    "    x = (hail1.b-hail0.b)/(hail0.m-hail1.m)\n",
    "    return x"
   ]
  },
  {
   "cell_type": "code",
   "execution_count": 14,
   "id": "d13eaff9-352f-4451-991c-75beb0485fb9",
   "metadata": {},
   "outputs": [],
   "source": [
    "def get_xy(hail0, hail1):\n",
    "    x = get_x(hail0, hail1)\n",
    "    y = hail0.m*x + hail0.b\n",
    "    return x, y"
   ]
  },
  {
   "cell_type": "code",
   "execution_count": 28,
   "id": "b794fa6d-7e85-4b38-b563-fd100e7f8094",
   "metadata": {},
   "outputs": [
    {
     "data": {
      "text/plain": [
       "10"
      ]
     },
     "execution_count": 28,
     "metadata": {},
     "output_type": "execute_result"
    }
   ],
   "source": [
    "hail_pairs = list(combinations(hailstorm,2))\n",
    "len(hail_pairs)"
   ]
  },
  {
   "cell_type": "code",
   "execution_count": 29,
   "id": "b6803474-67a9-4173-a924-ccc30ab19580",
   "metadata": {},
   "outputs": [],
   "source": [
    "def get_intersection(hail_pair):\n",
    "    h0, h1 = hail_pair\n",
    "    return get_xy(h0, h1)   "
   ]
  },
  {
   "cell_type": "code",
   "execution_count": 30,
   "id": "b3d29f42-05f6-4fa4-84b5-634c14a64da3",
   "metadata": {},
   "outputs": [],
   "source": [
    "def check_intersection(x,y):\n",
    "    if (x>=MIN)&(x<=MAX)&(y>=MIN)&(y<=MAX):\n",
    "        return True\n",
    "    return False"
   ]
  },
  {
   "cell_type": "code",
   "execution_count": 31,
   "id": "b6a45809-9a27-43f7-9bc2-ff0329136f61",
   "metadata": {},
   "outputs": [
    {
     "name": "stdout",
     "output_type": "stream",
     "text": [
      "(14.333333333333334, 15.333333333333332)\n",
      "True\n"
     ]
    }
   ],
   "source": [
    "print(get_intersection(hail_pairs[0]))\n",
    "print(check_intersection(*get_intersection(hail_pairs[0])))"
   ]
  },
  {
   "cell_type": "markdown",
   "id": "2758651f-aaa1-4c49-8427-0f193a90f321",
   "metadata": {},
   "source": [
    "Note to self: you too many! intersections in the past are still here."
   ]
  },
  {
   "cell_type": "code",
   "execution_count": 32,
   "id": "51ab4be8-c89c-409e-9062-87a83c46f7b3",
   "metadata": {},
   "outputs": [
    {
     "name": "stdout",
     "output_type": "stream",
     "text": [
      "(Hail(x=19, y=13, z=30, dx=-2, dy=1, dz=-2, b=22.5, m=-0.5), Hail(x=18, y=19, z=22, dx=-1, dy=-1, dz=-2, b=1.0, m=1.0))\n",
      "14.333333333333334 15.333333333333332 \n",
      "\n",
      "(Hail(x=19, y=13, z=30, dx=-2, dy=1, dz=-2, b=22.5, m=-0.5), Hail(x=20, y=25, z=34, dx=-2, dy=-2, dz=-4, b=5.0, m=1.0))\n",
      "11.666666666666666 16.666666666666668 \n",
      "\n",
      "(Hail(x=19, y=13, z=30, dx=-2, dy=1, dz=-2, b=22.5, m=-0.5), Hail(x=20, y=19, z=15, dx=1, dy=-5, dz=-3, b=119.0, m=-5.0))\n",
      "21.444444444444443 11.777777777777779 \n",
      "\n",
      "(Hail(x=18, y=19, z=22, dx=-1, dy=-1, dz=-2, b=1.0, m=1.0), Hail(x=20, y=19, z=15, dx=1, dy=-5, dz=-3, b=119.0, m=-5.0))\n",
      "19.666666666666668 20.666666666666668 \n",
      "\n",
      "(Hail(x=20, y=25, z=34, dx=-2, dy=-2, dz=-4, b=5.0, m=1.0), Hail(x=20, y=19, z=15, dx=1, dy=-5, dz=-3, b=119.0, m=-5.0))\n",
      "19.0 24.0 \n",
      "\n"
     ]
    },
    {
     "data": {
      "text/plain": [
       "5"
      ]
     },
     "execution_count": 32,
     "metadata": {},
     "output_type": "execute_result"
    }
   ],
   "source": [
    "intersecting_pairs = list()\n",
    "for pair in hail_pairs:\n",
    "    x, y = get_intersection(pair)\n",
    "    if check_intersection(x,y):\n",
    "        intersecting_pairs.append(pair)\n",
    "        print(pair)\n",
    "        print(x,y,'\\n')\n",
    "len(intersecting_pairs)"
   ]
  },
  {
   "cell_type": "code",
   "execution_count": null,
   "id": "073483af-bfd1-4b3e-92ab-0f54b44521e6",
   "metadata": {},
   "outputs": [],
   "source": []
  }
 ],
 "metadata": {
  "kernelspec": {
   "display_name": "Python 3 (ipykernel)",
   "language": "python",
   "name": "python3"
  },
  "language_info": {
   "codemirror_mode": {
    "name": "ipython",
    "version": 3
   },
   "file_extension": ".py",
   "mimetype": "text/x-python",
   "name": "python",
   "nbconvert_exporter": "python",
   "pygments_lexer": "ipython3",
   "version": "3.8.12"
  }
 },
 "nbformat": 4,
 "nbformat_minor": 5
}
