{
 "cells": [
  {
   "cell_type": "markdown",
   "id": "1fd246a9-a696-4631-9e9d-8f6d54b146cf",
   "metadata": {},
   "source": [
    "# --- Part Two ---\n",
    "The Elves were right to be concerned; the planned lagoon would be much too small.\n",
    "\n",
    "After a few minutes, someone realizes what happened; someone swapped the color and instruction parameters when producing the dig plan. They don't have time to fix the bug; one of them asks if you can extract the correct instructions from the hexadecimal codes.\n",
    "\n",
    "Each hexadecimal code is six hexadecimal digits long. The first five hexadecimal digits encode the distance in meters as a five-digit hexadecimal number. The last hexadecimal digit encodes the direction to dig: 0 means R, 1 means D, 2 means L, and 3 means U.\n",
    "\n",
    "So, in the above example, the hexadecimal codes can be converted into the true instructions:\n",
    "```\n",
    "#70c710 = R 461937\n",
    "#0dc571 = D 56407\n",
    "#5713f0 = R 356671\n",
    "#d2c081 = D 863240\n",
    "#59c680 = R 367720\n",
    "#411b91 = D 266681\n",
    "#8ceee2 = L 577262\n",
    "#caa173 = U 829975\n",
    "#1b58a2 = L 112010\n",
    "#caa171 = D 829975\n",
    "#7807d2 = L 491645\n",
    "#a77fa3 = U 686074\n",
    "#015232 = L 5411\n",
    "#7a21e3 = U 500254\n",
    "```\n",
    "\n",
    "Digging out this loop and its interior produces a lagoon that can hold an impressive 952408144115 cubic meters of lava.\n",
    "\n",
    "**Convert the hexadecimal color codes into the correct instructions; if the Elves follow this new dig plan, how many cubic meters of lava could the lagoon hold?**"
   ]
  },
  {
   "cell_type": "code",
   "execution_count": 1,
   "id": "7ac07edc-763d-4745-afba-ad7d2fe57d85",
   "metadata": {},
   "outputs": [],
   "source": [
    "from utilities import get_lines"
   ]
  },
  {
   "cell_type": "code",
   "execution_count": 2,
   "id": "373dbad3-6be3-4439-b8d6-fd08d0b61359",
   "metadata": {},
   "outputs": [],
   "source": [
    "lines = get_lines('input', 18)"
   ]
  },
  {
   "cell_type": "code",
   "execution_count": 3,
   "id": "2e563d11-16a9-4748-80aa-6633016a75fe",
   "metadata": {},
   "outputs": [],
   "source": [
    "from collections import namedtuple"
   ]
  },
  {
   "cell_type": "markdown",
   "id": "b587107e-354d-4988-9d8e-57f91b7bd15a",
   "metadata": {},
   "source": [
    "0 means R, 1 means D, 2 means L, and 3 means U."
   ]
  },
  {
   "cell_type": "code",
   "execution_count": 4,
   "id": "e557db7d-3fd2-4469-817e-d9e8ee43e95a",
   "metadata": {},
   "outputs": [],
   "source": [
    "dirs = {0:'R',1:'D',2:'L',3:'U'}"
   ]
  },
  {
   "cell_type": "code",
   "execution_count": 5,
   "id": "3a298771-57bd-47b8-a07a-d7faea1fe532",
   "metadata": {},
   "outputs": [],
   "source": [
    "Dig = namedtuple('Dig', 'dir len color')"
   ]
  },
  {
   "cell_type": "code",
   "execution_count": 6,
   "id": "23e826ca-d0bd-40a8-b6bb-32a28b452305",
   "metadata": {},
   "outputs": [
    {
     "data": {
      "text/plain": [
       "634"
      ]
     },
     "execution_count": 6,
     "metadata": {},
     "output_type": "execute_result"
    }
   ],
   "source": [
    "diggers = [Dig(dirs[int(line[-2])],int(line.split('#')[1][:-2],16),'')for line in lines]\n",
    "len(diggers)"
   ]
  },
  {
   "cell_type": "code",
   "execution_count": 7,
   "id": "ec84df21-2f5f-4ab3-803d-096c63082b20",
   "metadata": {},
   "outputs": [],
   "source": [
    "Point = namedtuple('Point', 'x y')"
   ]
  },
  {
   "cell_type": "code",
   "execution_count": 8,
   "id": "61cf014d-f8ff-4baf-aab6-77c15fa977e7",
   "metadata": {},
   "outputs": [],
   "source": [
    "def get_next_corner(loc, digger):\n",
    "    ''' \n",
    "    calculate location of next corner from current location and next digger\n",
    "    return Point coordinate\n",
    "    '''\n",
    "    x, y = loc\n",
    "    dir, length, _ = digger\n",
    "    if dir=='R':\n",
    "        x+=length\n",
    "    elif dir=='L':\n",
    "        x-=length\n",
    "    elif dir=='U':\n",
    "        y-=length\n",
    "    else:\n",
    "        y+=length\n",
    "    return Point(x,y)"
   ]
  },
  {
   "cell_type": "code",
   "execution_count": 9,
   "id": "72cb6a0a-0866-4a8a-b864-c7da3fbc0317",
   "metadata": {},
   "outputs": [],
   "source": [
    "def get_corners(diggers):\n",
    "    start = Point(0,0)\n",
    "    corners = [start]\n",
    "    curr_loc = start\n",
    "    for dig in diggers:\n",
    "        next_loc = get_next_corner(curr_loc, dig)\n",
    "        corners.append(next_loc)\n",
    "        curr_loc = next_loc\n",
    "    return corners"
   ]
  },
  {
   "cell_type": "code",
   "execution_count": 10,
   "id": "e870d923-8079-4ab9-936a-02df43517bc2",
   "metadata": {},
   "outputs": [],
   "source": [
    "corners = get_corners(diggers)"
   ]
  },
  {
   "cell_type": "code",
   "execution_count": 11,
   "id": "69934aea-fab3-406c-a406-bc9113a66881",
   "metadata": {},
   "outputs": [],
   "source": [
    "assert(corners[0]==corners[-1]) #  check that this is, indeed, a closed loop"
   ]
  },
  {
   "cell_type": "code",
   "execution_count": 12,
   "id": "60852af5-447a-4128-a23d-8afdae857eb7",
   "metadata": {},
   "outputs": [
    {
     "data": {
      "text/plain": [
       "(Point(x=0, y=0), Point(x=0, y=0))"
      ]
     },
     "execution_count": 12,
     "metadata": {},
     "output_type": "execute_result"
    }
   ],
   "source": [
    "corners[0], corners[-1]"
   ]
  },
  {
   "cell_type": "code",
   "execution_count": null,
   "id": "4792bd49-3ed6-4b58-9aaf-0222d42c0986",
   "metadata": {},
   "outputs": [],
   "source": []
  },
  {
   "cell_type": "code",
   "execution_count": null,
   "id": "1d136b6e-4626-464a-9743-f95fd311b00b",
   "metadata": {},
   "outputs": [],
   "source": []
  },
  {
   "cell_type": "code",
   "execution_count": 13,
   "id": "b1f00127-2841-4a1e-aedb-935abd0139ab",
   "metadata": {},
   "outputs": [],
   "source": [
    "def get_trench_length(corners):\n",
    "    length = 0\n",
    "    x0,y0 = corners[0]\n",
    "    for loc in corners:\n",
    "        x1,y1 = loc\n",
    "        length += abs(x1-x0)+abs(y1-y0)\n",
    "        x0,y0 = x1,y1\n",
    "    return length"
   ]
  },
  {
   "cell_type": "code",
   "execution_count": 14,
   "id": "e1d68696-39e5-44bd-bb38-479c5cc9289f",
   "metadata": {},
   "outputs": [
    {
     "data": {
      "text/plain": [
       "187404152"
      ]
     },
     "execution_count": 14,
     "metadata": {},
     "output_type": "execute_result"
    }
   ],
   "source": [
    "trench_len = get_trench_length(corners)\n",
    "trench_len"
   ]
  },
  {
   "cell_type": "code",
   "execution_count": 15,
   "id": "a373c626-25c5-40da-a8a5-2c365a62849d",
   "metadata": {},
   "outputs": [],
   "source": [
    "def get_greens_value(corners):\n",
    "    _, y0 = corners[0]\n",
    "    total = 0\n",
    "    for loc in corners[1:]:\n",
    "        x1,y1 = loc\n",
    "        dy = y1-y0\n",
    "        total += x1*dy\n",
    "        y0=y1\n",
    "    return abs(total)"
   ]
  },
  {
   "cell_type": "code",
   "execution_count": 16,
   "id": "7134bc3e-be5b-43e5-a93f-62574fbef387",
   "metadata": {},
   "outputs": [
    {
     "data": {
      "text/plain": [
       "87716875952329"
      ]
     },
     "execution_count": 16,
     "metadata": {},
     "output_type": "execute_result"
    }
   ],
   "source": [
    "greens = get_greens_value(corners)\n",
    "greens"
   ]
  },
  {
   "cell_type": "code",
   "execution_count": 17,
   "id": "497b61ce-4fba-44ad-9af9-acd2219fb6cb",
   "metadata": {},
   "outputs": [
    {
     "data": {
      "text/plain": [
       "87716969654406"
      ]
     },
     "execution_count": 17,
     "metadata": {},
     "output_type": "execute_result"
    }
   ],
   "source": [
    "area = int(greens + trench_len/2 + 1)\n",
    "area"
   ]
  },
  {
   "cell_type": "code",
   "execution_count": null,
   "id": "384430a9-04b1-46f6-8bfe-89f999b6e2b8",
   "metadata": {},
   "outputs": [],
   "source": []
  }
 ],
 "metadata": {
  "kernelspec": {
   "display_name": "Python 3 (ipykernel)",
   "language": "python",
   "name": "python3"
  },
  "language_info": {
   "codemirror_mode": {
    "name": "ipython",
    "version": 3
   },
   "file_extension": ".py",
   "mimetype": "text/x-python",
   "name": "python",
   "nbconvert_exporter": "python",
   "pygments_lexer": "ipython3",
   "version": "3.8.12"
  }
 },
 "nbformat": 4,
 "nbformat_minor": 5
}
