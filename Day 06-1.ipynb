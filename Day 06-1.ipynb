{
 "cells": [
  {
   "cell_type": "markdown",
   "id": "86f5c654-12f6-40bc-9dae-e8f2274b97ee",
   "metadata": {},
   "source": [
    "# --- Day 6: Wait For It ---\n",
    "\n",
    "The ferry quickly brings you across Island Island. After asking around, you discover that there is indeed normally a large pile of sand somewhere near here, but you don't see anything besides lots of water and the small island where the ferry has docked.\n",
    "\n",
    "As you try to figure out what to do next, you notice a poster on a wall near the ferry dock. \"Boat races! Open to the public! Grand prize is an all-expenses-paid trip to Desert Island!\" That must be where the sand comes from! Best of all, the boat races are starting in just a few minutes.\n",
    "\n",
    "You manage to sign up as a competitor in the boat races just in time. The organizer explains that it's not really a traditional race - instead, you will get a fixed amount of time during which your boat has to travel as far as it can, and you win if your boat goes the farthest.\n",
    "\n",
    "As part of signing up, you get a sheet of paper (your puzzle input) that lists the time allowed for each race and also the best distance ever recorded in that race. To guarantee you win the grand prize, you need to make sure you go farther in each race than the current record holder.\n",
    "\n",
    "The organizer brings you over to the area where the boat races are held. The boats are much smaller than you expected - they're actually toy boats, each with a big button on top. Holding down the button charges the boat, and releasing the button allows the boat to move. Boats move faster if their button was held longer, but time spent holding the button counts against the total race time. You can only hold the button at the start of the race, and boats don't move until the button is released.\n",
    "\n",
    "For example:\n",
    "```\n",
    "Time:      7  15   30\n",
    "Distance:  9  40  200\n",
    "```\n",
    "This document describes three races:\n",
    "\n",
    "The first race lasts 7 milliseconds. The record distance in this race is 9 millimeters.\n",
    "\n",
    "The second race lasts 15 milliseconds. The record distance in this race is 40 millimeters.\n",
    "\n",
    "The third race lasts 30 milliseconds. The record distance in this race is 200 millimeters.\n",
    "\n",
    "Your toy boat has a starting speed of zero millimeters per millisecond. For each whole millisecond you spend at the beginning of the race holding down the button, the boat's speed increases by one millimeter per millisecond.\n",
    "\n",
    "So, because the first race lasts 7 milliseconds, you only have a few options:\n",
    "\n",
    "Don't hold the button at all (that is, hold it for 0 milliseconds) at the start of the race. The boat won't move; it will have traveled 0 millimeters by the end of the race.\n",
    "\n",
    "Hold the button for 1 millisecond at the start of the race. Then, the boat will travel at a speed of 1 millimeter per millisecond for 6 milliseconds, reaching a total distance traveled of 6 millimeters.\n",
    "\n",
    "Hold the button for 2 milliseconds, giving the boat a speed of 2 millimeters per millisecond. It will then get 5 milliseconds to move, reaching a total distance of 10 millimeters.\n",
    "\n",
    "Hold the button for 3 milliseconds. After its remaining 4 milliseconds of travel time, the boat will have gone 12 millimeters.\n",
    "\n",
    "Hold the button for 4 milliseconds. After its remaining 3 milliseconds of travel time, the boat will have gone 12 millimeters.\n",
    "\n",
    "Hold the button for 5 milliseconds, causing the boat to travel a total of 10 millimeters.\n",
    "\n",
    "Hold the button for 6 milliseconds, causing the boat to travel a total of 6 millimeters.\n",
    "\n",
    "Hold the button for 7 milliseconds. That's the entire duration of the race. You never let go of the button. The boat can't move until you let go of the button. Please make sure you let go of the button so the boat gets to move. 0 millimeters.\n",
    "\n",
    "Since the current record for this race is 9 millimeters, there are actually 4 different ways you could win: you could hold the button for 2, 3, 4, or 5 milliseconds at the start of the race.\n",
    "\n",
    "In the second race, you could hold the button for at least 4 milliseconds and at most 11 milliseconds and beat the record, a total of 8 different ways to win.\n",
    "\n",
    "In the third race, you could hold the button for at least 11 milliseconds and no more than 19 milliseconds and still beat the record, a total of 9 ways you could win.\n",
    "\n",
    "**To see how much margin of error you have, determine the number of ways you can beat the record in each race; in this example, if you multiply these values together, you get 288 (4 * 8 * 9).**\n",
    "\n",
    "**Determine the number of ways you could beat the record in each race. What do you get if you multiply these numbers together?**"
   ]
  },
  {
   "cell_type": "code",
   "execution_count": 1,
   "id": "e2425c2a-66f4-4f49-8a12-7c0c3620eeb1",
   "metadata": {},
   "outputs": [],
   "source": [
    "from utilities import get_lines"
   ]
  },
  {
   "cell_type": "code",
   "execution_count": 2,
   "id": "240a8b98-9413-456d-b2b2-2769371d698f",
   "metadata": {},
   "outputs": [],
   "source": [
    "lines = get_lines('input')"
   ]
  },
  {
   "cell_type": "code",
   "execution_count": 3,
   "id": "87bc36c0-81e5-43f5-864c-2dc7c3653918",
   "metadata": {},
   "outputs": [
    {
     "data": {
      "text/plain": [
       "['Time:        48     98     90     83',\n",
       " 'Distance:   390   1103   1112   1360']"
      ]
     },
     "execution_count": 3,
     "metadata": {},
     "output_type": "execute_result"
    }
   ],
   "source": [
    "lines"
   ]
  },
  {
   "cell_type": "code",
   "execution_count": 4,
   "id": "91a73c46-8009-4f31-b8be-db1b1e5e5429",
   "metadata": {},
   "outputs": [
    {
     "data": {
      "text/plain": [
       "[48, 98, 90, 83]"
      ]
     },
     "execution_count": 4,
     "metadata": {},
     "output_type": "execute_result"
    }
   ],
   "source": [
    "times = lines[0].split(':')[1].strip().split(' ')\n",
    "times = [int(value) for value in times if len(value)>0]\n",
    "times"
   ]
  },
  {
   "cell_type": "code",
   "execution_count": 5,
   "id": "49876c09-efbf-4e4a-a5c8-e54ce08ae73c",
   "metadata": {},
   "outputs": [
    {
     "data": {
      "text/plain": [
       "[390, 1103, 1112, 1360]"
      ]
     },
     "execution_count": 5,
     "metadata": {},
     "output_type": "execute_result"
    }
   ],
   "source": [
    "distances = lines[1].split(':')[1].strip().split(' ')\n",
    "distances = [int(value) for value in distances if len(value)>0]\n",
    "distances"
   ]
  },
  {
   "cell_type": "code",
   "execution_count": 6,
   "id": "6e29db2c-51aa-43d3-b237-7c90f2ca910f",
   "metadata": {},
   "outputs": [],
   "source": [
    "num_races = len(times)"
   ]
  },
  {
   "cell_type": "code",
   "execution_count": 7,
   "id": "bf0ef392-11c1-4b42-8b6e-a458cc71e92d",
   "metadata": {},
   "outputs": [],
   "source": [
    "f = lambda t, d: d*(t-d)"
   ]
  },
  {
   "cell_type": "code",
   "execution_count": 8,
   "id": "c2b7daab-aae2-4b09-94f0-75f5f11d62c6",
   "metadata": {},
   "outputs": [],
   "source": [
    "def get_race_winners(race):\n",
    "    time = times[race]\n",
    "    distance = distances[race]\n",
    "    winning_times = list()\n",
    "    for d in range(time+1):\n",
    "        if f(time, d)>distance:\n",
    "            winning_times.append(d)\n",
    "    return winning_times"
   ]
  },
  {
   "cell_type": "code",
   "execution_count": 9,
   "id": "430d77b8-8db8-4fe4-b33a-e3740aeb7178",
   "metadata": {},
   "outputs": [
    {
     "name": "stdout",
     "output_type": "stream",
     "text": [
      "The answer you are looking for is 4568778\n"
     ]
    }
   ],
   "source": [
    "prod = 1\n",
    "for r in range(num_races):\n",
    "    winners = get_race_winners(r)\n",
    "    prod *= len(winners)\n",
    "print(f'The answer you are looking for is {prod}')"
   ]
  },
  {
   "cell_type": "code",
   "execution_count": null,
   "id": "66fbdc9b-54a4-4f54-a232-de7def458ab8",
   "metadata": {},
   "outputs": [],
   "source": []
  }
 ],
 "metadata": {
  "kernelspec": {
   "display_name": "Python 3 (ipykernel)",
   "language": "python",
   "name": "python3"
  },
  "language_info": {
   "codemirror_mode": {
    "name": "ipython",
    "version": 3
   },
   "file_extension": ".py",
   "mimetype": "text/x-python",
   "name": "python",
   "nbconvert_exporter": "python",
   "pygments_lexer": "ipython3",
   "version": "3.10.8"
  }
 },
 "nbformat": 4,
 "nbformat_minor": 5
}
