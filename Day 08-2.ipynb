{
 "cells": [
  {
   "cell_type": "markdown",
   "id": "c9e081ff-2bd9-4ce6-9a69-f1bcf65ca6b8",
   "metadata": {},
   "source": [
    "# --- Part Two ---\n",
    "The sandstorm is upon you and you aren't any closer to escaping the wasteland. You had the camel follow the instructions, but you've barely left your starting position. It's going to take significantly more steps to escape!\n",
    "\n",
    "What if the map isn't for people - what if the map is for ghosts? Are ghosts even bound by the laws of spacetime? Only one way to find out.\n",
    "\n",
    "After examining the maps a bit longer, your attention is drawn to a curious fact: the number of nodes with names ending in A is equal to the number ending in Z! If you were a ghost, you'd probably just start at every node that ends with A and follow all of the paths at the same time until they all simultaneously end up at nodes that end with Z.\n",
    "\n",
    "For example:\n",
    "```\n",
    "LR\n",
    "\n",
    "11A = (11B, XXX)\n",
    "11B = (XXX, 11Z)\n",
    "11Z = (11B, XXX)\n",
    "22A = (22B, XXX)\n",
    "22B = (22C, 22C)\n",
    "22C = (22Z, 22Z)\n",
    "22Z = (22B, 22B)\n",
    "XXX = (XXX, XXX)\n",
    "```\n",
    "Here, there are two starting nodes, 11A and 22A (because they both end with A). As you follow each left/right instruction, use that instruction to simultaneously navigate away from both nodes you're currently on. Repeat this process until all of the nodes you're currently on end with Z. (If only some of the nodes you're on end with Z, they act like any other node and you continue as normal.) In this example, you would proceed as follows:\n",
    "```\n",
    "Step 0: You are at 11A and 22A.\n",
    "Step 1: You choose all of the left paths, leading you to 11B and 22B.\n",
    "Step 2: You choose all of the right paths, leading you to 11Z and 22C.\n",
    "Step 3: You choose all of the left paths, leading you to 11B and 22Z.\n",
    "Step 4: You choose all of the right paths, leading you to 11Z and 22B.\n",
    "Step 5: You choose all of the left paths, leading you to 11B and 22C.\n",
    "Step 6: You choose all of the right paths, leading you to 11Z and 22Z.\n",
    "So, in this example, you end up entirely on nodes that end in Z after 6 steps.\n",
    "```\n",
    "**Simultaneously start on every node that ends with A. How many steps does it take before you're only on nodes that end with Z?**"
   ]
  },
  {
   "cell_type": "code",
   "execution_count": 1,
   "id": "e8856d48-b6c1-4646-95b3-aa83791d968a",
   "metadata": {},
   "outputs": [
    {
     "data": {
      "text/plain": [
       "792"
      ]
     },
     "execution_count": 1,
     "metadata": {},
     "output_type": "execute_result"
    }
   ],
   "source": [
    "from utilities import get_lines\n",
    "lines = get_lines('input')\n",
    "len(lines)"
   ]
  },
  {
   "cell_type": "code",
   "execution_count": 2,
   "id": "a4fc3bc7-bb91-4392-8fc0-95bfc223e1a3",
   "metadata": {},
   "outputs": [],
   "source": [
    "from collections import namedtuple\n",
    "dirs = namedtuple('Dirs','L R')\n",
    "\n",
    "directions = lines[0]\n",
    "nodes = {line[:3]: dirs(line[7:10],line[12:15]) \n",
    "         for line in lines[2:]\n",
    "        }"
   ]
  },
  {
   "cell_type": "code",
   "execution_count": 3,
   "id": "0dfe0575-4e16-4321-9497-be335bd5eb95",
   "metadata": {},
   "outputs": [],
   "source": [
    "def ends_in_Z(node_name):\n",
    "    '''\n",
    "    Parameters\n",
    "    ----------\n",
    "    node_name: str of the name of the node, not a Node object\n",
    "    \n",
    "    Returns\n",
    "    -------\n",
    "    bool if node_name end in the letter Z\n",
    "    '''\n",
    "    if node_name[2]=='Z':\n",
    "        return True\n",
    "    return False"
   ]
  },
  {
   "cell_type": "code",
   "execution_count": 4,
   "id": "a646b5cd-c248-4507-ad58-e385c9b8e684",
   "metadata": {},
   "outputs": [
    {
     "data": {
      "text/plain": [
       "(False, True)"
      ]
     },
     "execution_count": 4,
     "metadata": {},
     "output_type": "execute_result"
    }
   ],
   "source": [
    "ends_in_Z('AAA'), ends_in_Z('ZZZ')"
   ]
  },
  {
   "cell_type": "code",
   "execution_count": 5,
   "id": "ebf72f91-164c-46dd-a472-0e4c414a150e",
   "metadata": {},
   "outputs": [],
   "source": [
    "def get_path_length(source):\n",
    "    '''\n",
    "    Parameters\n",
    "    ----------\n",
    "    source: str of node name (in this problem, one ending in 'A')\n",
    "    \n",
    "    Returns\n",
    "    -------\n",
    "    steps: int of the count\n",
    "    '''\n",
    "\n",
    "    count = 0\n",
    "    dirs_len = len(directions)\n",
    "    \n",
    "    while ends_in_Z(source)==False:\n",
    "        d = directions[count%dirs_len]\n",
    "        if d == 'L':\n",
    "            dest = nodes[source].L\n",
    "        else:\n",
    "            dest = nodes[source].R\n",
    "        # print(f'source {source} -> {d} -> dest {dest}')\n",
    "        source = dest\n",
    "        count+=1\n",
    "    print(dest)    \n",
    "    return count\n",
    "    "
   ]
  },
  {
   "cell_type": "code",
   "execution_count": 6,
   "id": "37fbb088-73b6-4125-b865-393a95c16154",
   "metadata": {},
   "outputs": [
    {
     "name": "stdout",
     "output_type": "stream",
     "text": [
      "ZZZ\n"
     ]
    },
    {
     "data": {
      "text/plain": [
       "20569"
      ]
     },
     "execution_count": 6,
     "metadata": {},
     "output_type": "execute_result"
    }
   ],
   "source": [
    "get_path_length('AAA')"
   ]
  },
  {
   "cell_type": "code",
   "execution_count": 7,
   "id": "db172d01-dfe7-44c1-a79b-412fca0aae3d",
   "metadata": {},
   "outputs": [
    {
     "data": {
      "text/plain": [
       "['STA', 'AAA', 'GPA', 'LKA', 'DFA', 'KKA']"
      ]
     },
     "execution_count": 7,
     "metadata": {},
     "output_type": "execute_result"
    }
   ],
   "source": [
    "starting_nodes = list()\n",
    "for n in nodes.keys():\n",
    "    if n[2]=='A':\n",
    "        starting_nodes.append(n)\n",
    "starting_nodes"
   ]
  },
  {
   "cell_type": "markdown",
   "id": "6e5dd19f-8e09-4495-857a-eff1d743870d",
   "metadata": {},
   "source": [
    "I don't think I need to know in advance, but I'm curious how many there are..."
   ]
  },
  {
   "cell_type": "code",
   "execution_count": 8,
   "id": "07932a62-22a9-4e66-989b-87f8e46e0368",
   "metadata": {},
   "outputs": [
    {
     "data": {
      "text/plain": [
       "['HTZ', 'ZZZ', 'XDZ', 'LLZ', 'XGZ', 'TMZ']"
      ]
     },
     "execution_count": 8,
     "metadata": {},
     "output_type": "execute_result"
    }
   ],
   "source": [
    "[n for n in nodes if n[2]=='Z']"
   ]
  },
  {
   "cell_type": "code",
   "execution_count": 9,
   "id": "54fe34a2-9e0f-4d70-89bc-28eb7bb6510c",
   "metadata": {},
   "outputs": [
    {
     "name": "stdout",
     "output_type": "stream",
     "text": [
      "XGZ\n",
      "ZZZ\n",
      "LLZ\n",
      "HTZ\n",
      "TMZ\n",
      "XDZ\n"
     ]
    },
    {
     "data": {
      "text/plain": [
       "[18113, 20569, 21797, 13201, 24253, 22411]"
      ]
     },
     "execution_count": 9,
     "metadata": {},
     "output_type": "execute_result"
    }
   ],
   "source": [
    "path_lengths = [get_path_length(node) for node in starting_nodes]\n",
    "path_lengths"
   ]
  },
  {
   "cell_type": "code",
   "execution_count": 10,
   "id": "45ce3560-2b10-462f-a252-e3fca640f318",
   "metadata": {},
   "outputs": [],
   "source": [
    "from math import lcm"
   ]
  },
  {
   "cell_type": "code",
   "execution_count": 11,
   "id": "19b6a766-a23a-4fe7-b136-63cd5f8eee27",
   "metadata": {},
   "outputs": [
    {
     "data": {
      "text/plain": [
       "21366921060721"
      ]
     },
     "execution_count": 11,
     "metadata": {},
     "output_type": "execute_result"
    }
   ],
   "source": [
    "lcm(*path_lengths)"
   ]
  },
  {
   "cell_type": "code",
   "execution_count": null,
   "id": "86e0cb8f-492c-420a-b921-c298b071f3f0",
   "metadata": {},
   "outputs": [],
   "source": []
  }
 ],
 "metadata": {
  "kernelspec": {
   "display_name": "Python 3 (ipykernel)",
   "language": "python",
   "name": "python3"
  },
  "language_info": {
   "codemirror_mode": {
    "name": "ipython",
    "version": 3
   },
   "file_extension": ".py",
   "mimetype": "text/x-python",
   "name": "python",
   "nbconvert_exporter": "python",
   "pygments_lexer": "ipython3",
   "version": "3.10.8"
  }
 },
 "nbformat": 4,
 "nbformat_minor": 5
}
