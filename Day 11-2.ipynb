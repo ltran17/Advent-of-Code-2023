{
 "cells": [
  {
   "cell_type": "markdown",
   "id": "68de3393-bb21-471b-a531-8bd3a3b7af8a",
   "metadata": {},
   "source": [
    "# --- Part Two ---\n",
    "The galaxies are much older (and thus much farther apart) than the researcher initially estimated.\n",
    "\n",
    "Now, instead of the expansion you did before, make each empty row or column one million times larger. That is, each empty row should be replaced with 1000000 empty rows, and each empty column should be replaced with 1000000 empty columns.\n",
    "\n",
    "(In the example above, if each empty row or column were merely 10 times larger, the sum of the shortest paths between every pair of galaxies would be 1030. If each empty row or column were merely 100 times larger, the sum of the shortest paths between every pair of galaxies would be 8410. However, your universe will need to expand far beyond these values.)\n",
    "\n",
    "**Starting with the same initial image, expand the universe according to these new rules, then find the length of the shortest path between every pair of galaxies. What is the sum of these lengths?**"
   ]
  },
  {
   "cell_type": "code",
   "execution_count": 1,
   "id": "6a732228-2215-4cf6-8b99-0a89c886f7c1",
   "metadata": {},
   "outputs": [],
   "source": [
    "EXPANSION = 1000000"
   ]
  },
  {
   "cell_type": "code",
   "execution_count": 2,
   "id": "26b4d9fa-78fe-42ed-8b0f-42467318617b",
   "metadata": {},
   "outputs": [],
   "source": [
    "from utilities import get_lines"
   ]
  },
  {
   "cell_type": "code",
   "execution_count": 3,
   "id": "042cb784-5c2a-400a-8bce-db1b575a97f5",
   "metadata": {},
   "outputs": [],
   "source": [
    "lines = [[ch for ch in line.strip()] for line in get_lines('input')]"
   ]
  },
  {
   "cell_type": "code",
   "execution_count": 4,
   "id": "42c26d69-3308-47d4-abcf-f5a3ea5b613e",
   "metadata": {},
   "outputs": [],
   "source": [
    "def get_galaxies():\n",
    "    galaxies = list()\n",
    "    for col in range(len(lines)):\n",
    "        for row in range(len(lines[0])):\n",
    "            if lines[row][col]=='#':\n",
    "                galaxies.append((row,col))\n",
    "    return galaxies"
   ]
  },
  {
   "cell_type": "code",
   "execution_count": 5,
   "id": "aac02677-8617-44ac-952a-c6947ccba662",
   "metadata": {},
   "outputs": [
    {
     "data": {
      "text/plain": [
       "447"
      ]
     },
     "execution_count": 5,
     "metadata": {},
     "output_type": "execute_result"
    }
   ],
   "source": [
    "points = get_galaxies()\n",
    "len(points)"
   ]
  },
  {
   "cell_type": "code",
   "execution_count": 6,
   "id": "cef3880b-fae9-4c98-ac71-54240c75f53f",
   "metadata": {},
   "outputs": [],
   "source": [
    "from itertools import combinations"
   ]
  },
  {
   "cell_type": "code",
   "execution_count": 7,
   "id": "0dfabdca-fdeb-4bfc-9cfb-8c4898574297",
   "metadata": {},
   "outputs": [
    {
     "data": {
      "text/plain": [
       "99681"
      ]
     },
     "execution_count": 7,
     "metadata": {},
     "output_type": "execute_result"
    }
   ],
   "source": [
    "point_pairs = list(combinations(points,2))\n",
    "len(point_pairs)"
   ]
  },
  {
   "cell_type": "code",
   "execution_count": 8,
   "id": "cfb6e112-01cf-438a-8ad0-01a34a29abd7",
   "metadata": {},
   "outputs": [],
   "source": [
    "def get_empty_rows():\n",
    "    rows_to_insert = list()\n",
    "    for i, row in enumerate(lines):\n",
    "        if sum([ch=='#' for ch in row])==0:\n",
    "            rows_to_insert.append(i)\n",
    "    return rows_to_insert"
   ]
  },
  {
   "cell_type": "code",
   "execution_count": 9,
   "id": "691a0349-f449-4e1f-937c-fc0ea970dca7",
   "metadata": {},
   "outputs": [
    {
     "data": {
      "text/plain": [
       "[38, 45, 56, 59, 63, 66, 83, 84, 89, 101]"
      ]
     },
     "execution_count": 9,
     "metadata": {},
     "output_type": "execute_result"
    }
   ],
   "source": [
    "get_empty_rows()"
   ]
  },
  {
   "cell_type": "code",
   "execution_count": 10,
   "id": "fa8d1780-bf99-4e40-8e71-48ef03294bde",
   "metadata": {},
   "outputs": [],
   "source": [
    "def get_empty_cols():\n",
    "    cols_to_insert = list()\n",
    "    for j in range(len(lines[0])):\n",
    "        total = 0\n",
    "        for i, row in enumerate(lines):\n",
    "            if row[j]=='#':\n",
    "                total+=1\n",
    "        if total==0:\n",
    "            cols_to_insert.append(j)\n",
    "    return cols_to_insert"
   ]
  },
  {
   "cell_type": "code",
   "execution_count": 11,
   "id": "dac1ce60-67c0-483e-9ac7-9f0b8f57042a",
   "metadata": {},
   "outputs": [
    {
     "data": {
      "text/plain": [
       "[27, 52, 60, 63, 69, 73, 89]"
      ]
     },
     "execution_count": 11,
     "metadata": {},
     "output_type": "execute_result"
    }
   ],
   "source": [
    "get_empty_cols()"
   ]
  },
  {
   "cell_type": "code",
   "execution_count": 12,
   "id": "6004088b-8341-42ba-af77-852d08056d8b",
   "metadata": {},
   "outputs": [],
   "source": [
    "def count_empty_rows_between_points(p1,p2):\n",
    "    xs = sorted([p1[0],p2[0]])\n",
    "    empty_between_rows = list()\n",
    "    for r in get_empty_rows():\n",
    "        if xs[0] < r < xs[1]:\n",
    "            empty_between_rows.append(r)\n",
    "    return len(empty_between_rows)"
   ]
  },
  {
   "cell_type": "code",
   "execution_count": 13,
   "id": "3285b08f-5555-4410-93b7-5a36c89794eb",
   "metadata": {},
   "outputs": [],
   "source": [
    "def count_empty_cols_between_points(p1,p2):\n",
    "    ys = sorted([p1[1],p2[1]])\n",
    "    empty_between_cols = list()\n",
    "    for c in get_empty_cols():\n",
    "        if ys[0] < c < ys[1]:\n",
    "            empty_between_cols.append(c)\n",
    "    return len(empty_between_cols)"
   ]
  },
  {
   "cell_type": "code",
   "execution_count": 14,
   "id": "6f39ff17-b2f3-4b9f-be46-0beb88fa1fd8",
   "metadata": {},
   "outputs": [],
   "source": [
    "def distance(p1,p2):\n",
    "    empty_rows = count_empty_rows_between_points(p1,p2)\n",
    "    empty_cols = count_empty_cols_between_points(p1,p2)\n",
    "    dx = abs(p1[0]-p2[0])+(EXPANSION-1)*empty_rows\n",
    "    dy = abs(p1[1]-p2[1])+(EXPANSION-1)*empty_cols\n",
    "    return dx+dy"
   ]
  },
  {
   "cell_type": "code",
   "execution_count": null,
   "id": "e6fccb58-50eb-4e1e-bddb-d286fc7c3806",
   "metadata": {},
   "outputs": [
    {
     "name": "stdout",
     "output_type": "stream",
     "text": [
      "1000 pairs calculated.\n",
      "2000 pairs calculated.\n",
      "3000 pairs calculated.\n",
      "4000 pairs calculated.\n",
      "5000 pairs calculated.\n",
      "6000 pairs calculated.\n",
      "7000 pairs calculated.\n",
      "8000 pairs calculated.\n",
      "9000 pairs calculated.\n",
      "10000 pairs calculated.\n",
      "11000 pairs calculated.\n",
      "12000 pairs calculated.\n",
      "13000 pairs calculated.\n",
      "14000 pairs calculated.\n",
      "15000 pairs calculated.\n",
      "16000 pairs calculated.\n",
      "17000 pairs calculated.\n",
      "18000 pairs calculated.\n",
      "19000 pairs calculated.\n",
      "20000 pairs calculated.\n",
      "21000 pairs calculated.\n",
      "22000 pairs calculated.\n",
      "23000 pairs calculated.\n",
      "24000 pairs calculated.\n",
      "25000 pairs calculated.\n",
      "26000 pairs calculated.\n",
      "27000 pairs calculated.\n",
      "28000 pairs calculated.\n",
      "29000 pairs calculated.\n",
      "30000 pairs calculated.\n",
      "31000 pairs calculated.\n",
      "32000 pairs calculated.\n",
      "33000 pairs calculated.\n",
      "34000 pairs calculated.\n",
      "35000 pairs calculated.\n",
      "36000 pairs calculated.\n",
      "37000 pairs calculated.\n",
      "38000 pairs calculated.\n",
      "39000 pairs calculated.\n",
      "40000 pairs calculated.\n",
      "41000 pairs calculated.\n",
      "42000 pairs calculated.\n",
      "43000 pairs calculated.\n",
      "44000 pairs calculated.\n",
      "45000 pairs calculated.\n",
      "46000 pairs calculated.\n",
      "47000 pairs calculated.\n",
      "48000 pairs calculated.\n",
      "49000 pairs calculated.\n",
      "50000 pairs calculated.\n",
      "51000 pairs calculated.\n",
      "52000 pairs calculated.\n",
      "53000 pairs calculated.\n",
      "54000 pairs calculated.\n",
      "55000 pairs calculated.\n",
      "56000 pairs calculated.\n",
      "57000 pairs calculated.\n",
      "58000 pairs calculated.\n",
      "59000 pairs calculated.\n",
      "60000 pairs calculated.\n",
      "61000 pairs calculated.\n",
      "62000 pairs calculated.\n",
      "63000 pairs calculated.\n",
      "64000 pairs calculated.\n",
      "65000 pairs calculated.\n",
      "66000 pairs calculated.\n",
      "67000 pairs calculated.\n",
      "68000 pairs calculated.\n",
      "69000 pairs calculated.\n",
      "70000 pairs calculated.\n",
      "71000 pairs calculated.\n",
      "72000 pairs calculated.\n",
      "73000 pairs calculated.\n",
      "74000 pairs calculated.\n",
      "75000 pairs calculated.\n",
      "76000 pairs calculated.\n",
      "77000 pairs calculated.\n",
      "78000 pairs calculated.\n",
      "79000 pairs calculated.\n",
      "80000 pairs calculated.\n",
      "81000 pairs calculated.\n",
      "82000 pairs calculated.\n",
      "83000 pairs calculated.\n",
      "84000 pairs calculated.\n"
     ]
    }
   ],
   "source": [
    "total = 0\n",
    "counter = 0\n",
    "for pair in point_pairs:\n",
    "    total+= distance(*pair)\n",
    "    counter+=1\n",
    "    if counter%1000==0:\n",
    "        print(f'{counter} pairs calculated.')\n",
    "total"
   ]
  },
  {
   "cell_type": "code",
   "execution_count": null,
   "id": "fcd28214-f56e-40ae-b588-ecb571c1aa83",
   "metadata": {},
   "outputs": [],
   "source": []
  },
  {
   "cell_type": "code",
   "execution_count": null,
   "id": "30f6305e-94c7-432d-8c70-0b14e6b4e56b",
   "metadata": {},
   "outputs": [],
   "source": []
  },
  {
   "cell_type": "code",
   "execution_count": null,
   "id": "d159453e-941d-41ab-a2df-09c2b18dfffb",
   "metadata": {},
   "outputs": [],
   "source": []
  },
  {
   "cell_type": "code",
   "execution_count": null,
   "id": "3981d4f3-5e3a-4031-afc4-1f1b3c57bc43",
   "metadata": {},
   "outputs": [],
   "source": []
  },
  {
   "cell_type": "code",
   "execution_count": null,
   "id": "5df50856-777d-4d7a-93c3-4f33fa2b151a",
   "metadata": {},
   "outputs": [],
   "source": []
  },
  {
   "cell_type": "code",
   "execution_count": null,
   "id": "d87cd271-2c72-4664-88e6-126ccfe66e66",
   "metadata": {},
   "outputs": [],
   "source": [
    "def get_distance(p1,p2):\n",
    "    x1, y1 = p1\n",
    "    x2 = p2[0]+EXPANSION*(count_empty_cols_between_points(p1,p2))\n",
    "    y2 = p2[1]+EXPANSION*(count_empty_rows_between_points(p1,p2))\n",
    "    print(x1, y1)\n",
    "    print(x2,y2)\n",
    "    dx = x2-x1\n",
    "    dy = y2-y1\n",
    "    return abs(dx)+abs(dy)"
   ]
  },
  {
   "cell_type": "code",
   "execution_count": null,
   "id": "8c030ede-fa60-45d9-8905-30f82fbe3b68",
   "metadata": {},
   "outputs": [],
   "source": [
    "get_distance((0,0),(0,9))"
   ]
  },
  {
   "cell_type": "code",
   "execution_count": null,
   "id": "02e73ec0-0722-41fa-8bdb-7ba86f18fa87",
   "metadata": {},
   "outputs": [],
   "source": [
    "get_distance((0,0),(9,0))"
   ]
  },
  {
   "cell_type": "code",
   "execution_count": null,
   "id": "9cea8686-cfbe-4925-9f16-4a78866ad71d",
   "metadata": {},
   "outputs": [],
   "source": [
    "get_distance((0,0),(9,9))"
   ]
  },
  {
   "cell_type": "code",
   "execution_count": null,
   "id": "420a5247-160f-478b-8613-970a9a6f0dab",
   "metadata": {},
   "outputs": [],
   "source": [
    "sum([get_distance(*pair) for pair in point_pairs])"
   ]
  },
  {
   "cell_type": "code",
   "execution_count": null,
   "id": "38f54fd6-797a-42a2-9ea3-13c72827c606",
   "metadata": {},
   "outputs": [],
   "source": []
  },
  {
   "cell_type": "code",
   "execution_count": null,
   "id": "cf1ee0cd-e137-4d35-9f42-856d81e44b43",
   "metadata": {},
   "outputs": [],
   "source": []
  }
 ],
 "metadata": {
  "kernelspec": {
   "display_name": "Python 3 (ipykernel)",
   "language": "python",
   "name": "python3"
  },
  "language_info": {
   "codemirror_mode": {
    "name": "ipython",
    "version": 3
   },
   "file_extension": ".py",
   "mimetype": "text/x-python",
   "name": "python",
   "nbconvert_exporter": "python",
   "pygments_lexer": "ipython3",
   "version": "3.8.12"
  }
 },
 "nbformat": 4,
 "nbformat_minor": 5
}
