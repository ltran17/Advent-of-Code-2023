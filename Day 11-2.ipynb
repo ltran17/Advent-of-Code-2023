{
 "cells": [
  {
   "cell_type": "markdown",
   "id": "68de3393-bb21-471b-a531-8bd3a3b7af8a",
   "metadata": {},
   "source": [
    "# --- Part Two ---\n",
    "The galaxies are much older (and thus much farther apart) than the researcher initially estimated.\n",
    "\n",
    "Now, instead of the expansion you did before, make each empty row or column one million times larger. That is, each empty row should be replaced with 1000000 empty rows, and each empty column should be replaced with 1000000 empty columns.\n",
    "\n",
    "(In the example above, if each empty row or column were merely 10 times larger, the sum of the shortest paths between every pair of galaxies would be 1030. If each empty row or column were merely 100 times larger, the sum of the shortest paths between every pair of galaxies would be 8410. However, your universe will need to expand far beyond these values.)\n",
    "\n",
    "**Starting with the same initial image, expand the universe according to these new rules, then find the length of the shortest path between every pair of galaxies. What is the sum of these lengths?**"
   ]
  },
  {
   "cell_type": "code",
   "execution_count": 1,
   "id": "6a732228-2215-4cf6-8b99-0a89c886f7c1",
   "metadata": {},
   "outputs": [],
   "source": [
    "EXPANSION = 2"
   ]
  },
  {
   "cell_type": "code",
   "execution_count": 2,
   "id": "26b4d9fa-78fe-42ed-8b0f-42467318617b",
   "metadata": {},
   "outputs": [],
   "source": [
    "from utilities import get_lines"
   ]
  },
  {
   "cell_type": "code",
   "execution_count": 3,
   "id": "042cb784-5c2a-400a-8bce-db1b575a97f5",
   "metadata": {},
   "outputs": [],
   "source": [
    "lines = [[ch for ch in line.strip()] for line in get_lines('sample')]"
   ]
  },
  {
   "cell_type": "code",
   "execution_count": 4,
   "id": "cc7fde39-70f8-4504-a9c1-a1dc63f64379",
   "metadata": {},
   "outputs": [
    {
     "data": {
      "text/plain": [
       "[['.', '.', '.', '#', '.', '.', '.', '.', '.', '.'],\n",
       " ['.', '.', '.', '.', '.', '.', '.', '#', '.', '.'],\n",
       " ['#', '.', '.', '.', '.', '.', '.', '.', '.', '.'],\n",
       " ['.', '.', '.', '.', '.', '.', '.', '.', '.', '.'],\n",
       " ['.', '.', '.', '.', '.', '.', '#', '.', '.', '.'],\n",
       " ['.', '#', '.', '.', '.', '.', '.', '.', '.', '.'],\n",
       " ['.', '.', '.', '.', '.', '.', '.', '.', '.', '#'],\n",
       " ['.', '.', '.', '.', '.', '.', '.', '.', '.', '.'],\n",
       " ['.', '.', '.', '.', '.', '.', '.', '#', '.', '.'],\n",
       " ['#', '.', '.', '.', '#', '.', '.', '.', '.', '.']]"
      ]
     },
     "execution_count": 4,
     "metadata": {},
     "output_type": "execute_result"
    }
   ],
   "source": [
    "lines"
   ]
  },
  {
   "cell_type": "code",
   "execution_count": 5,
   "id": "42c26d69-3308-47d4-abcf-f5a3ea5b613e",
   "metadata": {},
   "outputs": [],
   "source": [
    "def get_galaxies():\n",
    "    galaxies = list()\n",
    "    for col in range(len(lines)):\n",
    "        for row in range(len(lines[0])):\n",
    "            if lines[row][col]=='#':\n",
    "                galaxies.append((row,col))\n",
    "    return galaxies"
   ]
  },
  {
   "cell_type": "code",
   "execution_count": 6,
   "id": "aac02677-8617-44ac-952a-c6947ccba662",
   "metadata": {},
   "outputs": [
    {
     "data": {
      "text/plain": [
       "9"
      ]
     },
     "execution_count": 6,
     "metadata": {},
     "output_type": "execute_result"
    }
   ],
   "source": [
    "points = get_galaxies()\n",
    "len(points)"
   ]
  },
  {
   "cell_type": "code",
   "execution_count": 7,
   "id": "cef3880b-fae9-4c98-ac71-54240c75f53f",
   "metadata": {},
   "outputs": [],
   "source": [
    "from itertools import combinations"
   ]
  },
  {
   "cell_type": "code",
   "execution_count": 8,
   "id": "0dfabdca-fdeb-4bfc-9cfb-8c4898574297",
   "metadata": {},
   "outputs": [
    {
     "data": {
      "text/plain": [
       "36"
      ]
     },
     "execution_count": 8,
     "metadata": {},
     "output_type": "execute_result"
    }
   ],
   "source": [
    "point_pairs = list(combinations(points,2))\n",
    "len(point_pairs)"
   ]
  },
  {
   "cell_type": "code",
   "execution_count": 9,
   "id": "cfb6e112-01cf-438a-8ad0-01a34a29abd7",
   "metadata": {},
   "outputs": [],
   "source": [
    "def get_empty_rows():\n",
    "    rows_to_insert = list()\n",
    "    for i, row in enumerate(lines):\n",
    "        if sum([ch=='#' for ch in row])==0:\n",
    "            rows_to_insert.append(i)\n",
    "    return rows_to_insert"
   ]
  },
  {
   "cell_type": "code",
   "execution_count": 10,
   "id": "691a0349-f449-4e1f-937c-fc0ea970dca7",
   "metadata": {},
   "outputs": [
    {
     "data": {
      "text/plain": [
       "[3, 7]"
      ]
     },
     "execution_count": 10,
     "metadata": {},
     "output_type": "execute_result"
    }
   ],
   "source": [
    "get_empty_rows()"
   ]
  },
  {
   "cell_type": "code",
   "execution_count": 11,
   "id": "fa8d1780-bf99-4e40-8e71-48ef03294bde",
   "metadata": {},
   "outputs": [],
   "source": [
    "def get_empty_cols():\n",
    "    cols_to_insert = list()\n",
    "    for j in range(len(lines[0])):\n",
    "        total = 0\n",
    "        for i, row in enumerate(lines):\n",
    "            if row[j]=='#':\n",
    "                total+=1\n",
    "        if total==0:\n",
    "            cols_to_insert.append(j)\n",
    "    return cols_to_insert"
   ]
  },
  {
   "cell_type": "code",
   "execution_count": 12,
   "id": "dac1ce60-67c0-483e-9ac7-9f0b8f57042a",
   "metadata": {},
   "outputs": [
    {
     "data": {
      "text/plain": [
       "[2, 5, 8]"
      ]
     },
     "execution_count": 12,
     "metadata": {},
     "output_type": "execute_result"
    }
   ],
   "source": [
    "get_empty_cols()"
   ]
  },
  {
   "cell_type": "code",
   "execution_count": 26,
   "id": "6004088b-8341-42ba-af77-852d08056d8b",
   "metadata": {},
   "outputs": [],
   "source": [
    "def count_empty_rows_between_points(p1,p2):\n",
    "    xs = sorted([p1[0],p2[0]])\n",
    "    empty_between_rows = list()\n",
    "    for r in get_empty_rows():\n",
    "        if xs[0] < r < xs[1]:\n",
    "            empty_between_rows.append(r)\n",
    "    return len(empty_between_rows)"
   ]
  },
  {
   "cell_type": "code",
   "execution_count": 27,
   "id": "3285b08f-5555-4410-93b7-5a36c89794eb",
   "metadata": {},
   "outputs": [],
   "source": [
    "def count_empty_cols_between_points(p1,p2):\n",
    "    ys = sorted([p1[1],p2[1]])\n",
    "    empty_between_cols = list()\n",
    "    for c in get_empty_cols():\n",
    "        if ys[0] < c < ys[1]:\n",
    "            empty_between_cols.append(c)\n",
    "    return len(empty_between_cols)"
   ]
  },
  {
   "cell_type": "code",
   "execution_count": 28,
   "id": "9eeceb46-3817-441a-9b79-5cd0b9a9092a",
   "metadata": {},
   "outputs": [
    {
     "data": {
      "text/plain": [
       "2"
      ]
     },
     "execution_count": 28,
     "metadata": {},
     "output_type": "execute_result"
    }
   ],
   "source": [
    "count_empty_rows_between_points((0,0),(9,0))"
   ]
  },
  {
   "cell_type": "code",
   "execution_count": 29,
   "id": "814d10cc-2de2-47ac-85b5-d88a6c2b664d",
   "metadata": {},
   "outputs": [
    {
     "data": {
      "text/plain": [
       "3"
      ]
     },
     "execution_count": 29,
     "metadata": {},
     "output_type": "execute_result"
    }
   ],
   "source": [
    "count_empty_cols_between_points((0,0),(0,9))"
   ]
  },
  {
   "cell_type": "code",
   "execution_count": 30,
   "id": "1f8f640e-379c-4752-8eab-ba3908db6427",
   "metadata": {},
   "outputs": [
    {
     "data": {
      "text/plain": [
       "1"
      ]
     },
     "execution_count": 30,
     "metadata": {},
     "output_type": "execute_result"
    }
   ],
   "source": [
    "count_empty_rows_between_points((6,0),(8,0))"
   ]
  },
  {
   "cell_type": "code",
   "execution_count": 33,
   "id": "6f39ff17-b2f3-4b9f-be46-0beb88fa1fd8",
   "metadata": {},
   "outputs": [],
   "source": [
    "def distance(p1,p2):\n",
    "    empty_rows = count_empty_rows_between_points(p1,p2)\n",
    "    empty_cols = count_empty_cols_between_points(p1,p2)\n",
    "    dx = abs(p1[0]-p2[0])+EXPANSION*(empty_rows-1)\n",
    "    dy = abs(p1[1]-p2[1])+EXPANSION*(empty_cols-1)\n",
    "    return dx+dy"
   ]
  },
  {
   "cell_type": "code",
   "execution_count": 34,
   "id": "e6fccb58-50eb-4e1e-bddb-d286fc7c3806",
   "metadata": {},
   "outputs": [
    {
     "data": {
      "text/plain": [
       "312"
      ]
     },
     "execution_count": 34,
     "metadata": {},
     "output_type": "execute_result"
    }
   ],
   "source": [
    "total = 0\n",
    "for pair in point_pairs:\n",
    "    total+= distance(*pair)\n",
    "total"
   ]
  },
  {
   "cell_type": "code",
   "execution_count": null,
   "id": "fcd28214-f56e-40ae-b588-ecb571c1aa83",
   "metadata": {},
   "outputs": [],
   "source": []
  },
  {
   "cell_type": "code",
   "execution_count": null,
   "id": "30f6305e-94c7-432d-8c70-0b14e6b4e56b",
   "metadata": {},
   "outputs": [],
   "source": []
  },
  {
   "cell_type": "code",
   "execution_count": null,
   "id": "d159453e-941d-41ab-a2df-09c2b18dfffb",
   "metadata": {},
   "outputs": [],
   "source": []
  },
  {
   "cell_type": "code",
   "execution_count": null,
   "id": "3981d4f3-5e3a-4031-afc4-1f1b3c57bc43",
   "metadata": {},
   "outputs": [],
   "source": []
  },
  {
   "cell_type": "code",
   "execution_count": null,
   "id": "5df50856-777d-4d7a-93c3-4f33fa2b151a",
   "metadata": {},
   "outputs": [],
   "source": []
  },
  {
   "cell_type": "code",
   "execution_count": null,
   "id": "d87cd271-2c72-4664-88e6-126ccfe66e66",
   "metadata": {},
   "outputs": [],
   "source": [
    "def get_distance(p1,p2):\n",
    "    x1, y1 = p1\n",
    "    x2 = p2[0]+EXPANSION*(count_empty_cols_between_points(p1,p2))\n",
    "    y2 = p2[1]+EXPANSION*(count_empty_rows_between_points(p1,p2))\n",
    "    print(x1, y1)\n",
    "    print(x2,y2)\n",
    "    dx = x2-x1\n",
    "    dy = y2-y1\n",
    "    return abs(dx)+abs(dy)"
   ]
  },
  {
   "cell_type": "code",
   "execution_count": null,
   "id": "8c030ede-fa60-45d9-8905-30f82fbe3b68",
   "metadata": {},
   "outputs": [],
   "source": [
    "get_distance((0,0),(0,9))"
   ]
  },
  {
   "cell_type": "code",
   "execution_count": null,
   "id": "02e73ec0-0722-41fa-8bdb-7ba86f18fa87",
   "metadata": {},
   "outputs": [],
   "source": [
    "get_distance((0,0),(9,0))"
   ]
  },
  {
   "cell_type": "code",
   "execution_count": null,
   "id": "9cea8686-cfbe-4925-9f16-4a78866ad71d",
   "metadata": {},
   "outputs": [],
   "source": [
    "get_distance((0,0),(9,9))"
   ]
  },
  {
   "cell_type": "code",
   "execution_count": null,
   "id": "420a5247-160f-478b-8613-970a9a6f0dab",
   "metadata": {},
   "outputs": [],
   "source": [
    "sum([get_distance(*pair) for pair in point_pairs])"
   ]
  },
  {
   "cell_type": "code",
   "execution_count": null,
   "id": "38f54fd6-797a-42a2-9ea3-13c72827c606",
   "metadata": {},
   "outputs": [],
   "source": []
  },
  {
   "cell_type": "code",
   "execution_count": null,
   "id": "cf1ee0cd-e137-4d35-9f42-856d81e44b43",
   "metadata": {},
   "outputs": [],
   "source": []
  }
 ],
 "metadata": {
  "kernelspec": {
   "display_name": "Python 3 (ipykernel)",
   "language": "python",
   "name": "python3"
  },
  "language_info": {
   "codemirror_mode": {
    "name": "ipython",
    "version": 3
   },
   "file_extension": ".py",
   "mimetype": "text/x-python",
   "name": "python",
   "nbconvert_exporter": "python",
   "pygments_lexer": "ipython3",
   "version": "3.8.12"
  }
 },
 "nbformat": 4,
 "nbformat_minor": 5
}
