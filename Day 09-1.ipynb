{
 "cells": [
  {
   "cell_type": "markdown",
   "id": "756b3ab6-2058-4b75-80f6-f878775b1dc5",
   "metadata": {},
   "source": [
    "# --- Day 9: Mirage Maintenance ---\n",
    "You ride the camel through the sandstorm and stop where the ghost's maps told you to stop. The sandstorm subsequently subsides, somehow seeing you standing at an oasis!\n",
    "\n",
    "The camel goes to get some water and you stretch your neck. As you look up, you discover what must be yet another giant floating island, this one made of metal! That must be where the parts to fix the sand machines come from.\n",
    "\n",
    "There's even a hang glider partially buried in the sand here; once the sun rises and heats up the sand, you might be able to use the glider and the hot air to get all the way up to the metal island!\n",
    "\n",
    "While you wait for the sun to rise, you admire the oasis hidden here in the middle of Desert Island. It must have a delicate ecosystem; you might as well take some ecological readings while you wait. Maybe you can report any environmental instabilities you find to someone so the oasis can be around for the next sandstorm-worn traveler.\n",
    "\n",
    "You pull out your handy Oasis And Sand Instability Sensor and analyze your surroundings. The OASIS produces a report of many values and how they are changing over time (your puzzle input). Each line in the report contains the history of a single value. For example:\n",
    "```\n",
    "0 3 6 9 12 15\n",
    "1 3 6 10 15 21\n",
    "10 13 16 21 30 45\n",
    "```\n",
    "To best protect the oasis, your environmental report should include a prediction of the next value in each history. To do this, start by making a new sequence from the difference at each step of your history. If that sequence is not all zeroes, repeat this process, using the sequence you just generated as the input sequence. Once all of the values in your latest sequence are zeroes, you can extrapolate what the next value of the original history should be.\n",
    "\n",
    "In the above dataset, the first history is 0 3 6 9 12 15. Because the values increase by 3 each step, the first sequence of differences that you generate will be 3 3 3 3 3. Note that this sequence has one fewer value than the input sequence because at each step it considers two numbers from the input. Since these values aren't all zero, repeat the process: the values differ by 0 at each step, so the next sequence is 0 0 0 0. This means you have enough information to extrapolate the history! Visually, these sequences can be arranged like this:\n",
    "\n",
    "```\n",
    "0   3   6   9  12  15\n",
    "  3   3   3   3   3\n",
    "    0   0   0   0\n",
    "```\n",
    "\n",
    "To extrapolate, start by adding a new zero to the end of your list of zeroes; because the zeroes represent differences between the two values above them, this also means there is now a placeholder in every sequence above it:\n",
    "```\n",
    "0   3   6   9  12  15   B\n",
    "  3   3   3   3   3   A\n",
    "    0   0   0   0   0\n",
    "```\n",
    "\n",
    "You can then start filling in placeholders from the bottom up. A needs to be the result of increasing 3 (the value to its left) by 0 (the value below it); this means A must be 3:\n",
    "\n",
    "```\n",
    "0   3   6   9  12  15   B\n",
    "\n",
    "  3   3   3   3   3   3\n",
    "  \n",
    "    0   0   0   0   0\n",
    "```\n",
    "Finally, you can fill in B, which needs to be the result of increasing 15 (the value to its left) by 3 (the value below it), or 18:\n",
    "\n",
    "```\n",
    "0   3   6   9  12  15  18\n",
    "\n",
    "  3   3   3   3   3   3\n",
    "  \n",
    "    0   0   0   0   0\n",
    "```\n",
    "So, the next value of the first history is 18.\n",
    "\n",
    "Finding all-zero differences for the second history requires an additional sequence:\n",
    "\n",
    "```\n",
    "1   3   6  10  15  21\n",
    "\n",
    "  2   3   4   5   6\n",
    "  \n",
    "    1   1   1   1\n",
    "    \n",
    "      0   0   0\n",
    "```\n",
    "Then, following the same process as before, work out the next value in each sequence from the bottom up:\n",
    "\n",
    "```\n",
    "1   3   6  10  15  21  28\n",
    "\n",
    "  2   3   4   5   6   7\n",
    "  \n",
    "    1   1   1   1   1\n",
    "    \n",
    "      0   0   0   0\n",
    "```\n",
    "\n",
    "So, the next value of the second history is 28.\n",
    "\n",
    "The third history requires even more sequences, but its next value can be found the same way:\n",
    "\n",
    "```\n",
    "10  13  16  21  30  45  68\n",
    "   3   3   5   9  15  23\n",
    "     0   2   4   6   8\n",
    "       2   2   2   2\n",
    "         0   0   0\n",
    "```\n",
    "So, the next value of the third history is 68.\n",
    "\n",
    "**If you find the next value for each history in this example and add them together, you get 114.**\n",
    "\n",
    "**Analyze your OASIS report and extrapolate the next value for each history. What is the sum of these extrapolated values?**"
   ]
  },
  {
   "cell_type": "code",
   "execution_count": 1,
   "id": "1d709220-0dbc-4b31-8b56-5d64ef060793",
   "metadata": {},
   "outputs": [],
   "source": [
    "from utilities import get_lines"
   ]
  },
  {
   "cell_type": "code",
   "execution_count": 144,
   "id": "e0c5d01c-edd2-4518-a273-3c8d14a08214",
   "metadata": {},
   "outputs": [],
   "source": [
    "lines = get_lines('sample')\n",
    "lines = [line.split(' ') for line in lines]\n",
    "# lines = [[int(n) for n in nums][::-1] for nums in lines]\n",
    "lines = [[int(n) for n in nums] for nums in lines]"
   ]
  },
  {
   "cell_type": "code",
   "execution_count": 159,
   "id": "cff9f0bb-e696-40f3-acc5-a6d3489d54e0",
   "metadata": {},
   "outputs": [],
   "source": [
    "def get_next_sequence(nums):\n",
    "    line = nums.copy()\n",
    "    history = [line[-1]]\n",
    "    while sum(line)>0:\n",
    "        diffs = [line[i+1]-line[i] for i in range(len(line)-1)]\n",
    "        history.append(diffs[-1])\n",
    "        line = diffs\n",
    "    history.reverse()\n",
    "    length = len(history)\n",
    "    val = history[0]+history[1]\n",
    "    values = [0,val]\n",
    "    for i in range(2,length):\n",
    "        values.append(history[i]+vals[i-1])\n",
    "    print(nums, history, values)\n",
    "    return values[-1]"
   ]
  },
  {
   "cell_type": "code",
   "execution_count": 161,
   "id": "afb87a14-2d3f-479e-b189-d7b472be234e",
   "metadata": {},
   "outputs": [
    {
     "name": "stdout",
     "output_type": "stream",
     "text": [
      "[0, 3, 6, 9, 12, 15] [0, 3, 15] [0, 3, 17]\n"
     ]
    },
    {
     "data": {
      "text/plain": [
       "17"
      ]
     },
     "execution_count": 161,
     "metadata": {},
     "output_type": "execute_result"
    }
   ],
   "source": [
    "get_next_sequence(lines[0])"
   ]
  },
  {
   "cell_type": "code",
   "execution_count": 162,
   "id": "aafc9ca2-ec90-406e-a4a4-817cd5f84833",
   "metadata": {},
   "outputs": [
    {
     "name": "stdout",
     "output_type": "stream",
     "text": [
      "[1, 3, 6, 10, 15, 21] [0, 1, 6, 21] [0, 1, 8, 29]\n"
     ]
    },
    {
     "data": {
      "text/plain": [
       "29"
      ]
     },
     "execution_count": 162,
     "metadata": {},
     "output_type": "execute_result"
    }
   ],
   "source": [
    "get_next_sequence(lines[1])"
   ]
  },
  {
   "cell_type": "code",
   "execution_count": 163,
   "id": "c8d82746-18f8-43d2-816a-650e80c66ea9",
   "metadata": {},
   "outputs": [
    {
     "name": "stdout",
     "output_type": "stream",
     "text": [
      "[10, 13, 16, 21, 30, 45] [0, 2, 6, 15, 45] [0, 2, 8, 23, 68]\n"
     ]
    },
    {
     "data": {
      "text/plain": [
       "68"
      ]
     },
     "execution_count": 163,
     "metadata": {},
     "output_type": "execute_result"
    }
   ],
   "source": [
    "get_next_sequence(lines[2])"
   ]
  },
  {
   "cell_type": "code",
   "execution_count": 133,
   "id": "368206a9-75c1-4710-b185-b5c16b65b156",
   "metadata": {},
   "outputs": [
    {
     "data": {
      "text/plain": [
       "114"
      ]
     },
     "execution_count": 133,
     "metadata": {},
     "output_type": "execute_result"
    }
   ],
   "source": [
    "values = list()\n",
    "for line in lines:\n",
    "    values.append(get_next_history(line))\n",
    "sum(values)"
   ]
  },
  {
   "cell_type": "markdown",
   "id": "6fbc9b42-e4fa-4488-a45a-2180722ebf28",
   "metadata": {},
   "source": [
    "# Below is attempt 2\n",
    "\n",
    "Reverse the lines (see commented code in that cell)"
   ]
  },
  {
   "cell_type": "code",
   "execution_count": null,
   "id": "1112e6f3-458f-4021-8d90-1a8ca18698b8",
   "metadata": {},
   "outputs": [],
   "source": []
  },
  {
   "cell_type": "code",
   "execution_count": null,
   "id": "37044c4c-5070-4b44-8597-9241aca08d75",
   "metadata": {},
   "outputs": [],
   "source": []
  },
  {
   "cell_type": "code",
   "execution_count": 89,
   "id": "9acab333-a84f-46fd-94db-70687ac81a4d",
   "metadata": {},
   "outputs": [],
   "source": [
    "def get_diffs(nums):\n",
    "    return [nums[i]-nums[i+1] for i in range(len(nums)-1)]"
   ]
  },
  {
   "cell_type": "code",
   "execution_count": 90,
   "id": "34b124c9-d1d4-4ce4-9a12-d85c470ce4cc",
   "metadata": {},
   "outputs": [],
   "source": [
    "def get_history(nums):\n",
    "    history = [nums.copy()]\n",
    "    vals = list()\n",
    "    while sum(nums)!=0:\n",
    "        diffs = get_diffs(nums)\n",
    "        history.append(diffs)\n",
    "        value = diffs[0]\n",
    "        vals.append(value)\n",
    "        nums = diffs\n",
    "    return history"
   ]
  },
  {
   "cell_type": "code",
   "execution_count": 91,
   "id": "ad23495c-9922-4c84-a0fc-5bd2b6dfe6fa",
   "metadata": {},
   "outputs": [],
   "source": [
    "def get_next_vals(history):\n",
    "    val = 0\n",
    "    next_vals = list()\n",
    "    for i in range(len(history)-1):\n",
    "        val = history[i][0]+val\n",
    "        # print(history[i], val)\n",
    "        next_vals.append(val)\n",
    "    last_val = history[-1][0]+val\n",
    "    next_vals.append(last_val)\n",
    "    return next_vals"
   ]
  },
  {
   "cell_type": "code",
   "execution_count": 94,
   "id": "968b3650-c103-4fa5-bb07-c0adc54353dd",
   "metadata": {},
   "outputs": [
    {
     "data": {
      "text/plain": [
       "1581680965"
      ]
     },
     "execution_count": 94,
     "metadata": {},
     "output_type": "execute_result"
    }
   ],
   "source": [
    "next_vals = list()\n",
    "for line in lines:\n",
    "    h = get_history(line)\n",
    "    next_vals.append(get_next_vals(h)[-1])\n",
    "sum(next_vals)"
   ]
  },
  {
   "cell_type": "code",
   "execution_count": null,
   "id": "7bee3bdb-1b85-47a1-8e30-268e98d62c50",
   "metadata": {},
   "outputs": [],
   "source": []
  },
  {
   "cell_type": "code",
   "execution_count": null,
   "id": "7c93e0bd-f48d-44b5-9605-f862770ea84a",
   "metadata": {},
   "outputs": [],
   "source": []
  },
  {
   "cell_type": "code",
   "execution_count": null,
   "id": "5e450bab-b741-4275-903e-21301dfed61b",
   "metadata": {},
   "outputs": [],
   "source": []
  },
  {
   "cell_type": "markdown",
   "id": "b088c6c2-a0fb-41a0-a348-73226c56de2a",
   "metadata": {},
   "source": [
    "# Below is attempt 1"
   ]
  },
  {
   "cell_type": "code",
   "execution_count": null,
   "id": "b266579b-3911-4925-8e6c-47a539f175d9",
   "metadata": {},
   "outputs": [],
   "source": []
  },
  {
   "cell_type": "code",
   "execution_count": null,
   "id": "89afb82d-98a7-4240-a60d-0fc1bbe31f39",
   "metadata": {},
   "outputs": [],
   "source": []
  },
  {
   "cell_type": "code",
   "execution_count": null,
   "id": "a4033c3f-caa9-4393-9237-0118cec10196",
   "metadata": {},
   "outputs": [],
   "source": []
  },
  {
   "cell_type": "code",
   "execution_count": 4,
   "id": "953ea634-bde0-47b7-a483-39fca0887d12",
   "metadata": {},
   "outputs": [],
   "source": [
    "def get_last_values(nums):\n",
    "    last_vals = [nums[-1]]\n",
    "    while sum(nums)!=0:\n",
    "        nums = get_diffs(nums)\n",
    "        last_vals.append(nums[-1])\n",
    "    last_vals.reverse()\n",
    "    return last_vals"
   ]
  },
  {
   "cell_type": "code",
   "execution_count": 5,
   "id": "b5382b82-10cf-4534-91f4-91afc08bccf6",
   "metadata": {},
   "outputs": [],
   "source": [
    "last_vals = get_last_values(lines[0])"
   ]
  },
  {
   "cell_type": "code",
   "execution_count": 6,
   "id": "5350f432-66ad-4f22-9462-d34ef63b826c",
   "metadata": {},
   "outputs": [],
   "source": [
    "def get_next_values(last_vals):\n",
    "    next_vals = [0]\n",
    "    for i in range(1,len(last_vals)):\n",
    "        value = last_vals[i]+next_vals[i-1]\n",
    "        next_vals.append(value)\n",
    "    return next_vals"
   ]
  },
  {
   "cell_type": "code",
   "execution_count": 7,
   "id": "77c0cb85-5c4b-4a97-96e6-1641f2bef0a7",
   "metadata": {},
   "outputs": [
    {
     "data": {
      "text/plain": [
       "1581681550"
      ]
     },
     "execution_count": 7,
     "metadata": {},
     "output_type": "execute_result"
    }
   ],
   "source": [
    "total = 0\n",
    "for nums in lines:\n",
    "    next_values = get_next_values(get_last_values(nums))\n",
    "    total += next_values[-1]\n",
    "total"
   ]
  },
  {
   "cell_type": "code",
   "execution_count": null,
   "id": "b6e631c0-864d-4c45-9502-3f9cdca7d196",
   "metadata": {},
   "outputs": [],
   "source": []
  }
 ],
 "metadata": {
  "kernelspec": {
   "display_name": "Python 3 (ipykernel)",
   "language": "python",
   "name": "python3"
  },
  "language_info": {
   "codemirror_mode": {
    "name": "ipython",
    "version": 3
   },
   "file_extension": ".py",
   "mimetype": "text/x-python",
   "name": "python",
   "nbconvert_exporter": "python",
   "pygments_lexer": "ipython3",
   "version": "3.10.8"
  }
 },
 "nbformat": 4,
 "nbformat_minor": 5
}
