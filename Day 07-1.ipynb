{
 "cells": [
  {
   "cell_type": "markdown",
   "id": "47169b80-1268-42f9-adfe-585ec920e4bd",
   "metadata": {},
   "source": [
    "# --- Day 7: Camel Cards ---\n",
    "Your all-expenses-paid trip turns out to be a one-way, five-minute ride in an airship. (At least it's a cool airship!) It drops you off at the edge of a vast desert and descends back to Island Island.\n",
    "\n",
    "\"Did you bring the parts?\"\n",
    "\n",
    "You turn around to see an Elf completely covered in white clothing, wearing goggles, and riding a large camel.\n",
    "\n",
    "\"Did you bring the parts?\" she asks again, louder this time. You aren't sure what parts she's looking for; you're here to figure out why the sand stopped.\n",
    "\n",
    "\"The parts! For the sand, yes! Come with me; I will show you.\" She beckons you onto the camel.\n",
    "\n",
    "After riding a bit across the sands of Desert Island, you can see what look like very large rocks covering half of the horizon. The Elf explains that the rocks are all along the part of Desert Island that is directly above Island Island, making it hard to even get there. Normally, they use big machines to move the rocks and filter the sand, but the machines have broken down because Desert Island recently stopped receiving the parts they need to fix the machines.\n",
    "\n",
    "You've already assumed it'll be your job to figure out why the parts stopped when she asks if you can help. You agree automatically.\n",
    "\n",
    "Because the journey will take a few days, she offers to teach you the game of Camel Cards. Camel Cards is sort of similar to poker except it's designed to be easier to play while riding a camel.\n",
    "\n",
    "In Camel Cards, you get a list of hands, and your goal is to order them based on the strength of each hand. A hand consists of five cards labeled one of A, K, Q, J, T, 9, 8, 7, 6, 5, 4, 3, or 2. The relative strength of each card follows this order, where A is the highest and 2 is the lowest.\n",
    "\n",
    "Every hand is exactly one type. From strongest to weakest, they are:\n",
    "\n",
    "Five of a kind, where all five cards have the same label: AAAAA\n",
    "\n",
    "Four of a kind, where four cards have the same label and one card has a different label: AA8AA\n",
    "\n",
    "Full house, where three cards have the same label, and the remaining two cards share a different label: 23332\n",
    "\n",
    "Three of a kind, where three cards have the same label, and the remaining two cards are each different from any other card in the hand: TTT98\n",
    "\n",
    "Two pair, where two cards share one label, two other cards share a second label, and the remaining card has a third label: 23432\n",
    "\n",
    "One pair, where two cards share one label, and the other three cards have a different label from the pair and each other: A23A4\n",
    "\n",
    "High card, where all cards' labels are distinct: 23456\n",
    "Hands are primarily ordered based on type; for example, every full house is stronger than any three of a kind.\n",
    "\n",
    "If two hands have the same type, a second ordering rule takes effect. Start by comparing the first card in each hand. If these cards are different, the hand with the stronger first card is considered stronger. If the first card in each hand have the same label, however, then move on to considering the second card in each hand. If they differ, the hand with the higher second card wins; otherwise, continue with the third card in each hand, then the fourth, then the fifth.\n",
    "\n",
    "So, 33332 and 2AAAA are both four of a kind hands, but 33332 is stronger because its first card is stronger. Similarly, 77888 and 77788 are both a full house, but 77888 is stronger because its third card is stronger (and both hands have the same first and second card).\n",
    "\n",
    "To play Camel Cards, you are given a list of hands and their corresponding bid (your puzzle input). For example:\n",
    "```\n",
    "32T3K 765\n",
    "T55J5 684\n",
    "KK677 28\n",
    "KTJJT 220\n",
    "QQQJA 483\n",
    "```\n",
    "This example shows five hands; each hand is followed by its bid amount. Each hand wins an amount equal to its bid multiplied by its rank, where the weakest hand gets rank 1, the second-weakest hand gets rank 2, and so on up to the strongest hand. Because there are five hands in this example, the strongest hand will have rank 5 and its bid will be multiplied by 5.\n",
    "\n",
    "So, the first step is to put the hands in order of strength:\n",
    "\n",
    "32T3K is the only one pair and the other hands are all a stronger type, so it gets rank 1.\n",
    "\n",
    "KK677 and KTJJT are both two pair. Their first cards both have the same label, but the second card of KK677 is stronger (K vs T), so KTJJT gets rank 2 and KK677 gets rank 3.\n",
    "\n",
    "T55J5 and QQQJA are both three of a kind. QQQJA has a stronger first card, so it gets rank 5 and T55J5 gets rank 4.\n",
    "\n",
    "Now, you can determine the total winnings of this set of hands by adding up the result of multiplying each hand's bid with its rank (765 * 1 + 220 * 2 + 28 * 3 + 684 * 4 + 483 * 5). So the total winnings in this example are 6440.\n",
    "\n",
    "**Find the rank of every hand in your set. What are the total winnings?**"
   ]
  },
  {
   "cell_type": "code",
   "execution_count": 12,
   "id": "7203108e-07a5-4d61-ad99-3c1d8422150f",
   "metadata": {},
   "outputs": [],
   "source": [
    "from utilities import get_lines"
   ]
  },
  {
   "cell_type": "code",
   "execution_count": 14,
   "id": "c53aba70-ecaa-451e-88c9-fa04f6d387c8",
   "metadata": {},
   "outputs": [],
   "source": [
    "lines = get_lines('sample')"
   ]
  },
  {
   "cell_type": "code",
   "execution_count": 10,
   "id": "7779edd5-9c0b-4d47-a619-796d15988249",
   "metadata": {},
   "outputs": [],
   "source": [
    "from collections import Counter"
   ]
  },
  {
   "cell_type": "code",
   "execution_count": 88,
   "id": "110f55f3-4e60-4266-80e7-d0ecf9e6abeb",
   "metadata": {},
   "outputs": [],
   "source": [
    "class Hand:\n",
    "    card_values = dict(zip('23456789TJQKA',range(13)))\n",
    "    \n",
    "    def __init__(self, hand):\n",
    "        self.hand = hand\n",
    "        self.num_cards = len(hand)\n",
    "        \n",
    "    def __repr__(self):\n",
    "        return self.hand\n",
    "    \n",
    "    @classmethod\n",
    "    def _resolve_conflict(cls, h1, h2):\n",
    "        for i in range(h1.num_cards):\n",
    "            if Hand.card_values[h1.hand[i]]>Hand.card_values[h2.hand[i]]:\n",
    "                return 1\n",
    "            if Hand.card_values[h1.hand[i]]<Hand.card_values[h2.hand[i]]:\n",
    "                return -1\n",
    "        return 0\n",
    "    \n",
    "    def __eq__(self, other):\n",
    "        if self._resolve_conflict(self, other)==0:\n",
    "            return True\n",
    "        return False\n",
    "    \n",
    "    def __lt__(self, other):\n",
    "        if self._resolve_conflict(self, other)==-1:\n",
    "            return True\n",
    "        return False\n",
    "    \n",
    "    def __gt__(self, other):\n",
    "        if self._resolve_conflict(self, other)==1:\n",
    "            return True\n",
    "        return False\n",
    "    \n",
    "    @classmethod\n",
    "    def _get_max_count(cls, h):\n",
    "        counter = Counter(h.hand)\n",
    "        return max(counter.items(),\n",
    "                   key=lambda item: item[1]\n",
    "                  )[1]\n",
    "    \n",
    "    def _is_5_kind(self):\n",
    "        if len(set(self.hand))==1:\n",
    "            return True\n",
    "        return False\n",
    "    \n",
    "    def _is_4_kind(self):\n",
    "        if (len(set(self.hand))==2)&(Hand._get_max_count(self)==4):\n",
    "            return True\n",
    "        return False\n",
    "    \n",
    "    def _is_full_house(self):\n",
    "        if (len(set(self.hand))==2)&(Hand._get_max_count(self)==3):\n",
    "            return True\n",
    "        return False\n",
    "    \n",
    "    def _is_3_kind(self):\n",
    "        if (len(set(self.hand))==3)&(Hand._get_max_count(self)==3):\n",
    "            return True\n",
    "        return False\n",
    "    \n",
    "    def _is_2_pair(self):\n",
    "        if (len(set(self.hand))==3)&(Hand._get_max_count(self)==2):\n",
    "            return True\n",
    "        return False\n",
    "    \n",
    "    def _is_1_pair(self):\n",
    "        if len(set(self.hand))==4:\n",
    "            return True\n",
    "        return False\n",
    "    \n",
    "    def _is_high_card(self):\n",
    "        if len(set(self.hand))==5:\n",
    "            return True\n",
    "        return False\n",
    "    \n",
    "    def get_hand_type(self):\n",
    "        if self._is_5_kind():\n",
    "            return '5 of a kind'\n",
    "        if self._is_4_kind():\n",
    "            return '4 of a kind'\n",
    "        if self._is_full_house():\n",
    "            return 'full house'\n",
    "        if self._is_3_kind():\n",
    "            return '3 of a kind'\n",
    "        if self._is_2_pair():\n",
    "            return '2 pair'\n",
    "        if self._is_1_pair():\n",
    "            return '1 pair'\n",
    "        if self._is_high_card():\n",
    "            return 'high card'\n",
    "        return 'no type'\n",
    "    \n",
    "    hand_rank = ['high card', '1 pair', '2 pair', '3 of a kind',\n",
    "                 'full house', '4 of a kind', '5 of a kind'\n",
    "                ]\n",
    "    hand_values = dict(zip(hand_rank, range(7)))\n",
    "    \n",
    "    def get_hand_value(self):\n",
    "        return Hand.hand_values[self.get_hand_type()]\n",
    "    \n",
    "    def __hash__(self):\n",
    "        return hash(self.get_hand_value())\n",
    "    \n",
    "    @classmethod\n",
    "    def rank_hands(cls, hand_list):\n",
    "        sorted_hands = sorted(hand_list, \n",
    "                       key=lambda h: Hand.get_hand_value(h)\n",
    "                      )\n",
    "        #  now do the tie breaker\n",
    "        # pop the last element from the sorted list and put it in a temp list\n",
    "        # peek at the new last element...does it have the same value?\n",
    "        # if not, take the popped element and put it in the final list\n",
    "        # if so, pop the new last element from the sorted list and \n",
    "        # add it to a temp list\n",
    "        # continue peeking until the ranks are different\n",
    "        # sort the temp list by card type and add this to the final list\n",
    "        # repeat until the end"
   ]
  },
  {
   "cell_type": "code",
   "execution_count": 89,
   "id": "4966d8e8-6d3b-45c1-8924-e7d3e1606cde",
   "metadata": {},
   "outputs": [],
   "source": [
    "test_hands = [Hand(h) for h in ['AAAAK','AAAKK','AAAKQ',\n",
    "                                'AAKKQ','AAKQJ','AKQJT', 'AAAAA',\n",
    "                                '22222','22233','22234',\n",
    "                                '22334','22345','23456','22223'\n",
    "                               ]]"
   ]
  },
  {
   "cell_type": "code",
   "execution_count": 90,
   "id": "02b70168-b5f9-4b8a-9bf7-afcfb5750def",
   "metadata": {},
   "outputs": [
    {
     "data": {
      "text/plain": [
       "[AKQJT,\n",
       " 23456,\n",
       " AAKQJ,\n",
       " 22345,\n",
       " AAKKQ,\n",
       " 22334,\n",
       " AAAKQ,\n",
       " 22234,\n",
       " AAAKK,\n",
       " 22233,\n",
       " AAAAK,\n",
       " 22223,\n",
       " AAAAA,\n",
       " 22222]"
      ]
     },
     "execution_count": 90,
     "metadata": {},
     "output_type": "execute_result"
    }
   ],
   "source": [
    "Hand.rank_hands(test_hands)"
   ]
  },
  {
   "cell_type": "code",
   "execution_count": 80,
   "id": "f805600e-eb09-433f-bebc-15b1015564c3",
   "metadata": {},
   "outputs": [
    {
     "data": {
      "text/plain": [
       "[32T3K, T55J5, KK677, KTJJT, QQQJA]"
      ]
     },
     "execution_count": 80,
     "metadata": {},
     "output_type": "execute_result"
    }
   ],
   "source": [
    "hands = [Hand(h) for h in [line.split(' ')[0] for line in lines]]\n",
    "hands"
   ]
  },
  {
   "cell_type": "code",
   "execution_count": 81,
   "id": "d237e82a-0bfe-4324-8904-d446edf1ecfa",
   "metadata": {},
   "outputs": [
    {
     "data": {
      "text/plain": [
       "[32T3K, KK677, KTJJT, T55J5, QQQJA]"
      ]
     },
     "execution_count": 81,
     "metadata": {},
     "output_type": "execute_result"
    }
   ],
   "source": [
    "Hand.sort_hands(hands)"
   ]
  },
  {
   "cell_type": "code",
   "execution_count": 83,
   "id": "2c3b038f-7bc6-4d8f-a34c-9a34736f99b1",
   "metadata": {},
   "outputs": [
    {
     "data": {
      "text/plain": [
       "[AKQJT,\n",
       " 23456,\n",
       " AAKQJ,\n",
       " 22345,\n",
       " AAKKQ,\n",
       " 22334,\n",
       " AAAKQ,\n",
       " 22234,\n",
       " AAAKK,\n",
       " 22233,\n",
       " AAAAK,\n",
       " 22223,\n",
       " AAAAA,\n",
       " 22222]"
      ]
     },
     "execution_count": 83,
     "metadata": {},
     "output_type": "execute_result"
    }
   ],
   "source": [
    "Hand.sort_hands(test_hands)"
   ]
  },
  {
   "cell_type": "code",
   "execution_count": 86,
   "id": "9ea29c89-d9d6-464d-9f11-1349a9ecab2f",
   "metadata": {},
   "outputs": [
    {
     "data": {
      "text/plain": [
       "[22222,\n",
       " 22223,\n",
       " 22233,\n",
       " 22234,\n",
       " 22334,\n",
       " 22345,\n",
       " 23456,\n",
       " AKQJT,\n",
       " AAKQJ,\n",
       " AAKKQ,\n",
       " AAAKQ,\n",
       " AAAKK,\n",
       " AAAAK,\n",
       " AAAAA]"
      ]
     },
     "execution_count": 86,
     "metadata": {},
     "output_type": "execute_result"
    }
   ],
   "source": [
    "sorted(test_hands)"
   ]
  },
  {
   "cell_type": "code",
   "execution_count": 82,
   "id": "87f0e63d-39da-47fa-aee3-91506f784792",
   "metadata": {},
   "outputs": [
    {
     "data": {
      "text/plain": [
       "[AKQJT,\n",
       " 23456,\n",
       " AAKQJ,\n",
       " 22345,\n",
       " AAKKQ,\n",
       " 22334,\n",
       " AAAKQ,\n",
       " 22234,\n",
       " AAAKK,\n",
       " 22233,\n",
       " AAAAK,\n",
       " 22223,\n",
       " AAAAA,\n",
       " 22222]"
      ]
     },
     "execution_count": 82,
     "metadata": {},
     "output_type": "execute_result"
    }
   ],
   "source": [
    "sort_hands_test = lambda hand_list:sorted(hand_list, key=lambda h: Hand.get_hand_value(h))\n",
    "sort_hands_test(test_hands)"
   ]
  },
  {
   "cell_type": "code",
   "execution_count": 77,
   "id": "4dd74ece-37ea-46ec-b6cf-c561fd0af9b3",
   "metadata": {},
   "outputs": [],
   "source": [
    "rev_sort_hands = lambda hand_list: sort_hands(hand_list)[::-1]"
   ]
  },
  {
   "cell_type": "code",
   "execution_count": 78,
   "id": "603f4fc7-b92c-420e-afd6-27a40a06b85c",
   "metadata": {},
   "outputs": [
    {
     "data": {
      "text/plain": [
       "[22222,\n",
       " AAAAA,\n",
       " 22223,\n",
       " AAAAK,\n",
       " 22233,\n",
       " AAAKK,\n",
       " 22234,\n",
       " AAAKQ,\n",
       " 22334,\n",
       " AAKKQ,\n",
       " 22345,\n",
       " AAKQJ,\n",
       " 23456,\n",
       " AKQJT]"
      ]
     },
     "execution_count": 78,
     "metadata": {},
     "output_type": "execute_result"
    }
   ],
   "source": [
    "rev_sort_hands(test_hands)"
   ]
  },
  {
   "cell_type": "code",
   "execution_count": null,
   "id": "efbef19b-f34d-43d6-b85b-296684c40bf0",
   "metadata": {},
   "outputs": [],
   "source": []
  }
 ],
 "metadata": {
  "kernelspec": {
   "display_name": "Python 3 (ipykernel)",
   "language": "python",
   "name": "python3"
  },
  "language_info": {
   "codemirror_mode": {
    "name": "ipython",
    "version": 3
   },
   "file_extension": ".py",
   "mimetype": "text/x-python",
   "name": "python",
   "nbconvert_exporter": "python",
   "pygments_lexer": "ipython3",
   "version": "3.10.8"
  }
 },
 "nbformat": 4,
 "nbformat_minor": 5
}
