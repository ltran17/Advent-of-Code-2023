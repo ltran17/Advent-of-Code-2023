{
 "cells": [
  {
   "cell_type": "markdown",
   "id": "5b530db6-442a-4706-a8ac-2f34fae25ee5",
   "metadata": {},
   "source": [
    "# --- Day 11: Cosmic Expansion ---\n",
    "\n",
    "You continue following signs for \"Hot Springs\" and eventually come across an observatory. The Elf within turns out to be a researcher studying cosmic expansion using the giant telescope here.\n",
    "\n",
    "He doesn't know anything about the missing machine parts; he's only visiting for this research project. However, he confirms that the hot springs are the next-closest area likely to have people; he'll even take you straight there once he's done with today's observation analysis.\n",
    "\n",
    "Maybe you can help him with the analysis to speed things up?\n",
    "\n",
    "The researcher has collected a bunch of data and compiled the data into a single giant image (your puzzle input). The image includes empty space (.) and galaxies (#). For example:\n",
    "```\n",
    "...#......\n",
    ".......#..\n",
    "#.........\n",
    "..........\n",
    "......#...\n",
    ".#........\n",
    ".........#\n",
    "..........\n",
    ".......#..\n",
    "#...#.....\n",
    "```\n",
    "The researcher is trying to figure out the sum of the lengths of the shortest path between every pair of galaxies. However, there's a catch: the universe expanded in the time it took the light from those galaxies to reach the observatory.\n",
    "\n",
    "Due to something involving gravitational effects, only some space expands. In fact, the result is that any rows or columns that contain no galaxies should all actually be twice as big.\n",
    "\n",
    "In the above example, three columns and two rows contain no galaxies:\n",
    "```\n",
    "   v  v  v\n",
    " ...#......\n",
    " .......#..\n",
    " #.........\n",
    ">..........<\n",
    " ......#...\n",
    " .#........\n",
    " .........#\n",
    ">..........<\n",
    " .......#..\n",
    " #...#.....\n",
    "   ^  ^  ^\n",
    "```\n",
    "These rows and columns need to be twice as big; the result of cosmic expansion therefore looks like this:\n",
    "```\n",
    "....#........\n",
    ".........#...\n",
    "#............\n",
    ".............\n",
    ".............\n",
    "........#....\n",
    ".#...........\n",
    "............#\n",
    ".............\n",
    ".............\n",
    ".........#...\n",
    "#....#.......\n",
    "```\n",
    "Equipped with this expanded universe, the shortest path between every pair of galaxies can be found. It can help to assign every galaxy a unique number:\n",
    "```\n",
    "....1........\n",
    ".........2...\n",
    "3............\n",
    ".............\n",
    ".............\n",
    "........4....\n",
    ".5...........\n",
    "............6\n",
    ".............\n",
    ".............\n",
    ".........7...\n",
    "8....9.......\n",
    "```\n",
    "In these 9 galaxies, there are 36 pairs. Only count each pair once; order within the pair doesn't matter. For each pair, find any shortest path between the two galaxies using only steps that move up, down, left, or right exactly one . or # at a time. (The shortest path between two galaxies is allowed to pass through another galaxy.)\n",
    "\n",
    "For example, here is one of the shortest paths between galaxies 5 and 9:\n",
    "```\n",
    "....1........\n",
    ".........2...\n",
    "3............\n",
    ".............\n",
    ".............\n",
    "........4....\n",
    ".5...........\n",
    ".##.........6\n",
    "..##.........\n",
    "...##........\n",
    "....##...7...\n",
    "8....9.......\n",
    "```\n",
    "This path has length 9 because it takes a minimum of nine steps to get from galaxy 5 to galaxy 9 (the eight locations marked # plus the step onto galaxy 9 itself). Here are some other example shortest path lengths:\n",
    "```\n",
    "Between galaxy 1 and galaxy 7: 15\n",
    "Between galaxy 3 and galaxy 6: 17\n",
    "Between galaxy 8 and galaxy 9: 5\n",
    "```\n",
    "In this example, after expanding the universe, the sum of the shortest path between all 36 pairs of galaxies is 374.\n",
    "\n",
    "**Expand the universe, then find the length of the shortest path between every pair of galaxies. What is the sum of these lengths?**"
   ]
  },
  {
   "cell_type": "code",
   "execution_count": 1,
   "id": "7fe26e6f-76ee-47b1-9f73-53474b26d446",
   "metadata": {},
   "outputs": [],
   "source": [
    "from utilities import get_lines"
   ]
  },
  {
   "cell_type": "code",
   "execution_count": 2,
   "id": "7b8b594a-8365-44b0-af9b-3d3b50b06a61",
   "metadata": {},
   "outputs": [],
   "source": [
    "lines = [[ch for ch in line.strip()] for line in get_lines('input')]\n",
    "space = lines.copy()"
   ]
  },
  {
   "cell_type": "code",
   "execution_count": 3,
   "id": "a10b4142-fcaa-4f0b-97e9-9ddba05f44f6",
   "metadata": {},
   "outputs": [],
   "source": [
    "cols_to_insert = list()\n",
    "rows_to_insert = list()"
   ]
  },
  {
   "cell_type": "code",
   "execution_count": 5,
   "id": "b2baf061-fcd6-4643-9839-9d36418418fa",
   "metadata": {},
   "outputs": [
    {
     "data": {
      "text/plain": [
       "[38, 45, 56, 59, 63, 66, 83, 84, 89, 101]"
      ]
     },
     "execution_count": 5,
     "metadata": {},
     "output_type": "execute_result"
    }
   ],
   "source": [
    "for i, row in enumerate(space):\n",
    "    if sum([ch=='#' for ch in row])==0:\n",
    "        rows_to_insert.append(i)\n",
    "rows_to_insert"
   ]
  },
  {
   "cell_type": "code",
   "execution_count": 6,
   "id": "ee8492cf-0360-4d68-80f5-3d994f7eb7f7",
   "metadata": {},
   "outputs": [
    {
     "data": {
      "text/plain": [
       "[27, 52, 60, 63, 69, 73, 89]"
      ]
     },
     "execution_count": 6,
     "metadata": {},
     "output_type": "execute_result"
    }
   ],
   "source": [
    "for j in range(len(space[0])):\n",
    "    total = 0\n",
    "    for i, row in enumerate(space):\n",
    "        if row[j]=='#':\n",
    "            total+=1\n",
    "    if total==0:\n",
    "        cols_to_insert.append(j)\n",
    "cols_to_insert"
   ]
  },
  {
   "cell_type": "code",
   "execution_count": 7,
   "id": "52c0420d-96e2-43b4-a94e-0536daada970",
   "metadata": {},
   "outputs": [],
   "source": [
    "for col in cols_to_insert[::-1]:\n",
    "    for sp in space:\n",
    "        sp.insert(col,'.')"
   ]
  },
  {
   "cell_type": "code",
   "execution_count": 8,
   "id": "ac901f7e-e8d9-4e5b-8a25-44410085e99c",
   "metadata": {},
   "outputs": [],
   "source": [
    "new_row = ['.' for j in range(len(space[0]))]\n",
    "for row in rows_to_insert[::-1]:\n",
    "    space.insert(row, new_row)"
   ]
  },
  {
   "cell_type": "code",
   "execution_count": 9,
   "id": "182dab4d-9d94-42a7-bb25-5345ecc1e60c",
   "metadata": {},
   "outputs": [],
   "source": [
    "from itertools import combinations"
   ]
  },
  {
   "cell_type": "code",
   "execution_count": 10,
   "id": "29809636-5282-45a1-993e-797b69e0378d",
   "metadata": {},
   "outputs": [],
   "source": [
    "rows = len(space)\n",
    "cols = len(space[0])\n",
    "coords = list()"
   ]
  },
  {
   "cell_type": "code",
   "execution_count": 11,
   "id": "cfcc9301-64cf-4308-8a4b-f88f9e37b8b4",
   "metadata": {},
   "outputs": [],
   "source": [
    "for col in range(cols):\n",
    "    for row in range(rows):\n",
    "        if space[row][col]=='#':\n",
    "            coords.append((row,col))"
   ]
  },
  {
   "cell_type": "code",
   "execution_count": 12,
   "id": "fac01f12-b9e5-445a-a93e-e4ccd1b10771",
   "metadata": {},
   "outputs": [
    {
     "data": {
      "text/plain": [
       "99681"
      ]
     },
     "execution_count": 12,
     "metadata": {},
     "output_type": "execute_result"
    }
   ],
   "source": [
    "point_pairs = list(combinations(coords,2))\n",
    "len(point_pairs)"
   ]
  },
  {
   "cell_type": "code",
   "execution_count": 13,
   "id": "a5b743ba-bb4b-47ef-b6cf-1b145a93dbc3",
   "metadata": {},
   "outputs": [],
   "source": [
    "def get_distance(p1,p2):\n",
    "    dx = p1[0]-p2[0]\n",
    "    dy = p1[1]-p2[1]\n",
    "    return abs(dx)+abs(dy)"
   ]
  },
  {
   "cell_type": "code",
   "execution_count": 14,
   "id": "e2022f7f-4e25-4888-906b-c5f83fb20b8a",
   "metadata": {},
   "outputs": [
    {
     "data": {
      "text/plain": [
       "10292708"
      ]
     },
     "execution_count": 14,
     "metadata": {},
     "output_type": "execute_result"
    }
   ],
   "source": [
    "distances = list()\n",
    "for points in point_pairs:\n",
    "    dist = get_distance(*points)\n",
    "    distances.append(dist)\n",
    "sum(distances)"
   ]
  },
  {
   "cell_type": "code",
   "execution_count": null,
   "id": "0f0977f8-8a50-4f96-85c9-654f09e5106a",
   "metadata": {},
   "outputs": [],
   "source": []
  }
 ],
 "metadata": {
  "kernelspec": {
   "display_name": "Python 3 (ipykernel)",
   "language": "python",
   "name": "python3"
  },
  "language_info": {
   "codemirror_mode": {
    "name": "ipython",
    "version": 3
   },
   "file_extension": ".py",
   "mimetype": "text/x-python",
   "name": "python",
   "nbconvert_exporter": "python",
   "pygments_lexer": "ipython3",
   "version": "3.8.12"
  }
 },
 "nbformat": 4,
 "nbformat_minor": 5
}
