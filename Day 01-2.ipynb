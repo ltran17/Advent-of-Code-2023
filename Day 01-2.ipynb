{
 "cells": [
  {
   "cell_type": "markdown",
   "id": "b2ac6b01-6fa3-450e-8c04-f2ddaa584c4c",
   "metadata": {},
   "source": [
    "--- Part Two ---\n",
    "\n",
    "Your calculation isn't quite right. It looks like some of the digits are actually spelled out with letters: one, two, three, four, five, six, seven, eight, and nine also count as valid \"digits\".\n",
    "\n",
    "Equipped with this new information, you now need to find the real first and last digit on each line. For example:\n",
    "```\n",
    "two1nine\n",
    "eightwothree\n",
    "abcone2threexyz\n",
    "xtwone3four\n",
    "4nineeightseven2\n",
    "zoneight234\n",
    "7pqrstsixteen\n",
    "```\n",
    "In this example, the calibration values are 29, 83, 13, 24, 42, 14, and 76. Adding these together produces 281.\n",
    "\n",
    "What is the sum of all of the calibration values?"
   ]
  },
  {
   "cell_type": "code",
   "execution_count": 1,
   "id": "436d0f5b-0022-4482-a6b2-4c901b8a8ce5",
   "metadata": {},
   "outputs": [],
   "source": [
    "digits = {str(i):i for i in range(10)}\n",
    "numbers = ({'zero':0,\n",
    "            'one':1,\n",
    "            'two':2,\n",
    "            'three':3,\n",
    "            'four':4,\n",
    "            'five':5,\n",
    "            'six':6,\n",
    "            'seven':7,\n",
    "            'eight':8,\n",
    "            'nine':9\n",
    "          })"
   ]
  },
  {
   "cell_type": "code",
   "execution_count": 2,
   "id": "10f64e81-6e52-4ce0-92db-90470fe37af6",
   "metadata": {},
   "outputs": [],
   "source": [
    "numbers.update(digits)"
   ]
  },
  {
   "cell_type": "code",
   "execution_count": 3,
   "id": "c5ab0816-99a1-4362-9198-52d71a90c788",
   "metadata": {},
   "outputs": [],
   "source": [
    "def get_lines(file_type='sample', day=-1):\n",
    "    '''\n",
    "    Read in the lines of today's sample/input file line by line. \n",
    "    Assumes the file is in folder called 'inputs/'\n",
    "    \n",
    "    Parameters\n",
    "    ----------\n",
    "    file_type : str\n",
    "        Either sample or input\n",
    "    \n",
    "    Returns\n",
    "    -------\n",
    "    list of inputs stripped of whitespace\n",
    "    '''\n",
    "    if day==-1:\n",
    "        import datetime\n",
    "        day = str(datetime.datetime.today().day).zfill(2)\n",
    "    else:\n",
    "        day = str(day).zfill(2)\n",
    "    filename = f'inputs/{day}-{file_type}.txt'\n",
    "    try:\n",
    "        with open(filename,'r') as file:\n",
    "            lines = [line.strip() for line in file.readlines()]\n",
    "        return lines\n",
    "    except:\n",
    "        print(filename+' does not exist')\n",
    "        return None"
   ]
  },
  {
   "cell_type": "code",
   "execution_count": 4,
   "id": "784eac97-1746-4bd7-af8b-837802e06fcf",
   "metadata": {},
   "outputs": [],
   "source": [
    "lines = get_lines('input', day=1)"
   ]
  },
  {
   "cell_type": "code",
   "execution_count": 5,
   "id": "65a48c02-5efb-4685-9498-b272940f4798",
   "metadata": {},
   "outputs": [
    {
     "data": {
      "text/plain": [
       "1000"
      ]
     },
     "execution_count": 5,
     "metadata": {},
     "output_type": "execute_result"
    }
   ],
   "source": [
    "len(lines)"
   ]
  },
  {
   "cell_type": "code",
   "execution_count": 6,
   "id": "a539053e-f964-4bfd-b89e-ef3b7316d13a",
   "metadata": {},
   "outputs": [],
   "source": [
    "import re"
   ]
  },
  {
   "cell_type": "code",
   "execution_count": 7,
   "id": "480eb1a1-9d1f-4c26-9dba-94b9363114d5",
   "metadata": {},
   "outputs": [],
   "source": [
    "keys = numbers.keys()"
   ]
  },
  {
   "cell_type": "code",
   "execution_count": 8,
   "id": "6a8c5ad1-4059-494f-85cf-0f90476614f5",
   "metadata": {},
   "outputs": [],
   "source": [
    "def get_first_number(line):\n",
    "    for i in range(len(line)):\n",
    "        for num in numbers.keys():\n",
    "            chars = len(num)\n",
    "            if line[i:i+chars]==num:\n",
    "                return numbers[num]\n",
    "    return None"
   ]
  },
  {
   "cell_type": "code",
   "execution_count": 9,
   "id": "1b512402-38c0-472c-b105-9b84c35ef92f",
   "metadata": {},
   "outputs": [],
   "source": [
    "def get_last_number(line):\n",
    "    line_len = len(line)\n",
    "    for i in range(line_len):\n",
    "        for num in numbers.keys():\n",
    "            if line[line_len-len(num)-i:line_len-i]==num:\n",
    "                return numbers[num]\n",
    "    return None"
   ]
  },
  {
   "cell_type": "code",
   "execution_count": 10,
   "id": "4604151f-487a-4c44-9470-16c9f4e6d9cf",
   "metadata": {},
   "outputs": [],
   "source": [
    "def get_line_number(line):\n",
    "    first = get_first_number(line)\n",
    "    last = get_last_number(line)\n",
    "    return int(str(first)+str(last))"
   ]
  },
  {
   "cell_type": "code",
   "execution_count": 11,
   "id": "12d0fb8a-711a-49f2-94e7-94fbebb577ef",
   "metadata": {},
   "outputs": [],
   "source": [
    "line_numbers = list()\n",
    "for line in lines:\n",
    "    line_numbers.append(get_line_number(line))"
   ]
  },
  {
   "cell_type": "code",
   "execution_count": 12,
   "id": "b96e7104-8216-412b-8df3-b0e6dc1f0e36",
   "metadata": {},
   "outputs": [
    {
     "data": {
      "text/plain": [
       "54925"
      ]
     },
     "execution_count": 12,
     "metadata": {},
     "output_type": "execute_result"
    }
   ],
   "source": [
    "sum(line_numbers)"
   ]
  },
  {
   "cell_type": "code",
   "execution_count": null,
   "id": "73ef5451-bc0c-4e6c-9d48-8256334c7401",
   "metadata": {},
   "outputs": [],
   "source": []
  }
 ],
 "metadata": {
  "kernelspec": {
   "display_name": "Python 3 (ipykernel)",
   "language": "python",
   "name": "python3"
  },
  "language_info": {
   "codemirror_mode": {
    "name": "ipython",
    "version": 3
   },
   "file_extension": ".py",
   "mimetype": "text/x-python",
   "name": "python",
   "nbconvert_exporter": "python",
   "pygments_lexer": "ipython3",
   "version": "3.10.8"
  }
 },
 "nbformat": 4,
 "nbformat_minor": 5
}
