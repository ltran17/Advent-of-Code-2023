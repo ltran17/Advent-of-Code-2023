{
 "cells": [
  {
   "cell_type": "markdown",
   "id": "f58ea17c-5459-4bc0-8e92-a4c8654215d0",
   "metadata": {},
   "source": [
    "# Random investigations into the AoC data\n",
    "When I have time to look into it, I will...\n",
    "\n",
    "Set up is below. \n",
    "\n",
    "[Jump to create dataframe](#Create-dataframe)"
   ]
  },
  {
   "cell_type": "code",
   "execution_count": 1,
   "id": "431868ce-7447-479e-b6e3-c81a70d0c314",
   "metadata": {},
   "outputs": [],
   "source": [
    "import pandas as pd\n",
    "import requests"
   ]
  },
  {
   "cell_type": "markdown",
   "id": "f5995688-4c32-4725-95cc-baf558692425",
   "metadata": {},
   "source": [
    "There's a stats page for each year of AoC at `adventofcode.com/YYYY/stats`.\n",
    "\n",
    "Can I scrape the info from the page to do some analysis?\n",
    "\n",
    "Note: the first year of Advent of Code was 2015.\n",
    "\n",
    "I'm holding off on 2023 until later...I'm too sleepy."
   ]
  },
  {
   "cell_type": "code",
   "execution_count": 2,
   "id": "6deb1fc6-d794-4478-87c0-47d026dc1a85",
   "metadata": {},
   "outputs": [],
   "source": [
    "from bs4 import BeautifulSoup as bs"
   ]
  },
  {
   "cell_type": "code",
   "execution_count": 3,
   "id": "daead3cb-7f62-4232-99cf-3bdb135b6688",
   "metadata": {},
   "outputs": [],
   "source": [
    "def get_request(year):\n",
    "    url = f'https://adventofcode.com/{year}/stats'\n",
    "    return requests.get(url)"
   ]
  },
  {
   "cell_type": "code",
   "execution_count": 4,
   "id": "fbd68102-fa1b-4253-9b41-8c18a79611e6",
   "metadata": {},
   "outputs": [],
   "source": [
    "def get_spans_from_soup(soup):\n",
    "    '''\n",
    "    Parameters\n",
    "    ----------\n",
    "    soup: beautiful soup object from the content of a request\n",
    "    \n",
    "    Returns\n",
    "    -------\n",
    "    list of texts from span tags in the soup\n",
    "    '''\n",
    "    return [span.get_text() for span in soup.find_all('span')]"
   ]
  },
  {
   "cell_type": "code",
   "execution_count": 5,
   "id": "42fec996-a9cb-4fa2-945e-5335ee46e46f",
   "metadata": {},
   "outputs": [],
   "source": [
    "from collections import namedtuple\n",
    "Star = namedtuple('Star','year day gold silver')"
   ]
  },
  {
   "cell_type": "code",
   "execution_count": 6,
   "id": "e61c6f5d-e93d-4399-9a5b-48c257224cd5",
   "metadata": {},
   "outputs": [],
   "source": [
    "def get_star_counts(spans):\n",
    "    '''\n",
    "    Parameters\n",
    "    ----------\n",
    "    spans: list of text values of soup spans\n",
    "    \n",
    "    Returns\n",
    "    -------\n",
    "    list of Stars (star data for the year)\n",
    "    '''\n",
    "    #  the starting index of spans and the mod values are very specific to the format\n",
    "    values = [int(value.strip()) for i,value in enumerate(spans[6:]) if (i%4==0)|(i%4==1)]\n",
    "    stars = [Star(year, 25-i//2, values[i],values[i+1]) for i in range(0,len(values),2)]\n",
    "    return stars"
   ]
  },
  {
   "cell_type": "markdown",
   "id": "303d6137-50a1-4600-92d6-f48a3fcf9047",
   "metadata": {},
   "source": [
    "Put this all together..."
   ]
  },
  {
   "cell_type": "code",
   "execution_count": 7,
   "id": "715ec630-8f4f-49c7-8881-c2a5bd1b8e2c",
   "metadata": {},
   "outputs": [],
   "source": [
    "def get_data_for_year(year):\n",
    "    r = get_request(year)\n",
    "    soup = bs(r.content)\n",
    "    spans = get_spans_from_soup(soup)\n",
    "    stars = get_star_counts(spans)\n",
    "    return pd.DataFrame(stars)\n",
    "    "
   ]
  },
  {
   "cell_type": "code",
   "execution_count": 8,
   "id": "40bfa2de-fcad-411f-a661-8296c6c1af5d",
   "metadata": {},
   "outputs": [
    {
     "data": {
      "text/plain": [
       "8"
      ]
     },
     "execution_count": 8,
     "metadata": {},
     "output_type": "execute_result"
    }
   ],
   "source": [
    "data = list()\n",
    "year = 2022\n",
    "while year>=2015:\n",
    "    data.append(get_data_for_year(year))\n",
    "    year-=1\n",
    "len(data)"
   ]
  },
  {
   "cell_type": "code",
   "execution_count": 9,
   "id": "b193c19f-c52b-4bd3-8b57-99bc79784daf",
   "metadata": {},
   "outputs": [
    {
     "data": {
      "text/plain": [
       "(200, 4)"
      ]
     },
     "execution_count": 9,
     "metadata": {},
     "output_type": "execute_result"
    }
   ],
   "source": [
    "df = pd.concat(data, ignore_index=True)\n",
    "df.shape"
   ]
  },
  {
   "cell_type": "markdown",
   "id": "f6e4a80c-90be-44b4-a71e-6202c99864d6",
   "metadata": {},
   "source": [
    "[Return to top](#Random-investigations-into-the-AoC-data)"
   ]
  },
  {
   "cell_type": "markdown",
   "id": "7a4a6f09-cc24-4919-85ee-d3607076ae48",
   "metadata": {},
   "source": [
    "## Create dataframe \n",
    "\n",
    "Run all above selected cell to get the data into dataframe `df`."
   ]
  },
  {
   "cell_type": "code",
   "execution_count": 10,
   "id": "3614dd68-ebde-4023-945e-7c7a36483d57",
   "metadata": {},
   "outputs": [
    {
     "data": {
      "text/html": [
       "<div>\n",
       "<style scoped>\n",
       "    .dataframe tbody tr th:only-of-type {\n",
       "        vertical-align: middle;\n",
       "    }\n",
       "\n",
       "    .dataframe tbody tr th {\n",
       "        vertical-align: top;\n",
       "    }\n",
       "\n",
       "    .dataframe thead th {\n",
       "        text-align: right;\n",
       "    }\n",
       "</style>\n",
       "<table border=\"1\" class=\"dataframe\">\n",
       "  <thead>\n",
       "    <tr style=\"text-align: right;\">\n",
       "      <th></th>\n",
       "      <th>gold</th>\n",
       "      <th>silver</th>\n",
       "    </tr>\n",
       "  </thead>\n",
       "  <tbody>\n",
       "    <tr>\n",
       "      <th>count</th>\n",
       "      <td>200.00000</td>\n",
       "      <td>200.000000</td>\n",
       "    </tr>\n",
       "    <tr>\n",
       "      <th>mean</th>\n",
       "      <td>37225.33000</td>\n",
       "      <td>3349.380000</td>\n",
       "    </tr>\n",
       "    <tr>\n",
       "      <th>std</th>\n",
       "      <td>46274.32049</td>\n",
       "      <td>4918.661594</td>\n",
       "    </tr>\n",
       "    <tr>\n",
       "      <th>min</th>\n",
       "      <td>3933.00000</td>\n",
       "      <td>24.000000</td>\n",
       "    </tr>\n",
       "    <tr>\n",
       "      <th>25%</th>\n",
       "      <td>9811.75000</td>\n",
       "      <td>474.000000</td>\n",
       "    </tr>\n",
       "    <tr>\n",
       "      <th>50%</th>\n",
       "      <td>18443.50000</td>\n",
       "      <td>1452.000000</td>\n",
       "    </tr>\n",
       "    <tr>\n",
       "      <th>75%</th>\n",
       "      <td>46571.25000</td>\n",
       "      <td>4623.250000</td>\n",
       "    </tr>\n",
       "    <tr>\n",
       "      <th>max</th>\n",
       "      <td>279022.00000</td>\n",
       "      <td>39679.000000</td>\n",
       "    </tr>\n",
       "  </tbody>\n",
       "</table>\n",
       "</div>"
      ],
      "text/plain": [
       "               gold        silver\n",
       "count     200.00000    200.000000\n",
       "mean    37225.33000   3349.380000\n",
       "std     46274.32049   4918.661594\n",
       "min      3933.00000     24.000000\n",
       "25%      9811.75000    474.000000\n",
       "50%     18443.50000   1452.000000\n",
       "75%     46571.25000   4623.250000\n",
       "max    279022.00000  39679.000000"
      ]
     },
     "execution_count": 10,
     "metadata": {},
     "output_type": "execute_result"
    }
   ],
   "source": [
    "df.describe()[['gold','silver']]"
   ]
  },
  {
   "cell_type": "code",
   "execution_count": 12,
   "id": "fde0aa5c-1b74-486e-9bf4-927acafc62b2",
   "metadata": {},
   "outputs": [
    {
     "data": {
      "text/html": [
       "<div>\n",
       "<style scoped>\n",
       "    .dataframe tbody tr th:only-of-type {\n",
       "        vertical-align: middle;\n",
       "    }\n",
       "\n",
       "    .dataframe tbody tr th {\n",
       "        vertical-align: top;\n",
       "    }\n",
       "\n",
       "    .dataframe thead th {\n",
       "        text-align: right;\n",
       "    }\n",
       "</style>\n",
       "<table border=\"1\" class=\"dataframe\">\n",
       "  <thead>\n",
       "    <tr style=\"text-align: right;\">\n",
       "      <th></th>\n",
       "      <th>year</th>\n",
       "      <th>day</th>\n",
       "      <th>gold</th>\n",
       "      <th>silver</th>\n",
       "      <th>percent_gold</th>\n",
       "    </tr>\n",
       "  </thead>\n",
       "  <tbody>\n",
       "    <tr>\n",
       "      <th>0</th>\n",
       "      <td>2022</td>\n",
       "      <td>25</td>\n",
       "      <td>12978</td>\n",
       "      <td>7299</td>\n",
       "      <td>0.640036</td>\n",
       "    </tr>\n",
       "    <tr>\n",
       "      <th>1</th>\n",
       "      <td>2022</td>\n",
       "      <td>24</td>\n",
       "      <td>16162</td>\n",
       "      <td>242</td>\n",
       "      <td>0.985248</td>\n",
       "    </tr>\n",
       "    <tr>\n",
       "      <th>2</th>\n",
       "      <td>2022</td>\n",
       "      <td>23</td>\n",
       "      <td>18310</td>\n",
       "      <td>249</td>\n",
       "      <td>0.986583</td>\n",
       "    </tr>\n",
       "    <tr>\n",
       "      <th>3</th>\n",
       "      <td>2022</td>\n",
       "      <td>22</td>\n",
       "      <td>15176</td>\n",
       "      <td>5079</td>\n",
       "      <td>0.749247</td>\n",
       "    </tr>\n",
       "    <tr>\n",
       "      <th>4</th>\n",
       "      <td>2022</td>\n",
       "      <td>21</td>\n",
       "      <td>22799</td>\n",
       "      <td>3033</td>\n",
       "      <td>0.882587</td>\n",
       "    </tr>\n",
       "    <tr>\n",
       "      <th>...</th>\n",
       "      <td>...</td>\n",
       "      <td>...</td>\n",
       "      <td>...</td>\n",
       "      <td>...</td>\n",
       "      <td>...</td>\n",
       "    </tr>\n",
       "    <tr>\n",
       "      <th>195</th>\n",
       "      <td>2015</td>\n",
       "      <td>5</td>\n",
       "      <td>36212</td>\n",
       "      <td>6289</td>\n",
       "      <td>0.852027</td>\n",
       "    </tr>\n",
       "    <tr>\n",
       "      <th>196</th>\n",
       "      <td>2015</td>\n",
       "      <td>4</td>\n",
       "      <td>41976</td>\n",
       "      <td>1453</td>\n",
       "      <td>0.966543</td>\n",
       "    </tr>\n",
       "    <tr>\n",
       "      <th>197</th>\n",
       "      <td>2015</td>\n",
       "      <td>3</td>\n",
       "      <td>48548</td>\n",
       "      <td>3971</td>\n",
       "      <td>0.924389</td>\n",
       "    </tr>\n",
       "    <tr>\n",
       "      <th>198</th>\n",
       "      <td>2015</td>\n",
       "      <td>2</td>\n",
       "      <td>58430</td>\n",
       "      <td>5942</td>\n",
       "      <td>0.907693</td>\n",
       "    </tr>\n",
       "    <tr>\n",
       "      <th>199</th>\n",
       "      <td>2015</td>\n",
       "      <td>1</td>\n",
       "      <td>84061</td>\n",
       "      <td>17360</td>\n",
       "      <td>0.828832</td>\n",
       "    </tr>\n",
       "  </tbody>\n",
       "</table>\n",
       "<p>200 rows × 5 columns</p>\n",
       "</div>"
      ],
      "text/plain": [
       "     year  day   gold  silver  percent_gold\n",
       "0    2022   25  12978    7299      0.640036\n",
       "1    2022   24  16162     242      0.985248\n",
       "2    2022   23  18310     249      0.986583\n",
       "3    2022   22  15176    5079      0.749247\n",
       "4    2022   21  22799    3033      0.882587\n",
       "..    ...  ...    ...     ...           ...\n",
       "195  2015    5  36212    6289      0.852027\n",
       "196  2015    4  41976    1453      0.966543\n",
       "197  2015    3  48548    3971      0.924389\n",
       "198  2015    2  58430    5942      0.907693\n",
       "199  2015    1  84061   17360      0.828832\n",
       "\n",
       "[200 rows x 5 columns]"
      ]
     },
     "execution_count": 12,
     "metadata": {},
     "output_type": "execute_result"
    }
   ],
   "source": [
    "df['percent_gold'] = df['gold']/(df['gold']+df['silver'])\n",
    "df"
   ]
  },
  {
   "cell_type": "markdown",
   "id": "b92f0879-2b57-4e29-8547-4a2e76d9875b",
   "metadata": {},
   "source": [
    "[Return to top](#Random-investigations-into-the-AoC-data)"
   ]
  },
  {
   "cell_type": "code",
   "execution_count": null,
   "id": "1b774adb-dfad-49c0-94a6-dd16f4ac3761",
   "metadata": {},
   "outputs": [],
   "source": []
  }
 ],
 "metadata": {
  "kernelspec": {
   "display_name": "Python 3 (ipykernel)",
   "language": "python",
   "name": "python3"
  },
  "language_info": {
   "codemirror_mode": {
    "name": "ipython",
    "version": 3
   },
   "file_extension": ".py",
   "mimetype": "text/x-python",
   "name": "python",
   "nbconvert_exporter": "python",
   "pygments_lexer": "ipython3",
   "version": "3.8.12"
  }
 },
 "nbformat": 4,
 "nbformat_minor": 5
}
