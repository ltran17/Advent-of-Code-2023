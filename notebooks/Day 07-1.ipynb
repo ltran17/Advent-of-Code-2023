{
 "cells": [
  {
   "cell_type": "markdown",
   "id": "47169b80-1268-42f9-adfe-585ec920e4bd",
   "metadata": {},
   "source": [
    "# --- Day 7: Camel Cards ---\n",
    "Your all-expenses-paid trip turns out to be a one-way, five-minute ride in an airship. (At least it's a cool airship!) It drops you off at the edge of a vast desert and descends back to Island Island.\n",
    "\n",
    "\"Did you bring the parts?\"\n",
    "\n",
    "You turn around to see an Elf completely covered in white clothing, wearing goggles, and riding a large camel.\n",
    "\n",
    "\"Did you bring the parts?\" she asks again, louder this time. You aren't sure what parts she's looking for; you're here to figure out why the sand stopped.\n",
    "\n",
    "\"The parts! For the sand, yes! Come with me; I will show you.\" She beckons you onto the camel.\n",
    "\n",
    "After riding a bit across the sands of Desert Island, you can see what look like very large rocks covering half of the horizon. The Elf explains that the rocks are all along the part of Desert Island that is directly above Island Island, making it hard to even get there. Normally, they use big machines to move the rocks and filter the sand, but the machines have broken down because Desert Island recently stopped receiving the parts they need to fix the machines.\n",
    "\n",
    "You've already assumed it'll be your job to figure out why the parts stopped when she asks if you can help. You agree automatically.\n",
    "\n",
    "Because the journey will take a few days, she offers to teach you the game of Camel Cards. Camel Cards is sort of similar to poker except it's designed to be easier to play while riding a camel.\n",
    "\n",
    "In Camel Cards, you get a list of hands, and your goal is to order them based on the strength of each hand. A hand consists of five cards labeled one of A, K, Q, J, T, 9, 8, 7, 6, 5, 4, 3, or 2. The relative strength of each card follows this order, where A is the highest and 2 is the lowest.\n",
    "\n",
    "Every hand is exactly one type. From strongest to weakest, they are:\n",
    "\n",
    "Five of a kind, where all five cards have the same label: AAAAA\n",
    "\n",
    "Four of a kind, where four cards have the same label and one card has a different label: AA8AA\n",
    "\n",
    "Full house, where three cards have the same label, and the remaining two cards share a different label: 23332\n",
    "\n",
    "Three of a kind, where three cards have the same label, and the remaining two cards are each different from any other card in the hand: TTT98\n",
    "\n",
    "Two pair, where two cards share one label, two other cards share a second label, and the remaining card has a third label: 23432\n",
    "\n",
    "One pair, where two cards share one label, and the other three cards have a different label from the pair and each other: A23A4\n",
    "\n",
    "High card, where all cards' labels are distinct: 23456\n",
    "Hands are primarily ordered based on type; for example, every full house is stronger than any three of a kind.\n",
    "\n",
    "If two hands have the same type, a second ordering rule takes effect. Start by comparing the first card in each hand. If these cards are different, the hand with the stronger first card is considered stronger. If the first card in each hand have the same label, however, then move on to considering the second card in each hand. If they differ, the hand with the higher second card wins; otherwise, continue with the third card in each hand, then the fourth, then the fifth.\n",
    "\n",
    "So, 33332 and 2AAAA are both four of a kind hands, but 33332 is stronger because its first card is stronger. Similarly, 77888 and 77788 are both a full house, but 77888 is stronger because its third card is stronger (and both hands have the same first and second card).\n",
    "\n",
    "To play Camel Cards, you are given a list of hands and their corresponding bid (your puzzle input). For example:\n",
    "```\n",
    "32T3K 765\n",
    "T55J5 684\n",
    "KK677 28\n",
    "KTJJT 220\n",
    "QQQJA 483\n",
    "```\n",
    "This example shows five hands; each hand is followed by its bid amount. Each hand wins an amount equal to its bid multiplied by its rank, where the weakest hand gets rank 1, the second-weakest hand gets rank 2, and so on up to the strongest hand. Because there are five hands in this example, the strongest hand will have rank 5 and its bid will be multiplied by 5.\n",
    "\n",
    "So, the first step is to put the hands in order of strength:\n",
    "\n",
    "32T3K is the only one pair and the other hands are all a stronger type, so it gets rank 1.\n",
    "\n",
    "KK677 and KTJJT are both two pair. Their first cards both have the same label, but the second card of KK677 is stronger (K vs T), so KTJJT gets rank 2 and KK677 gets rank 3.\n",
    "\n",
    "T55J5 and QQQJA are both three of a kind. QQQJA has a stronger first card, so it gets rank 5 and T55J5 gets rank 4.\n",
    "\n",
    "Now, you can determine the total winnings of this set of hands by adding up the result of multiplying each hand's bid with its rank (765 * 1 + 220 * 2 + 28 * 3 + 684 * 4 + 483 * 5). So the total winnings in this example are 6440.\n",
    "\n",
    "**Find the rank of every hand in your set. What are the total winnings?**"
   ]
  },
  {
   "cell_type": "code",
   "execution_count": 1,
   "id": "7203108e-07a5-4d61-ad99-3c1d8422150f",
   "metadata": {},
   "outputs": [],
   "source": [
    "from utilities import get_lines"
   ]
  },
  {
   "cell_type": "code",
   "execution_count": 2,
   "id": "c53aba70-ecaa-451e-88c9-fa04f6d387c8",
   "metadata": {},
   "outputs": [],
   "source": [
    "lines = get_lines('input')"
   ]
  },
  {
   "cell_type": "code",
   "execution_count": 3,
   "id": "21b8e707-4f5b-4258-a0ea-511d533f4f20",
   "metadata": {},
   "outputs": [
    {
     "data": {
      "text/plain": [
       "1000"
      ]
     },
     "execution_count": 3,
     "metadata": {},
     "output_type": "execute_result"
    }
   ],
   "source": [
    "len(lines)"
   ]
  },
  {
   "cell_type": "code",
   "execution_count": 4,
   "id": "7779edd5-9c0b-4d47-a619-796d15988249",
   "metadata": {},
   "outputs": [],
   "source": [
    "from collections import Counter"
   ]
  },
  {
   "cell_type": "code",
   "execution_count": 5,
   "id": "110f55f3-4e60-4266-80e7-d0ecf9e6abeb",
   "metadata": {},
   "outputs": [],
   "source": [
    "class Hand:\n",
    "    card_values = dict(zip('23456789TJQKA',range(13)))\n",
    "    \n",
    "    def __init__(self, hand, bid):\n",
    "        self.hand = hand\n",
    "        self.num_cards = len(hand)\n",
    "        self.bid = bid\n",
    "        \n",
    "    def __repr__(self):\n",
    "        return f'{self.hand}'\n",
    "    \n",
    "    @classmethod\n",
    "    def _resolve_conflict(cls, h1, h2):\n",
    "        for i in range(h1.num_cards):\n",
    "            if Hand.card_values[h1.hand[i]]>Hand.card_values[h2.hand[i]]:\n",
    "                return 1\n",
    "            if Hand.card_values[h1.hand[i]]<Hand.card_values[h2.hand[i]]:\n",
    "                return -1\n",
    "        return 0\n",
    "    \n",
    "    def __eq__(self, other):\n",
    "        if self._resolve_conflict(self, other)==0:\n",
    "            return True\n",
    "        return False\n",
    "    \n",
    "    def __lt__(self, other):\n",
    "        if self._resolve_conflict(self, other)==-1:\n",
    "            return True\n",
    "        return False\n",
    "    \n",
    "    def __gt__(self, other):\n",
    "        if self._resolve_conflict(self, other)==1:\n",
    "            return True\n",
    "        return False\n",
    "    \n",
    "    @classmethod\n",
    "    def _get_max_count(cls, h):\n",
    "        counter = Counter(h.hand)\n",
    "        return max(counter.items(),\n",
    "                   key=lambda item: item[1]\n",
    "                  )[1]\n",
    "    \n",
    "    def _is_5_kind(self):\n",
    "        if len(set(self.hand))==1:\n",
    "            return True\n",
    "        return False\n",
    "    \n",
    "    def _is_4_kind(self):\n",
    "        if (len(set(self.hand))==2)&(Hand._get_max_count(self)==4):\n",
    "            return True\n",
    "        return False\n",
    "    \n",
    "    def _is_full_house(self):\n",
    "        if (len(set(self.hand))==2)&(Hand._get_max_count(self)==3):\n",
    "            return True\n",
    "        return False\n",
    "    \n",
    "    def _is_3_kind(self):\n",
    "        if (len(set(self.hand))==3)&(Hand._get_max_count(self)==3):\n",
    "            return True\n",
    "        return False\n",
    "    \n",
    "    def _is_2_pair(self):\n",
    "        if (len(set(self.hand))==3)&(Hand._get_max_count(self)==2):\n",
    "            return True\n",
    "        return False\n",
    "    \n",
    "    def _is_1_pair(self):\n",
    "        if len(set(self.hand))==4:\n",
    "            return True\n",
    "        return False\n",
    "    \n",
    "    def _is_high_card(self):\n",
    "        if len(set(self.hand))==5:\n",
    "            return True\n",
    "        return False\n",
    "    \n",
    "    def get_hand_type(self):\n",
    "        if self._is_5_kind():\n",
    "            return '5 of a kind'\n",
    "        if self._is_4_kind():\n",
    "            return '4 of a kind'\n",
    "        if self._is_full_house():\n",
    "            return 'full house'\n",
    "        if self._is_3_kind():\n",
    "            return '3 of a kind'\n",
    "        if self._is_2_pair():\n",
    "            return '2 pair'\n",
    "        if self._is_1_pair():\n",
    "            return '1 pair'\n",
    "        if self._is_high_card():\n",
    "            return 'high card'\n",
    "        return 'no type'\n",
    "    \n",
    "    hand_rank = ['high card', '1 pair', '2 pair', '3 of a kind',\n",
    "                 'full house', '4 of a kind', '5 of a kind'\n",
    "                ]\n",
    "    hand_values = dict(zip(hand_rank, range(7)))\n",
    "    \n",
    "    def get_hand_value(self):\n",
    "        return Hand.hand_values[self.get_hand_type()]\n",
    "    \n",
    "    def __hash__(self):\n",
    "        return hash(self.get_hand_value())\n",
    "    \n",
    "    @classmethod\n",
    "    def rank_hands(cls, hand_list):\n",
    "        sorted_hands = sorted(hand_list, \n",
    "                       key=lambda h: Hand.get_hand_value(h)\n",
    "                      )\n",
    "        hold_hands = list()\n",
    "        final_hands = list()\n",
    "        while len(sorted_hands)>0:\n",
    "            current_hand = sorted_hands.pop()\n",
    "            hold_hands.append(current_hand)\n",
    "            # print(f'current hand {current_hand}')\n",
    "            print(f'working on rank {current_hand.get_hand_value()}')\n",
    "            if len(sorted_hands)>0:\n",
    "                next_hand = sorted_hands[-1]\n",
    "                # print(f'\\tnext hand {next_hand}')\n",
    "                while next_hand is not None and current_hand.get_hand_value()==next_hand.get_hand_value():\n",
    "                    next_hand = sorted_hands.pop()\n",
    "                    hold_hands.append(next_hand)\n",
    "                    current__hand = next_hand\n",
    "                    if len(sorted_hands)>0:\n",
    "                        next_hand = sorted_hands[-1]\n",
    "                    else:\n",
    "                        next_hand = None\n",
    "                        \n",
    "                       # hold_hands.append(next_hand)\n",
    "                       # if len(sorted_hands)>0:\n",
    "                       #     current_hand = next_hand\n",
    "                       #     print(f'\\tcurrent hand {current_hand}')\n",
    "                       #     if len(sorted_hands)>0:\n",
    "                       #         next_hand = sorted_hands[-1]\n",
    "                       #         print(f'\\t\\tnext hand {next_hand}')\n",
    "                       #         print(f'len sorted hands: {len(sorted_hands)}')\n",
    "            hold_hands = sorted(hold_hands)[::-1]\n",
    "            # print(f'hold hands sorted: {hold_hands}')\n",
    "            final_hands.extend(hold_hands)\n",
    "            print(f'len final hands extended: {len(final_hands)}')\n",
    "            \n",
    "            hold_hands = list()\n",
    "        return final_hands[::-1]\n",
    "                \n",
    "        \n",
    "                \n",
    "        #  now do the tie breaker\n",
    "        # pop the last element from the sorted list and put it in a temp list\n",
    "        # peek at the new last element...does it have the same value?\n",
    "        # if not, take the popped element and put it in the final list\n",
    "        # if so, pop the new last element from the sorted list and \n",
    "        # add it to a temp list\n",
    "        # continue peeking until the ranks are different\n",
    "        # sort the temp list by card type and add this to the final list\n",
    "        # repeat until the end"
   ]
  },
  {
   "cell_type": "code",
   "execution_count": 6,
   "id": "f805600e-eb09-433f-bebc-15b1015564c3",
   "metadata": {},
   "outputs": [
    {
     "data": {
      "text/plain": [
       "1000"
      ]
     },
     "execution_count": 6,
     "metadata": {},
     "output_type": "execute_result"
    }
   ],
   "source": [
    "hands = [Hand(h, int(b)) for h, b in zip([line.split(' ')[0] for line in lines],\n",
    "             [line.split(' ')[1] for line in lines]\n",
    "            )\n",
    "        ]\n",
    "\n",
    "len(hands)"
   ]
  },
  {
   "cell_type": "code",
   "execution_count": 7,
   "id": "02b70168-b5f9-4b8a-9bf7-afcfb5750def",
   "metadata": {},
   "outputs": [
    {
     "name": "stdout",
     "output_type": "stream",
     "text": [
      "working on rank 6\n",
      "len final hands extended: 1\n",
      "working on rank 5\n",
      "len final hands extended: 95\n",
      "working on rank 4\n",
      "len final hands extended: 192\n",
      "working on rank 3\n",
      "len final hands extended: 384\n",
      "working on rank 2\n",
      "len final hands extended: 542\n",
      "working on rank 1\n",
      "len final hands extended: 773\n",
      "working on rank 0\n",
      "len final hands extended: 1000\n"
     ]
    },
    {
     "data": {
      "text/plain": [
       "1000"
      ]
     },
     "execution_count": 7,
     "metadata": {},
     "output_type": "execute_result"
    }
   ],
   "source": [
    "ranked_hands = Hand.rank_hands(hands)\n",
    "len(ranked_hands)"
   ]
  },
  {
   "cell_type": "code",
   "execution_count": 8,
   "id": "efbef19b-f34d-43d6-b85b-296684c40bf0",
   "metadata": {},
   "outputs": [
    {
     "name": "stdout",
     "output_type": "stream",
     "text": [
      "The answer you are looking for is 245794640\n"
     ]
    }
   ],
   "source": [
    "print(f'The answer you are looking for is {sum([h.bid*(i+1) for i,h in enumerate(ranked_hands)])}')"
   ]
  },
  {
   "cell_type": "code",
   "execution_count": null,
   "id": "00b96e54-61e4-41c8-b588-895ba0d4b326",
   "metadata": {},
   "outputs": [],
   "source": []
  }
 ],
 "metadata": {
  "kernelspec": {
   "display_name": "Python 3 (ipykernel)",
   "language": "python",
   "name": "python3"
  },
  "language_info": {
   "codemirror_mode": {
    "name": "ipython",
    "version": 3
   },
   "file_extension": ".py",
   "mimetype": "text/x-python",
   "name": "python",
   "nbconvert_exporter": "python",
   "pygments_lexer": "ipython3",
   "version": "3.10.8"
  }
 },
 "nbformat": 4,
 "nbformat_minor": 5
}
