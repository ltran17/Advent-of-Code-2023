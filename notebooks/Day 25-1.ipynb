{
 "cells": [
  {
   "cell_type": "markdown",
   "id": "476b1ca8-3499-4869-854e-69b6b5e965fc",
   "metadata": {},
   "source": [
    "# --- Day 25: Snowverload ---\n",
    "Still somehow without snow, you go to the last place you haven't checked: the center of Snow Island, directly below the waterfall.\n",
    "\n",
    "Here, someone has clearly been trying to fix the problem. Scattered everywhere are hundreds of weather machines, almanacs, communication modules, hoof prints, machine parts, mirrors, lenses, and so on.\n",
    "\n",
    "Somehow, everything has been wired together into a massive snow-producing apparatus, but nothing seems to be running. You check a tiny screen on one of the communication modules: Error 2023. It doesn't say what Error 2023 means, but it does have the phone number for a support line printed on it.\n",
    "\n",
    "\"Hi, you've reached Weather Machines And So On, Inc. How can I help you?\" You explain the situation.\n",
    "\n",
    "\"Error 2023, you say? Why, that's a power overload error, of course! It means you have too many components plugged in. Try unplugging some components and--\" You explain that there are hundreds of components here and you're in a bit of a hurry.\n",
    "\n",
    "\"Well, let's see how bad it is; do you see a big red reset button somewhere? It should be on its own module. If you push it, it probably won't fix anything, but it'll report how overloaded things are.\" After a minute or two, you find the reset button; it's so big that it takes two hands just to get enough leverage to push it. Its screen then displays:\n",
    "\n",
    "SYSTEM OVERLOAD!\n",
    "\n",
    "Connected components would require\n",
    "power equal to at least 100 stars!\n",
    "\"Wait, how many components did you say are plugged in? With that much equipment, you could produce snow for an entire--\" You disconnect the call.\n",
    "\n",
    "You have nowhere near that many stars - you need to find a way to disconnect at least half of the equipment here, but it's already Christmas! You only have time to disconnect three wires.\n",
    "\n",
    "Fortunately, someone left a wiring diagram (your puzzle input) that shows how the components are connected. For example:\n",
    "```\n",
    "jqt: rhn xhk nvd\n",
    "rsh: frs pzl lsr\n",
    "xhk: hfx\n",
    "cmg: qnr nvd lhk bvb\n",
    "rhn: xhk bvb hfx\n",
    "bvb: xhk hfx\n",
    "pzl: lsr hfx nvd\n",
    "qnr: nvd\n",
    "ntq: jqt hfx bvb xhk\n",
    "nvd: lhk\n",
    "lsr: lhk\n",
    "rzs: qnr cmg lsr rsh\n",
    "frs: qnr lhk lsr\n",
    "```\n",
    "Each line shows the name of a component, a colon, and then a list of other components to which that component is connected. Connections aren't directional; abc: xyz and xyz: abc both represent the same configuration. Each connection between two components is represented only once, so some components might only ever appear on the left or right side of a colon.\n",
    "\n",
    "In this example, if you disconnect the wire between hfx/pzl, the wire between bvb/cmg, and the wire between nvd/jqt, you will divide the components into two separate, disconnected groups:\n",
    "```\n",
    "9 components: cmg, frs, lhk, lsr, nvd, pzl, qnr, rsh, and rzs.\n",
    "6 components: bvb, hfx, jqt, ntq, rhn, and xhk.\n",
    "Multiplying the sizes of these groups together produces 54.\n",
    "```\n",
    "**Find the three wires you need to disconnect in order to divide the components into two separate groups. What do you get if you multiply the sizes of these two groups together?**"
   ]
  },
  {
   "cell_type": "code",
   "execution_count": 1,
   "id": "b34a41e8-4ae9-4427-965e-92b0ef5e9cad",
   "metadata": {},
   "outputs": [],
   "source": [
    "from utilities import get_lines"
   ]
  },
  {
   "cell_type": "code",
   "execution_count": 2,
   "id": "d04f78b8-081c-4b3b-bbe2-f9ba84701383",
   "metadata": {},
   "outputs": [],
   "source": [
    "lines = get_lines('input', 25)"
   ]
  },
  {
   "cell_type": "code",
   "execution_count": 3,
   "id": "adad26c2-d77f-476c-a0e7-e50a910c06e0",
   "metadata": {},
   "outputs": [],
   "source": [
    "import networkx as nx"
   ]
  },
  {
   "cell_type": "code",
   "execution_count": 4,
   "id": "fe4e340d-6918-4a49-9e32-b1d2255620ca",
   "metadata": {},
   "outputs": [],
   "source": [
    "parsed = [(line.split(':')[0],line.split(':')[1].strip().split()) for line in lines]"
   ]
  },
  {
   "cell_type": "code",
   "execution_count": 5,
   "id": "5316d7e6-dd4e-4df8-aaeb-bab3cce4a6ba",
   "metadata": {},
   "outputs": [
    {
     "data": {
      "text/plain": [
       "(1496, 3345)"
      ]
     },
     "execution_count": 5,
     "metadata": {},
     "output_type": "execute_result"
    }
   ],
   "source": [
    "nodes = set()\n",
    "edges = list()\n",
    "for line in parsed:\n",
    "    node0 = line[0]\n",
    "    nodes.add(node0)\n",
    "    for node1 in line[1]:\n",
    "        nodes.add(node1)\n",
    "        edges.append((node0,node1))\n",
    "len(nodes),len(edges)"
   ]
  },
  {
   "cell_type": "code",
   "execution_count": 6,
   "id": "8ae77320-b97a-4c22-ac07-efd99def1cca",
   "metadata": {},
   "outputs": [],
   "source": [
    "G = nx.Graph()"
   ]
  },
  {
   "cell_type": "code",
   "execution_count": 7,
   "id": "81d77d34-1816-4751-bd12-fd0e2fc2d4c6",
   "metadata": {},
   "outputs": [],
   "source": [
    "G.add_nodes_from(nodes)"
   ]
  },
  {
   "cell_type": "code",
   "execution_count": 8,
   "id": "e151c6aa-bb3d-46cb-89d2-ee3b7684ff85",
   "metadata": {},
   "outputs": [],
   "source": [
    "G.add_edges_from(edges)"
   ]
  },
  {
   "cell_type": "code",
   "execution_count": 9,
   "id": "f5ce3087-3fe7-4aae-8e82-c05f0e558236",
   "metadata": {},
   "outputs": [],
   "source": [
    "from networkx.algorithms.connectivity.stoerwagner import stoer_wagner"
   ]
  },
  {
   "cell_type": "code",
   "execution_count": 10,
   "id": "9d5823ba-fa08-4d6c-9f17-8fea22edc190",
   "metadata": {},
   "outputs": [],
   "source": [
    "cut_value, partition = stoer_wagner(G)"
   ]
  },
  {
   "cell_type": "code",
   "execution_count": 11,
   "id": "2dea862d-03d2-4d25-91f9-cf6826475181",
   "metadata": {},
   "outputs": [
    {
     "data": {
      "text/plain": [
       "559143"
      ]
     },
     "execution_count": 11,
     "metadata": {},
     "output_type": "execute_result"
    }
   ],
   "source": [
    "len(partition[0])*len(partition[1])"
   ]
  },
  {
   "cell_type": "code",
   "execution_count": null,
   "id": "7ac5cdd5-46ee-44b7-93ce-ebe4865dce8e",
   "metadata": {},
   "outputs": [],
   "source": []
  }
 ],
 "metadata": {
  "kernelspec": {
   "display_name": "Python 3 (ipykernel)",
   "language": "python",
   "name": "python3"
  },
  "language_info": {
   "codemirror_mode": {
    "name": "ipython",
    "version": 3
   },
   "file_extension": ".py",
   "mimetype": "text/x-python",
   "name": "python",
   "nbconvert_exporter": "python",
   "pygments_lexer": "ipython3",
   "version": "3.8.12"
  }
 },
 "nbformat": 4,
 "nbformat_minor": 5
}
