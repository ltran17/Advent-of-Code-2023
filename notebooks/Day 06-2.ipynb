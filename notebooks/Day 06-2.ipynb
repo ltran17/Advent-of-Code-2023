{
 "cells": [
  {
   "cell_type": "markdown",
   "id": "9a622fcc-2a68-4ce3-926d-452fb2ee65ff",
   "metadata": {},
   "source": [
    "# --- Part Two ---\n",
    "As the race is about to start, you realize the piece of paper with race times and record distances you got earlier actually just has very bad kerning. There's really only one race - ignore the spaces between the numbers on each line.\n",
    "\n",
    "So, the example from before:\n",
    "```\n",
    "Time:      7  15   30\n",
    "Distance:  9  40  200\n",
    "```\n",
    "...now instead means this:\n",
    "```\n",
    "Time:      71530\n",
    "Distance:  940200\n",
    "```\n",
    "Now, you have to figure out how many ways there are to win this single race. In this example, the race lasts for 71530 milliseconds and the record distance you need to beat is 940200 millimeters. You could hold the button anywhere from 14 to 71516 milliseconds and beat the record, a total of 71503 ways!\n",
    "\n",
    "**How many ways can you beat the record in this one much longer race?**"
   ]
  },
  {
   "cell_type": "markdown",
   "id": "3dc2612c-a17a-4d05-bc37-5e55a1f362d2",
   "metadata": {},
   "source": [
    "## Algebra for the win! Let's go."
   ]
  },
  {
   "cell_type": "code",
   "execution_count": 1,
   "id": "0d172016-267d-46ad-8140-2d92bebdbe85",
   "metadata": {},
   "outputs": [],
   "source": [
    "from math import sqrt, floor, ceil"
   ]
  },
  {
   "cell_type": "code",
   "execution_count": 2,
   "id": "0db3a4ed-e586-42a2-aad4-1d5102afe852",
   "metadata": {},
   "outputs": [],
   "source": [
    "from utilities import get_lines"
   ]
  },
  {
   "cell_type": "code",
   "execution_count": 3,
   "id": "4673fce3-563b-4ded-ae39-a5b1c2a008bb",
   "metadata": {},
   "outputs": [],
   "source": [
    "lines = get_lines('input')"
   ]
  },
  {
   "cell_type": "code",
   "execution_count": 4,
   "id": "16adb446-74b6-46fc-b706-7a63ce4b4902",
   "metadata": {},
   "outputs": [
    {
     "data": {
      "text/plain": [
       "48989083"
      ]
     },
     "execution_count": 4,
     "metadata": {},
     "output_type": "execute_result"
    }
   ],
   "source": [
    "time = lines[0].split(':')[1].strip().split(' ')\n",
    "time = int(''.join([t for t in time if len(t)>0]))\n",
    "time"
   ]
  },
  {
   "cell_type": "code",
   "execution_count": 5,
   "id": "d3b5d178-11d1-4043-94af-df0c28dd37b3",
   "metadata": {},
   "outputs": [
    {
     "data": {
      "text/plain": [
       "390110311121360"
      ]
     },
     "execution_count": 5,
     "metadata": {},
     "output_type": "execute_result"
    }
   ],
   "source": [
    "distance = lines[1].split(':')[1].strip().split(' ')\n",
    "distance = int(''.join([d for d in distance if len(d)>0]))\n",
    "distance"
   ]
  },
  {
   "cell_type": "code",
   "execution_count": 6,
   "id": "92c112ca-2319-4097-ad47-f640f7696038",
   "metadata": {},
   "outputs": [],
   "source": [
    "def get_intercepts(a, b, c):\n",
    "    radicand = b*b - 4*a*c\n",
    "    i1 = (-b + sqrt(radicand))/(2*a)\n",
    "    i2 = (-b - sqrt(radicand))/(2*a)\n",
    "    return (i1, i2)"
   ]
  },
  {
   "cell_type": "code",
   "execution_count": 7,
   "id": "bd01ae7e-9939-41e6-8c7e-7a4f3ecba30d",
   "metadata": {},
   "outputs": [],
   "source": [
    "def get_range(t, d):\n",
    "    start, end = get_intercepts(-1, t, -d)\n",
    "    if start.is_integer():\n",
    "        start+=1\n",
    "    if end.is_integer():\n",
    "        end+=1\n",
    "    return range(ceil(start), floor(end)+1)"
   ]
  },
  {
   "cell_type": "code",
   "execution_count": 8,
   "id": "87f86f24-cf4b-4d15-ace3-665d4a2a1956",
   "metadata": {},
   "outputs": [],
   "source": [
    "def get_winning_times(t, d):\n",
    "    r = get_range(t, d)\n",
    "    return [val for val in r]"
   ]
  },
  {
   "cell_type": "code",
   "execution_count": 9,
   "id": "896f9cc3-186a-4a0d-822f-4ca76f825430",
   "metadata": {},
   "outputs": [
    {
     "name": "stdout",
     "output_type": "stream",
     "text": [
      "The answer you are looking for is 28973936\n"
     ]
    }
   ],
   "source": [
    "winners = get_winning_times(time, distance)\n",
    "print(f'The answer you are looking for is {len(winners)}')"
   ]
  },
  {
   "cell_type": "code",
   "execution_count": null,
   "id": "03c38b91-6f91-43df-9b46-d9317a3d730d",
   "metadata": {},
   "outputs": [],
   "source": []
  }
 ],
 "metadata": {
  "kernelspec": {
   "display_name": "Python 3 (ipykernel)",
   "language": "python",
   "name": "python3"
  },
  "language_info": {
   "codemirror_mode": {
    "name": "ipython",
    "version": 3
   },
   "file_extension": ".py",
   "mimetype": "text/x-python",
   "name": "python",
   "nbconvert_exporter": "python",
   "pygments_lexer": "ipython3",
   "version": "3.8.12"
  }
 },
 "nbformat": 4,
 "nbformat_minor": 5
}
