{
 "cells": [
  {
   "cell_type": "markdown",
   "id": "a4dc8042-d868-49d4-abd0-4009ddbadb9b",
   "metadata": {},
   "source": [
    "# --- Day 16: The Floor Will Be Lava ---\n",
    "With the beam of light completely focused somewhere, the reindeer leads you deeper still into the Lava Production Facility. At some point, you realize that the steel facility walls have been replaced with cave, and the doorways are just cave, and the floor is cave, and you're pretty sure this is actually just a giant cave.\n",
    "\n",
    "Finally, as you approach what must be the heart of the mountain, you see a bright light in a cavern up ahead. There, you discover that the beam of light you so carefully focused is emerging from the cavern wall closest to the facility and pouring all of its energy into a contraption on the opposite side.\n",
    "\n",
    "Upon closer inspection, the contraption appears to be a flat, two-dimensional square grid containing empty space (.), mirrors (/ and \\), and splitters (| and -).\n",
    "\n",
    "The contraption is aligned so that most of the beam bounces around the grid, but each tile on the grid converts some of the beam's light into heat to melt the rock in the cavern.\n",
    "\n",
    "You note the layout of the contraption (your puzzle input). For example:\n",
    "```\n",
    ".|...\\....\n",
    "|.-.\\.....\n",
    ".....|-...\n",
    "........|.\n",
    "..........\n",
    ".........\\\n",
    "..../.\\\\..\n",
    ".-.-/..|..\n",
    ".|....-|.\\\n",
    "..//.|....\n",
    "```\n",
    "The beam enters in the top-left corner from the left and heading to the right. Then, its behavior depends on what it encounters as it moves:\n",
    "\n",
    "If the beam encounters empty space (.), it continues in the same direction.\n",
    "If the beam encounters a mirror (/ or \\), the beam is reflected 90 degrees depending on the angle of the mirror. For instance, a rightward-moving beam that encounters a / mirror would continue upward in the mirror's column, while a rightward-moving beam that encounters a \\ mirror would continue downward from the mirror's column.\n",
    "If the beam encounters the pointy end of a splitter (| or -), the beam passes through the splitter as if the splitter were empty space. For instance, a rightward-moving beam that encounters a - splitter would continue in the same direction.\n",
    "If the beam encounters the flat side of a splitter (| or -), the beam is split into two beams going in each of the two directions the splitter's pointy ends are pointing. For instance, a rightward-moving beam that encounters a | splitter would split into two beams: one that continues upward from the splitter's column and one that continues downward from the splitter's column.\n",
    "Beams do not interact with other beams; a tile can have many beams passing through it at the same time. A tile is energized if that tile has at least one beam pass through it, reflect in it, or split in it.\n",
    "\n",
    "In the above example, here is how the beam of light bounces around the contraption:\n",
    "```\n",
    ">|<<<\\....\n",
    "|v-.\\^....\n",
    ".v...|->>>\n",
    ".v...v^.|.\n",
    ".v...v^...\n",
    ".v...v^..\\\n",
    ".v../2\\\\..\n",
    "<->-/vv|..\n",
    ".|<<<2-|.\\\n",
    ".v//.|.v..\n",
    "```\n",
    "Beams are only shown on empty tiles; arrows indicate the direction of the beams. If a tile contains beams moving in multiple directions, the number of distinct directions is shown instead. Here is the same diagram but instead only showing whether a tile is energized (#) or not (.):\n",
    "```\n",
    "######....\n",
    ".#...#....\n",
    ".#...#####\n",
    ".#...##...\n",
    ".#...##...\n",
    ".#...##...\n",
    ".#..####..\n",
    "########..\n",
    ".#######..\n",
    ".#...#.#..\n",
    "```\n",
    "Ultimately, in this example, 46 tiles become energized.\n",
    "\n",
    "The light isn't energizing enough tiles to produce lava; to debug the contraption, you need to start by analyzing the current situation. **With the beam starting in the top-left heading right, how many tiles end up being energized?**"
   ]
  },
  {
   "cell_type": "code",
   "execution_count": 1,
   "id": "f4c6a13d-0c63-4b2c-b140-da88e74fde2f",
   "metadata": {},
   "outputs": [],
   "source": [
    "from utilities import get_lines\n",
    "import pandas as pd\n",
    "from collections import namedtuple"
   ]
  },
  {
   "cell_type": "code",
   "execution_count": 2,
   "id": "17f35951-4704-40c9-9724-8af02d5f8fd2",
   "metadata": {},
   "outputs": [],
   "source": [
    "layout = pd.DataFrame([[ch for ch in line] for line in get_lines('input',16)])"
   ]
  },
  {
   "cell_type": "code",
   "execution_count": 3,
   "id": "1456534a-bffe-45e0-9762-20397592a192",
   "metadata": {},
   "outputs": [],
   "source": [
    "r,c = layout.shape"
   ]
  },
  {
   "cell_type": "code",
   "execution_count": 4,
   "id": "b10eedf2-8594-4849-ac5f-85172371ecb2",
   "metadata": {},
   "outputs": [],
   "source": [
    "r,c = layout.shape\n",
    "def reset_energy():\n",
    "    return pd.DataFrame(0,index=pd.RangeIndex(r),columns=pd.RangeIndex(c))\n",
    "energy = reset_energy()\n",
    "\n",
    "def reset_splitters():\n",
    "    return pd.DataFrame(0,index=pd.RangeIndex(r),columns=pd.RangeIndex(c))\n",
    "\n",
    "splitters = reset_splitters()"
   ]
  },
  {
   "cell_type": "code",
   "execution_count": 5,
   "id": "f0a860c3-2928-47ce-81e9-d0689a170fa6",
   "metadata": {},
   "outputs": [],
   "source": [
    "Beam = namedtuple('Beam', 'row col dir')"
   ]
  },
  {
   "cell_type": "code",
   "execution_count": 6,
   "id": "c174307c-ca92-4b37-9444-82007a80d296",
   "metadata": {},
   "outputs": [],
   "source": [
    "def move_down(beam):\n",
    "    row = beam.row+1\n",
    "    return Beam(row, beam.col, 'S')\n",
    "\n",
    "def move_up(beam):\n",
    "    row = beam.row-1\n",
    "    return Beam(row, beam.col, 'N')\n",
    "\n",
    "def move_left(beam):\n",
    "    col = beam.col-1\n",
    "    return Beam(beam.row, col, 'W')\n",
    "\n",
    "def move_right(beam):\n",
    "    col = beam.col+1\n",
    "    return Beam(beam.row, col, 'E')"
   ]
  },
  {
   "cell_type": "code",
   "execution_count": 7,
   "id": "ca6ca6a9-f9ad-4872-b768-387f20110c6d",
   "metadata": {},
   "outputs": [],
   "source": [
    "def update_energy(energy, beam):\n",
    "    if (0<=beam.row<r)&(0<=beam.col<c):\n",
    "        val = energy.loc[beam.row,beam.col]\n",
    "        energy.at[beam.row, beam.col] = 8 #  += 1 Don't need to keep adding values\n",
    "        return True\n",
    "    return False"
   ]
  },
  {
   "cell_type": "code",
   "execution_count": 8,
   "id": "76ea580d-df33-418a-9034-52e689dbe267",
   "metadata": {},
   "outputs": [],
   "source": [
    "def get_action(beam):\n",
    "    return layout.loc[beam.row,beam.col]"
   ]
  },
  {
   "cell_type": "code",
   "execution_count": 9,
   "id": "bce5d694-7618-4ba9-b89a-a56a90be5ab0",
   "metadata": {},
   "outputs": [],
   "source": [
    "keep_going = {'E':move_right,\n",
    "              'W':move_left,\n",
    "              'N':move_up,\n",
    "              'S':move_down\n",
    "             }\n",
    "\n",
    "back_mirror = {'E':move_down,\n",
    "               'W':move_up,\n",
    "               'N':move_left,\n",
    "               'S':move_right\n",
    "              }\n",
    "\n",
    "forward_mirror = {'E':move_up,\n",
    "                  'W':move_down,\n",
    "                  'N':move_right,\n",
    "                  'S':move_left\n",
    "                 }"
   ]
  },
  {
   "cell_type": "code",
   "execution_count": 10,
   "id": "828da623-07c1-48ae-a706-13bd39ad1ac9",
   "metadata": {},
   "outputs": [],
   "source": [
    "def get_splitter_state(beam):\n",
    "    r,c = beam.row, beam.col\n",
    "    return splitters.loc[r,c]"
   ]
  },
  {
   "cell_type": "code",
   "execution_count": 11,
   "id": "99f8076b-95c6-4f1c-a993-a1cf1636499f",
   "metadata": {},
   "outputs": [],
   "source": [
    "def get_180_dir(dir):\n",
    "    compass = 'NESW'\n",
    "    i = compass.index(dir)\n",
    "    return compass[(i+2)%4]"
   ]
  },
  {
   "cell_type": "code",
   "execution_count": 12,
   "id": "b84003cb-003f-431f-92ba-fdb73758c02f",
   "metadata": {},
   "outputs": [],
   "source": [
    "def get_90_dir(dir):\n",
    "    compass = 'NESW'\n",
    "    i = compass.index(dir)\n",
    "    return compass[(i+1)%4]"
   ]
  },
  {
   "cell_type": "code",
   "execution_count": 13,
   "id": "885b1a98-d4e5-4720-b7ff-d72fc14e03b6",
   "metadata": {},
   "outputs": [],
   "source": [
    "def mark_used_splitter(beam):\n",
    "    splitters.loc[beam.row, beam.col]=1 #  mark splitter as used\n",
    "    return None"
   ]
  },
  {
   "cell_type": "code",
   "execution_count": 14,
   "id": "f1d7b509-e328-4e2c-9e69-195ba2ff7502",
   "metadata": {},
   "outputs": [],
   "source": [
    "def split_beam(beam):\n",
    "    dirs = 'NESW'\n",
    "    opp_dir = get_180_dir(beam.dir)\n",
    "    new_beam = Beam(beam.row, beam.col, opp_dir)\n",
    "    # print(beam, 'and new beam', new_beam)\n",
    "    return new_beam"
   ]
  },
  {
   "cell_type": "code",
   "execution_count": 15,
   "id": "65c84078-0134-4d53-898b-97fe26698060",
   "metadata": {},
   "outputs": [],
   "source": [
    "def split_vert(beam): #  | splitter\n",
    "    if (beam.dir=='N')|(beam.dir=='S'):\n",
    "        return keep_going[beam.dir](beam)\n",
    "    else: # splitter actions are to mark splitters layout and then either create a new beam or stop\n",
    "        if get_splitter_state(beam)==0:\n",
    "            beam = Beam(beam.row, beam.col, get_90_dir(beam.dir)) # make a right turn\n",
    "            beams.append(split_beam(beam)) #  create a new beam \n",
    "            mark_used_splitter(beam) #  mark the splitter as used\n",
    "            return keep_going[beam.dir](beam)\n",
    "        else:\n",
    "            return Beam(-1,-1,beam.dir) #  beam is off the layout...will stop\n",
    "            "
   ]
  },
  {
   "cell_type": "code",
   "execution_count": 16,
   "id": "fd7d8093-f436-4a37-ba06-8d34779b2085",
   "metadata": {},
   "outputs": [],
   "source": [
    "def split_horiz(beam): #  - splitter\n",
    "    if (beam.dir=='E')|(beam.dir=='W'):\n",
    "        return keep_going[beam.dir](beam)\n",
    "    else: # splitter actions are to mark splitters layout and then either create a new beam or stop\n",
    "        if splitters.loc[beam.row, beam.col]==0:\n",
    "            beam = Beam(beam.row, beam.col, get_90_dir(beam.dir))\n",
    "            beams.append(split_beam(beam)) #  create a new beam\n",
    "            mark_used_splitter(beam) #  mark the splitter as used\n",
    "            return keep_going[beam.dir](beam)\n",
    "        else:\n",
    "            return Beam(-1,-1,beam.dir) #  force stop, splitter has already been used"
   ]
  },
  {
   "cell_type": "code",
   "execution_count": 17,
   "id": "cdcd66c0-8572-450f-940f-66e96fd2e810",
   "metadata": {},
   "outputs": [],
   "source": [
    "def take_step(beam):\n",
    "    action = get_action(beam)\n",
    "    if action=='/': #  forward slash mirror, nicknamed forward mirror\n",
    "        beam = forward_mirror[beam.dir](beam)\n",
    "    elif action=='\\\\': #  back slash mirror, nicknamed back mirror\n",
    "        beam = back_mirror[beam.dir](beam)\n",
    "    elif action=='.':\n",
    "        beam = keep_going[beam.dir](beam)\n",
    "    elif action=='|':\n",
    "        beam = split_vert(beam)\n",
    "    elif action=='-':\n",
    "        beam = split_horiz(beam)\n",
    "    return beam"
   ]
  },
  {
   "cell_type": "code",
   "execution_count": 18,
   "id": "0ab91852-daec-4cfc-b853-6cbfb3e23fe7",
   "metadata": {},
   "outputs": [],
   "source": [
    "def activate_beam(beam):\n",
    "    on_layout = update_energy(energy, beam)\n",
    "    while on_layout:\n",
    "        beam = take_step(beam)\n",
    "        on_layout = update_energy(energy, beam)\n",
    "    "
   ]
  },
  {
   "cell_type": "code",
   "execution_count": 19,
   "id": "329f94aa-a476-4e95-bea6-f6f0a79e5dc0",
   "metadata": {},
   "outputs": [],
   "source": [
    "energy = reset_energy()\n",
    "splitters = reset_splitters()\n",
    "beams = [Beam(0,0,'E')]"
   ]
  },
  {
   "cell_type": "code",
   "execution_count": 20,
   "id": "3cda7939-3507-410c-abea-3b71fa0763d8",
   "metadata": {},
   "outputs": [],
   "source": [
    "max_beams = 1\n",
    "total_beams = 1\n",
    "while len(beams)>0:\n",
    "    #  This is just informative\n",
    "    if len(beams)>max_beams:\n",
    "        max_beams=len(beams)\n",
    "       \n",
    "    beam = beams.pop()\n",
    "\n",
    "    #  Also just informative\n",
    "    total_beams+=1\n",
    "    \n",
    "    activate_beam(beam)"
   ]
  },
  {
   "cell_type": "markdown",
   "id": "c7ef19cf-4fab-471a-a61c-7cc3b5659a0e",
   "metadata": {},
   "source": [
    "The `sum` function on the dataframe failed me. I don't know what it thought it was doing. In any case, the solution is not `sum(energy>0)`! \n",
    "\n",
    "Doing it the very old-school way:"
   ]
  },
  {
   "cell_type": "code",
   "execution_count": 21,
   "id": "bcfdaa51-a1ec-4d6e-b007-12f8203732e2",
   "metadata": {},
   "outputs": [
    {
     "name": "stdout",
     "output_type": "stream",
     "text": [
      "The number you are lookin for is 7067.\n",
      "The maximum beams waiting at one time was 55.\n",
      "The total number of beams was 214.\n"
     ]
    }
   ],
   "source": [
    "total = 0\n",
    "for i in range(r):\n",
    "    for j in range(c):\n",
    "        if energy.loc[i,j]!=0:\n",
    "            total+=1\n",
    "print(f'The number you are lookin for is {total}.')\n",
    "print(f'The maximum beams waiting at one time was {max_beams}.')\n",
    "print(f'The total number of beams was {total_beams}.')"
   ]
  },
  {
   "cell_type": "code",
   "execution_count": null,
   "id": "2def021d-878d-48dc-8750-be88b7a0c66f",
   "metadata": {},
   "outputs": [],
   "source": []
  }
 ],
 "metadata": {
  "kernelspec": {
   "display_name": "Python 3 (ipykernel)",
   "language": "python",
   "name": "python3"
  },
  "language_info": {
   "codemirror_mode": {
    "name": "ipython",
    "version": 3
   },
   "file_extension": ".py",
   "mimetype": "text/x-python",
   "name": "python",
   "nbconvert_exporter": "python",
   "pygments_lexer": "ipython3",
   "version": "3.8.12"
  }
 },
 "nbformat": 4,
 "nbformat_minor": 5
}
