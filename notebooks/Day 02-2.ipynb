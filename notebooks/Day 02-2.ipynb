{
 "cells": [
  {
   "cell_type": "markdown",
   "id": "5eae6e17-5186-4911-ac0c-0bb169057d3b",
   "metadata": {},
   "source": [
    "--- Part Two ---\n",
    "\n",
    "The Elf says they've stopped producing snow because they aren't getting any water! He isn't sure why the water stopped; however, he can show you how to get to the water source to check it out for yourself. It's just up ahead!\n",
    "\n",
    "As you continue your walk, the Elf poses a second question: in each game you played, what is the fewest number of cubes of each color that could have been in the bag to make the game possible?\n",
    "\n",
    "Again consider the example games from earlier:\n",
    "```\n",
    "Game 1: 3 blue, 4 red; 1 red, 2 green, 6 blue; 2 green\n",
    "Game 2: 1 blue, 2 green; 3 green, 4 blue, 1 red; 1 green, 1 blue\n",
    "Game 3: 8 green, 6 blue, 20 red; 5 blue, 4 red, 13 green; 5 green, 1 red\n",
    "Game 4: 1 green, 3 red, 6 blue; 3 green, 6 red; 3 green, 15 blue, 14 red\n",
    "Game 5: 6 red, 1 blue, 3 green; 2 blue, 1 red, 2 green\n",
    "```\n",
    "In game 1, the game could have been played with as few as 4 red, 2 green, and 6 blue cubes. If any color had even one fewer cube, the game would have been impossible.\n",
    "\n",
    "Game 2 could have been played with a minimum of 1 red, 3 green, and 4 blue cubes.\n",
    "\n",
    "Game 3 must have been played with at least 20 red, 13 green, and 6 blue cubes.\n",
    "\n",
    "Game 4 required at least 14 red, 3 green, and 15 blue cubes.\n",
    "\n",
    "Game 5 needed no fewer than 6 red, 3 green, and 2 blue cubes in the bag.\n",
    "\n",
    "The power of a set of cubes is equal to the numbers of red, green, and blue cubes multiplied together. \n",
    "\n",
    "The power of the minimum set of cubes in game 1 is 48. In games 2-5 it was 12, 1560, 630, and 36, respectively. Adding up these five powers produces the sum 2286.\n",
    "\n",
    "For each game, find the minimum set of cubes that must have been present. What is the sum of the power of these sets?"
   ]
  },
  {
   "cell_type": "code",
   "execution_count": 13,
   "id": "65ad1fd5-3c0e-4d3b-bea9-fac24dd9d9d3",
   "metadata": {},
   "outputs": [],
   "source": [
    "def get_lines(file_type='sample'):\n",
    "    '''\n",
    "    Read in the lines of today's sample/input file line by line. \n",
    "    Assumes the file is in folder called 'inputs/'\n",
    "    \n",
    "    Parameters\n",
    "    ----------\n",
    "    file_type : str\n",
    "        Either sample or input\n",
    "    \n",
    "    Returns\n",
    "    -------\n",
    "    list of inputs stripped of whitespace\n",
    "    '''\n",
    "    import datetime\n",
    "    day = str(datetime.datetime.today().day).zfill(2)\n",
    "    filename = f'inputs/{day}-{file_type}.txt'\n",
    "    try:\n",
    "        with open(filename,'r') as file:\n",
    "            lines = [line.strip() for line in file.readlines()]\n",
    "        return lines\n",
    "    except:\n",
    "        print(filename+' does not exist')"
   ]
  },
  {
   "cell_type": "code",
   "execution_count": 38,
   "id": "f4df1144-49c0-45c6-8c9d-f18ae413301f",
   "metadata": {},
   "outputs": [
    {
     "data": {
      "text/plain": [
       "100"
      ]
     },
     "execution_count": 38,
     "metadata": {},
     "output_type": "execute_result"
    }
   ],
   "source": [
    "lines = get_lines('input')\n",
    "len(lines)"
   ]
  },
  {
   "cell_type": "code",
   "execution_count": 15,
   "id": "3e5faccd-8b78-48dd-9337-15ec0584332b",
   "metadata": {},
   "outputs": [],
   "source": [
    "def parse_game_no(line):\n",
    "    return line.split(':')[0]\n",
    "\n",
    "def parse_turns(line):\n",
    "    line = line.split(':')[1]\n",
    "    return [turn.strip() for turn in line.split(';')]\n",
    "\n",
    "def parse_colors(turn):\n",
    "    reveal = turn.split(',')\n",
    "    colors = [value.split(' ')[-1] for value in reveal]\n",
    "    values = [int(value.split(' ')[-2]) for value in reveal]\n",
    "    return dict(zip(colors,values))"
   ]
  },
  {
   "cell_type": "code",
   "execution_count": 16,
   "id": "dabf4673-2996-4b5c-beca-61e229e1f9b7",
   "metadata": {},
   "outputs": [],
   "source": [
    "import pandas as pd"
   ]
  },
  {
   "cell_type": "code",
   "execution_count": 17,
   "id": "a0c7946a-e838-4b5b-9596-26465cb0e6ef",
   "metadata": {},
   "outputs": [],
   "source": [
    "def get_game(line):\n",
    "    game = parse_game_no(line)\n",
    "    turns = parse_turns(line)\n",
    "    turns_list = [parse_colors(turn) for turn in turns]\n",
    "    return pd.DataFrame(turns_list)[['red','green','blue']]"
   ]
  },
  {
   "cell_type": "markdown",
   "id": "f4d0c370-b212-45ab-82db-fbd96a988244",
   "metadata": {},
   "source": [
    "Use a dictionary so you can index by natural numbers rather than starting at 0."
   ]
  },
  {
   "cell_type": "code",
   "execution_count": 39,
   "id": "2b5f0a53-415e-4d4e-a6b9-87572d6a1b21",
   "metadata": {},
   "outputs": [],
   "source": [
    "games = {i+1: get_game(line) for i, line in enumerate(lines)}"
   ]
  },
  {
   "cell_type": "code",
   "execution_count": 41,
   "id": "2a1c24a5-1cd3-44d5-9e74-4c3c7ad1b574",
   "metadata": {},
   "outputs": [],
   "source": [
    "from math import prod"
   ]
  },
  {
   "cell_type": "code",
   "execution_count": 42,
   "id": "dc9a6da6-8ab4-4b0d-8625-68a3781dcc91",
   "metadata": {},
   "outputs": [],
   "source": [
    "def get_power(game):\n",
    "    return prod(game.max())"
   ]
  },
  {
   "cell_type": "code",
   "execution_count": 43,
   "id": "04f14144-5d21-491e-a464-1cc28720ff6e",
   "metadata": {},
   "outputs": [
    {
     "data": {
      "text/plain": [
       "78669.0"
      ]
     },
     "execution_count": 43,
     "metadata": {},
     "output_type": "execute_result"
    }
   ],
   "source": [
    "powers = [get_power(game) for i, game in games.items()]\n",
    "sum(powers)"
   ]
  },
  {
   "cell_type": "code",
   "execution_count": null,
   "id": "282ac077-d336-4514-a3b0-f0c16aae01f2",
   "metadata": {},
   "outputs": [],
   "source": []
  }
 ],
 "metadata": {
  "kernelspec": {
   "display_name": "Python 3 (ipykernel)",
   "language": "python",
   "name": "python3"
  },
  "language_info": {
   "codemirror_mode": {
    "name": "ipython",
    "version": 3
   },
   "file_extension": ".py",
   "mimetype": "text/x-python",
   "name": "python",
   "nbconvert_exporter": "python",
   "pygments_lexer": "ipython3",
   "version": "3.10.8"
  }
 },
 "nbformat": 4,
 "nbformat_minor": 5
}
