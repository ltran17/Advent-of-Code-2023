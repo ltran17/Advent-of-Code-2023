{
 "cells": [
  {
   "cell_type": "markdown",
   "id": "ad5b1e50-109c-4aff-8773-ac7001b6cb44",
   "metadata": {},
   "source": [
    "# --- Day 4: Scratchcards ---\n",
    "\n",
    "The gondola takes you up. Strangely, though, the ground doesn't seem to be coming with you; you're not climbing a mountain. As the circle of Snow Island recedes below you, an entire new landmass suddenly appears above you! The gondola carries you to the surface of the new island and lurches into the station.\n",
    "\n",
    "As you exit the gondola, the first thing you notice is that the air here is much warmer than it was on Snow Island. It's also quite humid. Is this where the water source is?\n",
    "\n",
    "The next thing you notice is an Elf sitting on the floor across the station in what seems to be a pile of colorful square cards.\n",
    "\n",
    "\"Oh! Hello!\" The Elf excitedly runs over to you. \"How may I be of service?\" You ask about water sources.\n",
    "\n",
    "\"I'm not sure; I just operate the gondola lift. That does sound like something we'd have, though - this is Island Island, after all! I bet the gardener would know. He's on a different island, though - er, the small kind surrounded by water, not the floating kind. We really need to come up with a better naming scheme. Tell you what: if you can help me with something quick, I'll let you borrow my boat and you can go visit the gardener. I got all these scratchcards as a gift, but I can't figure out what I've won.\"\n",
    "\n",
    "The Elf leads you over to the pile of colorful cards. There, you discover dozens of scratchcards, all with their opaque covering already scratched off. Picking one up, it looks like each card has two lists of numbers separated by a vertical bar (|): a list of winning numbers and then a list of numbers you have. You organize the information into a table (your puzzle input).\n",
    "\n",
    "As far as the Elf has been able to figure out, you have to figure out which of the numbers you have appear in the list of winning numbers. The first match makes the card worth one point and each match after the first doubles the point value of that card.\n",
    "\n",
    "For example:\n",
    "```\n",
    "Card 1: 41 48 83 86 17 | 83 86  6 31 17  9 48 53\n",
    "Card 2: 13 32 20 16 61 | 61 30 68 82 17 32 24 19\n",
    "Card 3:  1 21 53 59 44 | 69 82 63 72 16 21 14  1\n",
    "Card 4: 41 92 73 84 69 | 59 84 76 51 58  5 54 83\n",
    "Card 5: 87 83 26 28 32 | 88 30 70 12 93 22 82 36\n",
    "Card 6: 31 18 13 56 72 | 74 77 10 23 35 67 36 11\n",
    "```\n",
    "In the above example, card 1 has five winning numbers (41, 48, 83, 86, and 17) and eight numbers you have (83, 86, 6, 31, 17, 9, 48, and 53). \n",
    "\n",
    "Of the numbers you have, four of them (48, 83, 17, and 86) are winning numbers! \n",
    "\n",
    "That means card 1 is worth 8 points (1 for the first match, then doubled three times for each of the three matches after the first).\n",
    "\n",
    "Card 2 has two winning numbers (32 and 61), so it is worth 2 points.\n",
    "\n",
    "Card 3 has two winning numbers (1 and 21), so it is worth 2 points.\n",
    "\n",
    "Card 4 has one winning number (84), so it is worth 1 point.\n",
    "\n",
    "Card 5 has no winning numbers, so it is worth no points.\n",
    "\n",
    "Card 6 has no winning numbers, so it is worth no points.\n",
    "\n",
    "So, in this example, the Elf's pile of scratchcards is worth 13 points.\n",
    "\n",
    "Take a seat in the large pile of colorful cards. How many points are they worth in total?"
   ]
  },
  {
   "cell_type": "code",
   "execution_count": 1,
   "id": "f1992ebf-4a18-4d9b-8a8b-bc44c388e9b1",
   "metadata": {},
   "outputs": [],
   "source": [
    "from utilities import get_lines"
   ]
  },
  {
   "cell_type": "code",
   "execution_count": 4,
   "id": "18009fdf-cf3f-4812-97a6-3171cd152ed7",
   "metadata": {},
   "outputs": [],
   "source": [
    "lines = get_lines('input')"
   ]
  },
  {
   "cell_type": "code",
   "execution_count": 5,
   "id": "8b1bb88f-3a04-489c-b74f-1b499b06e277",
   "metadata": {},
   "outputs": [
    {
     "data": {
      "text/plain": [
       "187"
      ]
     },
     "execution_count": 5,
     "metadata": {},
     "output_type": "execute_result"
    }
   ],
   "source": [
    "len(lines)"
   ]
  },
  {
   "cell_type": "code",
   "execution_count": 6,
   "id": "cbfa945a-082f-45db-b2f8-28991efee744",
   "metadata": {},
   "outputs": [],
   "source": [
    "cards = [card.split('|') for card in [line.split(':')[1].strip() for line in lines]]"
   ]
  },
  {
   "cell_type": "code",
   "execution_count": 7,
   "id": "3fc012ac-3170-4200-8dd0-6cb491596edf",
   "metadata": {},
   "outputs": [],
   "source": [
    "get_nums = lambda num_string: [int(num) for num in num_string.strip().split(' ') if num!='']"
   ]
  },
  {
   "cell_type": "code",
   "execution_count": 8,
   "id": "8f5a14ed-c566-4811-b489-887edada9530",
   "metadata": {},
   "outputs": [],
   "source": [
    "winning_numbers = [get_nums(card[0]) for card in cards]"
   ]
  },
  {
   "cell_type": "code",
   "execution_count": 9,
   "id": "5aeadfbf-f840-44fd-a257-093c6952fadf",
   "metadata": {},
   "outputs": [],
   "source": [
    "scratch_numbers = [get_nums(card[1]) for card in cards]"
   ]
  },
  {
   "cell_type": "code",
   "execution_count": 10,
   "id": "7302d657-55cd-46fc-a6f6-a09275181682",
   "metadata": {},
   "outputs": [],
   "source": [
    "def get_card_value(winning_nums, scratch_nums):\n",
    "    return len(set(winning_nums).intersection(set(scratch_nums)))"
   ]
  },
  {
   "cell_type": "code",
   "execution_count": 11,
   "id": "36349d6a-9a92-4e87-ab3f-fc67b6f2d12a",
   "metadata": {},
   "outputs": [],
   "source": [
    "scratch_wins = [get_card_value(winning_numbers[i], scratch_numbers[i]) for i in range(len(cards))]"
   ]
  },
  {
   "cell_type": "code",
   "execution_count": 12,
   "id": "d57449ce-5e5f-4eb1-a2f9-84b365d54d71",
   "metadata": {},
   "outputs": [],
   "source": [
    "get_value = lambda n: 2**(n-1) if n>0 else 0"
   ]
  },
  {
   "cell_type": "code",
   "execution_count": 13,
   "id": "a9743664-80ae-4b4d-8db4-f68495cf6893",
   "metadata": {},
   "outputs": [],
   "source": [
    "values = [get_value(n) for n in scratch_wins]"
   ]
  },
  {
   "cell_type": "code",
   "execution_count": 14,
   "id": "443871fd-8346-45f8-ac5d-494ba97bd94a",
   "metadata": {},
   "outputs": [
    {
     "data": {
      "text/plain": [
       "22674"
      ]
     },
     "execution_count": 14,
     "metadata": {},
     "output_type": "execute_result"
    }
   ],
   "source": [
    "sum(values)"
   ]
  },
  {
   "cell_type": "code",
   "execution_count": null,
   "id": "4b31749e-99b9-46e7-96e5-a185512f3c20",
   "metadata": {},
   "outputs": [],
   "source": []
  }
 ],
 "metadata": {
  "kernelspec": {
   "display_name": "Python 3 (ipykernel)",
   "language": "python",
   "name": "python3"
  },
  "language_info": {
   "codemirror_mode": {
    "name": "ipython",
    "version": 3
   },
   "file_extension": ".py",
   "mimetype": "text/x-python",
   "name": "python",
   "nbconvert_exporter": "python",
   "pygments_lexer": "ipython3",
   "version": "3.10.8"
  }
 },
 "nbformat": 4,
 "nbformat_minor": 5
}
