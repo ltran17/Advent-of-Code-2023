{
 "cells": [
  {
   "cell_type": "markdown",
   "id": "936f0a40-222c-4989-b7d9-2782700fbebb",
   "metadata": {
    "tags": []
   },
   "source": [
    "# --- Part Two ---\n",
    "\n",
    "The engineer finds the missing part and installs it in the engine! As the engine springs to life, you jump in the closest gondola, finally ready to ascend to the water source.\n",
    "\n",
    "You don't seem to be going very fast, though. Maybe something is still wrong? Fortunately, the gondola has a phone labeled \"help\", so you pick it up and the engineer answers.\n",
    "\n",
    "Before you can explain the situation, she suggests that you look out the window. There stands the engineer, holding a phone in one hand and waving with the other. You're going so slowly that you haven't even left the station. You exit the gondola.\n",
    "\n",
    "The missing part wasn't the only issue - one of the gears in the engine is wrong. A gear is any * symbol that is adjacent to exactly two part numbers. Its gear ratio is the result of multiplying those two numbers together.\n",
    "\n",
    "This time, you need to find the gear ratio of every gear and add them all up so that the engineer can figure out which gear needs to be replaced.\n",
    "\n",
    "Consider the same engine schematic again:\n",
    "```\n",
    "467..114..\n",
    "...*......\n",
    "..35..633.\n",
    "......#...\n",
    "617*......\n",
    ".....+.58.\n",
    "..592.....\n",
    "......755.\n",
    "...$.*....\n",
    ".664.598..\n",
    "```\n",
    "In this schematic, there are two gears. The first is in the top left; it has part numbers 467 and 35, so its gear ratio is 16345. The second gear is in the lower right; its gear ratio is 451490. (The * adjacent to 617 is not a gear because it is only adjacent to one part number.) Adding up all of the gear ratios produces 467835.\n",
    "\n",
    "**What is the sum of all of the gear ratios in your engine schematic?**"
   ]
  },
  {
   "cell_type": "markdown",
   "id": "eba365c9-440c-47e2-ada6-313811744563",
   "metadata": {},
   "source": [
    "**Notes**\n",
    "* This should build nicely on part 1. Check for `*` instead of any symbol.\n",
    "* The tricky part is determining if a `*` is a gear -- next to two parts, and not just one.\n",
    "* **OR** do this in reverse...find the potential gears and then count how many parts it is next to.\n",
    "* or really a combination of the two: identify the potential parts and the potential gears, and then figure out which gears touch exactly two parts"
   ]
  },
  {
   "cell_type": "code",
   "execution_count": 1,
   "id": "3bfdcdbd-2b06-45f0-9809-5d10ecdea367",
   "metadata": {
    "tags": []
   },
   "outputs": [],
   "source": [
    "from utilities import get_lines"
   ]
  },
  {
   "cell_type": "code",
   "execution_count": 2,
   "id": "aa338f32-c341-4aa9-9deb-b399be2eea82",
   "metadata": {},
   "outputs": [
    {
     "data": {
      "text/plain": [
       "140"
      ]
     },
     "execution_count": 2,
     "metadata": {},
     "output_type": "execute_result"
    }
   ],
   "source": [
    "lines = get_lines('input')\n",
    "len(lines)"
   ]
  },
  {
   "cell_type": "code",
   "execution_count": 3,
   "id": "b1328a06-aae4-497d-99fc-55d1c4d2487f",
   "metadata": {},
   "outputs": [
    {
     "data": {
      "text/plain": [
       "139"
      ]
     },
     "execution_count": 3,
     "metadata": {},
     "output_type": "execute_result"
    }
   ],
   "source": [
    "max_index = len(lines[0])-1\n",
    "max_index"
   ]
  },
  {
   "cell_type": "code",
   "execution_count": 4,
   "id": "cc2a2843-3a61-40ca-b50e-b70a68416a62",
   "metadata": {},
   "outputs": [
    {
     "data": {
      "text/plain": [
       "139"
      ]
     },
     "execution_count": 4,
     "metadata": {},
     "output_type": "execute_result"
    }
   ],
   "source": [
    "max_line_num = len(lines)-1\n",
    "max_line_num"
   ]
  },
  {
   "cell_type": "code",
   "execution_count": 5,
   "id": "7f37d598-5833-48f5-8b93-dc98b6837d3e",
   "metadata": {},
   "outputs": [],
   "source": [
    "import re"
   ]
  },
  {
   "cell_type": "markdown",
   "id": "1af5f1e1-051c-400c-b41c-5c3832eb6f58",
   "metadata": {},
   "source": [
    "Need the index values of the part numbers in each line."
   ]
  },
  {
   "cell_type": "code",
   "execution_count": 6,
   "id": "2772429e-9e8f-47d3-897e-661c6be7c6bc",
   "metadata": {
    "tags": []
   },
   "outputs": [],
   "source": [
    "from collections import namedtuple"
   ]
  },
  {
   "cell_type": "code",
   "execution_count": 7,
   "id": "45caa4fe-ee64-4ba5-b3e1-03fef54d29f8",
   "metadata": {},
   "outputs": [],
   "source": [
    "Match = namedtuple('Match','line_num span value')"
   ]
  },
  {
   "cell_type": "code",
   "execution_count": 8,
   "id": "2a5b9731-b3c4-4c26-b004-ea39c3a85d4a",
   "metadata": {},
   "outputs": [
    {
     "data": {
      "text/plain": [
       "1189"
      ]
     },
     "execution_count": 8,
     "metadata": {},
     "output_type": "execute_result"
    }
   ],
   "source": [
    "parts = list()\n",
    "#  will be a list of tuples (line index, number span, number)\n",
    "pattern = re.compile('\\d+')\n",
    "for i, line in enumerate(lines):\n",
    "    for match in re.finditer(pattern, line):\n",
    "        parts.append(Match(i, match.span(), int(match.group())))\n",
    "len(parts)"
   ]
  },
  {
   "cell_type": "code",
   "execution_count": 9,
   "id": "f5080600-15bd-4b03-9775-bc1144180475",
   "metadata": {},
   "outputs": [
    {
     "data": {
      "text/plain": [
       "365"
      ]
     },
     "execution_count": 9,
     "metadata": {},
     "output_type": "execute_result"
    }
   ],
   "source": [
    "gears = list()\n",
    "#  will be a list of tuples for gears (line index, number span, '*')\n",
    "pattern = re.compile('[*]')\n",
    "for i, line in enumerate(lines):\n",
    "    for match in re.finditer(pattern, line):\n",
    "        gears.append(Match(i, match.span(), match.group()))\n",
    "len(gears)"
   ]
  },
  {
   "cell_type": "markdown",
   "id": "8674c6ea-8283-4d8a-9637-0795ce796e18",
   "metadata": {},
   "source": [
    "For each gear, check the parts in the lines above, below, and its own line. How many of their spans intersect with the span of the gear? "
   ]
  },
  {
   "cell_type": "code",
   "execution_count": 10,
   "id": "9fefec5f-c962-4756-acd0-37816ce64868",
   "metadata": {},
   "outputs": [],
   "source": [
    "def get_check_line_nums(line_num):\n",
    "    '''helper function for range of lines to check'''\n",
    "    if line_num==0:\n",
    "        return (0,1)\n",
    "    elif line_num==max_line_num:\n",
    "        return(max_line_num-1, max_line_num)\n",
    "    return (line_num-1, line_num+1)"
   ]
  },
  {
   "cell_type": "code",
   "execution_count": 11,
   "id": "bc94dc06-460e-4682-a663-3a0543b0ecd5",
   "metadata": {},
   "outputs": [],
   "source": [
    "def spans_intersect(span1, span2):\n",
    "    '''helper function to see if two spans intersect'''\n",
    "    index1 = set(range(span1[0],span1[1]+1))\n",
    "    index2 = set(range(span2[0],span2[1]+1))\n",
    "    intersection = len(index1.intersection(index2))\n",
    "    if intersection>0:\n",
    "        return True\n",
    "    return False"
   ]
  },
  {
   "cell_type": "code",
   "execution_count": 12,
   "id": "da1ccc73-a372-4cfd-8fa0-eb53407509ae",
   "metadata": {},
   "outputs": [],
   "source": [
    "def get_line_num_parts(line_num):\n",
    "    '''helper function to get the parts from a line number'''\n",
    "    return [part for part in parts if part.line_num==line_num]"
   ]
  },
  {
   "cell_type": "code",
   "execution_count": 13,
   "id": "66b60a1f-525e-4c36-b96e-c699fd577611",
   "metadata": {},
   "outputs": [],
   "source": [
    "def get_possible_parts(gear):\n",
    "    '''returns a list of parts that are in the gear's range of line numbers'''\n",
    "    check_lines = get_check_line_nums(gear.line_num)\n",
    "    possible = list()\n",
    "    for i in range(check_lines[0],check_lines[1]+1):\n",
    "        num_parts = get_line_num_parts(i)\n",
    "        if num_parts is not None:\n",
    "            possible.extend(get_line_num_parts(i))\n",
    "    return possible"
   ]
  },
  {
   "cell_type": "code",
   "execution_count": 14,
   "id": "c51189ed-e848-4909-8a0b-76573506461b",
   "metadata": {},
   "outputs": [],
   "source": [
    "def get_matching_parts(gear):\n",
    "    '''returns a list of parts that match the gear'''\n",
    "    possible = get_possible_parts(gear)\n",
    "    matching_parts=list()\n",
    "    for part in possible:\n",
    "        if spans_intersect(gear.span, \n",
    "                           part.span):\n",
    "            matching_parts.append(part)\n",
    "    return matching_parts"
   ]
  },
  {
   "cell_type": "code",
   "execution_count": 15,
   "id": "5a2ab9bc-3faf-4101-9169-c314c6bfdf03",
   "metadata": {},
   "outputs": [],
   "source": [
    "def get_gear_ratio(gear):\n",
    "    '''returns the gear ratio (defined in problem statement)'''\n",
    "    gear_parts = get_matching_parts(gear)\n",
    "    if len(gear_parts)==2:\n",
    "        return gear_parts[0].value*gear_parts[1].value\n",
    "    return 0"
   ]
  },
  {
   "cell_type": "markdown",
   "id": "e018ad5a-7ce8-445f-8b96-546276a6afd6",
   "metadata": {},
   "source": [
    "### After all of the above prep...\n",
    "It is very quick to get the gear ratios for all the gears, and then add them up."
   ]
  },
  {
   "cell_type": "code",
   "execution_count": 16,
   "id": "b14d0725-c0d7-4fdd-ba5f-524260a6e408",
   "metadata": {},
   "outputs": [
    {
     "data": {
      "text/plain": [
       "75519888"
      ]
     },
     "execution_count": 16,
     "metadata": {},
     "output_type": "execute_result"
    }
   ],
   "source": [
    "gear_ratios = list()\n",
    "for gear in gears:\n",
    "    gear_ratios.append(get_gear_ratio(gear))\n",
    "sum(gear_ratios)"
   ]
  },
  {
   "cell_type": "markdown",
   "id": "87c2f5d7-81f0-497c-b40e-1bda373fdf68",
   "metadata": {},
   "source": [
    "And with that, I earned a star! 🌟"
   ]
  }
 ],
 "metadata": {
  "kernelspec": {
   "display_name": "Python 3 (ipykernel)",
   "language": "python",
   "name": "python3"
  },
  "language_info": {
   "codemirror_mode": {
    "name": "ipython",
    "version": 3
   },
   "file_extension": ".py",
   "mimetype": "text/x-python",
   "name": "python",
   "nbconvert_exporter": "python",
   "pygments_lexer": "ipython3",
   "version": "3.10.8"
  }
 },
 "nbformat": 4,
 "nbformat_minor": 5
}
