{
 "cells": [
  {
   "cell_type": "markdown",
   "id": "713af4f0-770c-44dd-94b5-94d60128f297",
   "metadata": {},
   "source": [
    "# --- Day 5: If You Give A Seed A Fertilizer ---\n",
    "You take the boat and find the gardener right where you were told he would be: managing a giant \"garden\" that looks more to you like a farm.\n",
    "\n",
    "\"A water source? Island Island is the water source!\" You point out that Snow Island isn't receiving any water.\n",
    "\n",
    "\"Oh, we had to stop the water because we ran out of sand to filter it with! Can't make snow with dirty water. Don't worry, I'm sure we'll get more sand soon; we only turned off the water a few days... weeks... oh no.\" His face sinks into a look of horrified realization.\n",
    "\n",
    "\"I've been so busy making sure everyone here has food that I completely forgot to check why we stopped getting more sand! There's a ferry leaving soon that is headed over in that direction - it's much faster than your boat. Could you please go check it out?\"\n",
    "\n",
    "You barely have time to agree to this request when he brings up another. \"While you wait for the ferry, maybe you can help us with our food production problem. The latest Island Island Almanac just arrived and we're having trouble making sense of it.\"\n",
    "\n",
    "The almanac (your puzzle input) lists all of the seeds that need to be planted. It also lists what type of soil to use with each kind of seed, what type of fertilizer to use with each kind of soil, what type of water to use with each kind of fertilizer, and so on. Every type of seed, soil, fertilizer and so on is identified with a number, but numbers are reused by each category - that is, soil 123 and fertilizer 123 aren't necessarily related to each other.\n",
    "\n",
    "For example:\n",
    "```\n",
    "seeds: 79 14 55 13\n",
    "\n",
    "seed-to-soil map:\n",
    "50 98 2\n",
    "52 50 48\n",
    "\n",
    "soil-to-fertilizer map:\n",
    "0 15 37\n",
    "37 52 2\n",
    "39 0 15\n",
    "\n",
    "fertilizer-to-water map:\n",
    "49 53 8\n",
    "0 11 42\n",
    "42 0 7\n",
    "57 7 4\n",
    "\n",
    "water-to-light map:\n",
    "88 18 7\n",
    "18 25 70\n",
    "\n",
    "light-to-temperature map:\n",
    "45 77 23\n",
    "81 45 19\n",
    "68 64 13\n",
    "\n",
    "temperature-to-humidity map:\n",
    "0 69 1\n",
    "1 0 69\n",
    "\n",
    "humidity-to-location map:\n",
    "60 56 37\n",
    "56 93 4\n",
    "```\n",
    "The almanac starts by listing which seeds need to be planted: seeds 79, 14, 55, and 13.\n",
    "\n",
    "The rest of the almanac contains a list of maps which describe how to convert numbers from a source category into numbers in a destination category. That is, the section that starts with seed-to-soil map: describes how to convert a seed number (the source) to a soil number (the destination). This lets the gardener and his team know which soil to use with which seeds, which water to use with which fertilizer, and so on.\n",
    "\n",
    "Rather than list every source number and its corresponding destination number one by one, the maps describe entire ranges of numbers that can be converted. Each line within a map contains three numbers: the destination range start, the source range start, and the range length.\n",
    "\n",
    "Consider again the example seed-to-soil map:\n",
    "```\n",
    "50 98 2\n",
    "52 50 48\n",
    "```\n",
    "The first line has a destination range start of 50, a source range start of 98, and a range length of 2. This line means that the source range starts at 98 and contains two values: 98 and 99. The destination range is the same length, but it starts at 50, so its two values are 50 and 51. With this information, you know that seed number 98 corresponds to soil number 50 and that seed number 99 corresponds to soil number 51.\n",
    "\n",
    "The second line means that the source range starts at 50 and contains 48 values: 50, 51, ..., 96, 97. This corresponds to a destination range starting at 52 and also containing 48 values: 52, 53, ..., 98, 99. So, seed number 53 corresponds to soil number 55.\n",
    "\n",
    "Any source numbers that aren't mapped correspond to the same destination number. So, seed number 10 corresponds to soil number 10.\n",
    "\n",
    "So, the entire list of seed numbers and their corresponding soil numbers looks like this:\n",
    "```\n",
    "seed  soil\n",
    "0     0\n",
    "1     1\n",
    "...   ...\n",
    "48    48\n",
    "49    49\n",
    "50    52\n",
    "51    53\n",
    "...   ...\n",
    "96    98\n",
    "97    99\n",
    "98    50\n",
    "99    51\n",
    "```\n",
    "With this map, you can look up the soil number required for each initial seed number:\n",
    "```\n",
    "Seed number 79 corresponds to soil number 81.\n",
    "Seed number 14 corresponds to soil number 14.\n",
    "Seed number 55 corresponds to soil number 57.\n",
    "Seed number 13 corresponds to soil number 13.\n",
    "```\n",
    "The gardener and his team want to get started as soon as possible, so they'd like to know the closest location that needs a seed. Using these maps, find the lowest location number that corresponds to any of the initial seeds. To do this, you'll need to convert each seed number through other categories until you can find its corresponding location number. In this example, the corresponding types are:\n",
    "```\n",
    "Seed 79, soil 81, fertilizer 81, water 81, light 74, temperature 78, humidity 78, location 82.\n",
    "Seed 14, soil 14, fertilizer 53, water 49, light 42, temperature 42, humidity 43, location 43.\n",
    "Seed 55, soil 57, fertilizer 57, water 53, light 46, temperature 82, humidity 82, location 86.\n",
    "Seed 13, soil 13, fertilizer 52, water 41, light 34, temperature 34, humidity 35, location 35.\n",
    "```\n",
    "So, the lowest location number in this example is 35.\n",
    "\n",
    "**What is the lowest location number that corresponds to any of the initial seed numbers?**"
   ]
  },
  {
   "cell_type": "code",
   "execution_count": 1,
   "id": "69746602-117f-413a-af90-b67c660649f2",
   "metadata": {},
   "outputs": [],
   "source": [
    "from utilities import get_lines"
   ]
  },
  {
   "cell_type": "code",
   "execution_count": 2,
   "id": "e2465cae-fd92-495f-ab3f-78fb20672d06",
   "metadata": {},
   "outputs": [
    {
     "data": {
      "text/plain": [
       "197"
      ]
     },
     "execution_count": 2,
     "metadata": {},
     "output_type": "execute_result"
    }
   ],
   "source": [
    "lines = get_lines('input')\n",
    "len(lines)"
   ]
  },
  {
   "cell_type": "code",
   "execution_count": 3,
   "id": "426cc6d0-835a-43fe-973f-0216ebe21710",
   "metadata": {},
   "outputs": [],
   "source": [
    "def get_numbers(nums):\n",
    "    '''\n",
    "    Parameters\n",
    "    ----------\n",
    "    nums: str of numbers separated by spaces\n",
    "    \n",
    "    Returns\n",
    "    -------\n",
    "    numbers: list of ints\n",
    "    '''\n",
    "    try:\n",
    "        return [int(n) for n in nums.strip().split(' ')]\n",
    "    except:\n",
    "        return None"
   ]
  },
  {
   "cell_type": "code",
   "execution_count": 4,
   "id": "4857efa4-599d-4eb3-a29c-acd6f7a1147d",
   "metadata": {},
   "outputs": [],
   "source": [
    "seeds = get_numbers(lines[0].split(':')[1])"
   ]
  },
  {
   "cell_type": "code",
   "execution_count": 5,
   "id": "a3f479a1-ad26-4d81-871f-14e60dca96d0",
   "metadata": {},
   "outputs": [],
   "source": [
    "def process_line(line):\n",
    "    if line=='':\n",
    "        return None\n",
    "    elif ':' in line:\n",
    "        return line.split(':')[0]\n",
    "    else:\n",
    "        return get_numbers(line)"
   ]
  },
  {
   "cell_type": "code",
   "execution_count": 6,
   "id": "8d0d4632-bc76-4289-870d-4159bacfd92e",
   "metadata": {},
   "outputs": [],
   "source": [
    "processed = list()\n",
    "for line in lines[1:]:\n",
    "    p = process_line(line)\n",
    "    if p is not None:\n",
    "        processed.append(p)"
   ]
  },
  {
   "cell_type": "code",
   "execution_count": 7,
   "id": "f745adc0-2e36-42dc-a183-872198d1ccac",
   "metadata": {},
   "outputs": [],
   "source": [
    "# processed"
   ]
  },
  {
   "cell_type": "code",
   "execution_count": 8,
   "id": "a095c0ae-b609-48ee-a667-7cb3f4d1232b",
   "metadata": {},
   "outputs": [],
   "source": [
    "from collections import namedtuple"
   ]
  },
  {
   "cell_type": "code",
   "execution_count": 9,
   "id": "e4d0f11a-fbb8-4270-82c5-a7d08a8a528a",
   "metadata": {},
   "outputs": [],
   "source": [
    "Loc = namedtuple('Loc','d_start s_start len')"
   ]
  },
  {
   "cell_type": "code",
   "execution_count": 10,
   "id": "f6dfabea-7346-421c-9fe6-9b0545b147a7",
   "metadata": {},
   "outputs": [],
   "source": [
    "maps = list()\n",
    "for p in processed:\n",
    "    if type(p)==str:\n",
    "        maps.append(p)\n",
    "    else:\n",
    "        loc = Loc(*p)\n",
    "        maps.append(loc)\n",
    "# maps"
   ]
  },
  {
   "cell_type": "code",
   "execution_count": 11,
   "id": "5b1bbded-6141-42b4-be99-9a0900744fc3",
   "metadata": {},
   "outputs": [
    {
     "data": {
      "text/plain": [
       "['seed-to-soil map',\n",
       " 'soil-to-fertilizer map',\n",
       " 'fertilizer-to-water map',\n",
       " 'water-to-light map',\n",
       " 'light-to-temperature map',\n",
       " 'temperature-to-humidity map',\n",
       " 'humidity-to-location map']"
      ]
     },
     "execution_count": 11,
     "metadata": {},
     "output_type": "execute_result"
    }
   ],
   "source": [
    "map_names = [value for value in maps if type(value)==str]\n",
    "map_names"
   ]
  },
  {
   "cell_type": "code",
   "execution_count": 12,
   "id": "11b195bf-c701-456c-988f-99e48c13aec0",
   "metadata": {},
   "outputs": [],
   "source": [
    "def get_map_cats(map_name):\n",
    "    i = maps.index(map_name)+1\n",
    "    cats = list()\n",
    "    try:\n",
    "        while type(maps[i])!=str:\n",
    "            cats.append(maps[i])\n",
    "            i+=1\n",
    "    except Exception as e:\n",
    "        pass\n",
    "    return cats"
   ]
  },
  {
   "cell_type": "code",
   "execution_count": 13,
   "id": "9674b497-f0d5-43ac-ac01-af5f6fa0d24a",
   "metadata": {},
   "outputs": [],
   "source": [
    "categories = {map_name: get_map_cats(map_name) for map_name in map_names}"
   ]
  },
  {
   "cell_type": "code",
   "execution_count": 14,
   "id": "38e4055f-8241-46df-bd1d-f337eb7ad406",
   "metadata": {},
   "outputs": [],
   "source": [
    "def process_seed(seed, m):\n",
    "    # print(m)\n",
    "    s_start = m.s_start\n",
    "    s_end = m.s_start+m.len\n",
    "    if (s_start <= seed) & (seed < s_end):\n",
    "        diff = s_start - m.d_start\n",
    "        # print(f'seed {seed}-{diff}={seed-diff}')\n",
    "        return seed-diff\n",
    "    else:\n",
    "        return seed\n"
   ]
  },
  {
   "cell_type": "code",
   "execution_count": 15,
   "id": "da9ce255-5540-468a-8e4e-4cc24fba4cb0",
   "metadata": {},
   "outputs": [],
   "source": [
    "def give_a_mouse_a_cookie(seed, category):\n",
    "    '''\n",
    "    Parameters\n",
    "    ----------\n",
    "    seed: int representing seed to process\n",
    "    category: list of Loc objects\n",
    "    \n",
    "    Returns\n",
    "    -------\n",
    "    int: processed location value, changed or not\n",
    "    '''\n",
    "    for m in category:\n",
    "        s = seed\n",
    "        seed = process_seed(seed,m)\n",
    "        if s!=seed:\n",
    "            return seed\n",
    "    return seed"
   ]
  },
  {
   "cell_type": "code",
   "execution_count": 16,
   "id": "27273f17-4459-4c3d-a182-8d6b91b8abb9",
   "metadata": {},
   "outputs": [],
   "source": [
    "# for seed in seeds:\n",
    "#     print(seed,'->', give_a_mouse_a_cookie(seed))"
   ]
  },
  {
   "cell_type": "code",
   "execution_count": 17,
   "id": "b935fc81-b67a-4790-88da-c55e71d60bbd",
   "metadata": {},
   "outputs": [
    {
     "data": {
      "text/plain": [
       "3146600596"
      ]
     },
     "execution_count": 17,
     "metadata": {},
     "output_type": "execute_result"
    }
   ],
   "source": [
    "base_seed_loc = give_a_mouse_a_cookie(seeds[0], categories[map_names[0]])\n",
    "base_seed_loc"
   ]
  },
  {
   "cell_type": "code",
   "execution_count": 18,
   "id": "1dd04cbe-9e50-49fe-a44c-7e66bfe8e37c",
   "metadata": {},
   "outputs": [
    {
     "data": {
      "text/plain": [
       "(316680412, 84470622)"
      ]
     },
     "execution_count": 18,
     "metadata": {},
     "output_type": "execute_result"
    }
   ],
   "source": [
    "min_loc = base_seed_loc\n",
    "min_seed = seeds[0]\n",
    "for seed in seeds:\n",
    "    s = seed\n",
    "    for cat in categories:\n",
    "        loc = give_a_mouse_a_cookie(s, categories[cat])\n",
    "        # print(s, cat, loc)\n",
    "        s = loc\n",
    "    # print(seed,'->',loc)\n",
    "    if loc < min_loc:\n",
    "        min_seed = seed\n",
    "        min_loc = loc\n",
    "        # print('new min',min_loc)\n",
    "min_seed, min_loc"
   ]
  }
 ],
 "metadata": {
  "kernelspec": {
   "display_name": "Python 3 (ipykernel)",
   "language": "python",
   "name": "python3"
  },
  "language_info": {
   "codemirror_mode": {
    "name": "ipython",
    "version": 3
   },
   "file_extension": ".py",
   "mimetype": "text/x-python",
   "name": "python",
   "nbconvert_exporter": "python",
   "pygments_lexer": "ipython3",
   "version": "3.10.8"
  }
 },
 "nbformat": 4,
 "nbformat_minor": 5
}
