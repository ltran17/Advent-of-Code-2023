{
 "cells": [
  {
   "cell_type": "markdown",
   "id": "ce0772ce-7024-4411-9aeb-83235d09c30f",
   "metadata": {},
   "source": [
    "--- Day 1: Trebuchet?! ---\n",
    "\n",
    "Something is wrong with global snow production, and you've been selected to take a look. The Elves have even given you a map; on it, they've used stars to mark the top fifty locations that are likely to be having problems.\n",
    "\n",
    "You've been doing this long enough to know that to restore snow operations, you need to check all fifty stars by December 25th.\n",
    "\n",
    "Collect stars by solving puzzles. Two puzzles will be made available on each day in the Advent calendar; the second puzzle is unlocked when you complete the first. Each puzzle grants one star. Good luck!\n",
    "\n",
    "You try to ask why they can't just use a weather machine (\"not powerful enough\") and where they're even sending you (\"the sky\") and why your map looks mostly blank (\"you sure ask a lot of questions\") and hang on did you just say the sky (\"of course, where do you think snow comes from\") when you realize that the Elves are already loading you into a trebuchet (\"please hold still, we need to strap you in\").\n",
    "\n",
    "As they're making the final adjustments, they discover that their calibration document (your puzzle input) has been amended by a very young Elf who was apparently just excited to show off her art skills. Consequently, the Elves are having trouble reading the values on the document.\n",
    "\n",
    "The newly-improved calibration document consists of lines of text; each line originally contained a specific calibration value that the Elves now need to recover. On each line, the calibration value can be found by combining the first digit and the last digit (in that order) to form a single two-digit number.\n",
    "\n",
    "For example:\n",
    "```\n",
    "1abc2\n",
    "\n",
    "pqr3stu8vwx\n",
    "\n",
    "a1b2c3d4e5f\n",
    "\n",
    "treb7uchet\n",
    "```\n",
    "In this example, the calibration values of these four lines are 12, 38, 15, and 77. Adding these together produces 142.\n",
    "\n",
    "Consider your entire calibration document. **What is the sum of all of the calibration values?**"
   ]
  },
  {
   "cell_type": "code",
   "execution_count": 1,
   "id": "3de2dd06-95e8-45ef-8a78-eb58317570c5",
   "metadata": {},
   "outputs": [],
   "source": [
    "def get_lines(file_type='sample'):\n",
    "    '''\n",
    "    Read in the lines of today's sample/input file line by line. \n",
    "    Assumes the file is in folder called 'inputs/'\n",
    "    \n",
    "    Parameters\n",
    "    ----------\n",
    "    file_type : str\n",
    "        Either sample or input\n",
    "    \n",
    "    Returns\n",
    "    -------\n",
    "    list of inputs stripped of whitespace\n",
    "    '''\n",
    "    import datetime\n",
    "    day = str(datetime.datetime.today().day).zfill(2)\n",
    "    filename = f'inputs/{day}-{file_type}.txt'\n",
    "    try:\n",
    "        with open(filename,'r') as file:\n",
    "            lines = [line.strip() for line in file.readlines()]\n",
    "        return lines\n",
    "    except:\n",
    "        print(filename+' does not exist')"
   ]
  },
  {
   "cell_type": "code",
   "execution_count": 24,
   "id": "5b23cca4-16ad-4365-9cd5-b0071e11e4ca",
   "metadata": {},
   "outputs": [],
   "source": [
    "lines = get_lines(file_type='input')"
   ]
  },
  {
   "cell_type": "code",
   "execution_count": 26,
   "id": "57a6782a-f9ce-41f6-b2c2-081d2aa091ba",
   "metadata": {},
   "outputs": [
    {
     "data": {
      "text/plain": [
       "1000"
      ]
     },
     "execution_count": 26,
     "metadata": {},
     "output_type": "execute_result"
    }
   ],
   "source": [
    "len(lines)"
   ]
  },
  {
   "cell_type": "code",
   "execution_count": 27,
   "id": "89cb54f6-42ab-4059-a1aa-8749c274c1fc",
   "metadata": {},
   "outputs": [],
   "source": [
    "import re"
   ]
  },
  {
   "cell_type": "code",
   "execution_count": 28,
   "id": "aa8428ee-be41-4d00-905a-da9b601d8dea",
   "metadata": {},
   "outputs": [],
   "source": [
    "digits = [int(''.join(re.findall(r'\\d',line))) for line in lines]"
   ]
  },
  {
   "cell_type": "code",
   "execution_count": 29,
   "id": "ae97ae55-3f3e-4278-972b-a118c327970f",
   "metadata": {},
   "outputs": [
    {
     "data": {
      "text/plain": [
       "17308522"
      ]
     },
     "execution_count": 29,
     "metadata": {},
     "output_type": "execute_result"
    }
   ],
   "source": [
    "sum(digits)"
   ]
  },
  {
   "cell_type": "code",
   "execution_count": 33,
   "id": "e070c31b-fe80-4348-b7e0-1125a03b1db3",
   "metadata": {},
   "outputs": [],
   "source": [
    "digits = [re.findall(r'\\d',line) for line in lines]"
   ]
  },
  {
   "cell_type": "code",
   "execution_count": 34,
   "id": "459de29a-3ce0-4a14-8e23-e8ea8958bd7a",
   "metadata": {},
   "outputs": [],
   "source": [
    "numbers = [int(digit[0]+digit[-1]) for digit in digits]"
   ]
  },
  {
   "cell_type": "code",
   "execution_count": 32,
   "id": "4ded51a6-115f-4478-b041-d980f32ffa7f",
   "metadata": {},
   "outputs": [
    {
     "data": {
      "text/plain": [
       "55172"
      ]
     },
     "execution_count": 32,
     "metadata": {},
     "output_type": "execute_result"
    }
   ],
   "source": [
    "sum(numbers)"
   ]
  },
  {
   "cell_type": "code",
   "execution_count": null,
   "id": "6f75d1ac-5341-4a73-a0f6-4fb3c42e3233",
   "metadata": {},
   "outputs": [],
   "source": []
  }
 ],
 "metadata": {
  "kernelspec": {
   "display_name": "Python 3 (ipykernel)",
   "language": "python",
   "name": "python3"
  },
  "language_info": {
   "codemirror_mode": {
    "name": "ipython",
    "version": 3
   },
   "file_extension": ".py",
   "mimetype": "text/x-python",
   "name": "python",
   "nbconvert_exporter": "python",
   "pygments_lexer": "ipython3",
   "version": "3.10.8"
  }
 },
 "nbformat": 4,
 "nbformat_minor": 5
}
