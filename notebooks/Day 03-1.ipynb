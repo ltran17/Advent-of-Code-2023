{
 "cells": [
  {
   "cell_type": "markdown",
   "id": "71f881b6-0fad-4d01-b54c-1c25bceff40c",
   "metadata": {},
   "source": [
    "# --- Day 3: Gear Ratios ---\n",
    "\n",
    "You and the Elf eventually reach a gondola lift station; he says the gondola lift will take you up to the water source, but this is as far as he can bring you. You go inside.\n",
    "\n",
    "It doesn't take long to find the gondolas, but there seems to be a problem: they're not moving.\n",
    "\n",
    "\"Aaah!\"\n",
    "\n",
    "You turn around to see a slightly-greasy Elf with a wrench and a look of surprise. \"Sorry, I wasn't expecting anyone! The gondola lift isn't working right now; it'll still be a while before I can fix it.\" You offer to help.\n",
    "\n",
    "The engineer explains that an engine part seems to be missing from the engine, but nobody can figure out which one. If you can add up all the part numbers in the engine schematic, it should be easy to work out which part is missing.\n",
    "\n",
    "The engine schematic (your puzzle input) consists of a visual representation of the engine. There are lots of numbers and symbols you don't really understand, but apparently any number adjacent to a symbol, even diagonally, is a \"part number\" and should be included in your sum. (Periods (.) do not count as a symbol.)\n",
    "\n",
    "Here is an example engine schematic:\n",
    "```\n",
    "467..114..\n",
    "...*......\n",
    "..35..633.\n",
    "......#...\n",
    "617*......\n",
    ".....+.58.\n",
    "..592.....\n",
    "......755.\n",
    "...$.*....\n",
    ".664.598..\n",
    "```\n",
    "\n",
    "In this schematic, two numbers are not part numbers because they are not adjacent to a symbol: 114 (top right) and 58 (middle right). Every other number is adjacent to a symbol and so is a part number; their sum is 4361.\n",
    "\n",
    "Of course, the actual engine schematic is much larger. What is the sum of all of the part numbers in the engine schematic?"
   ]
  },
  {
   "cell_type": "code",
   "execution_count": 1,
   "id": "51f0af94-b4c3-4d15-b53e-71aa97f58179",
   "metadata": {
    "tags": []
   },
   "outputs": [],
   "source": [
    "from utilities import get_lines"
   ]
  },
  {
   "cell_type": "code",
   "execution_count": 2,
   "id": "e239e3ec-70da-4be4-bd3a-435460e2c58e",
   "metadata": {},
   "outputs": [
    {
     "data": {
      "text/plain": [
       "140"
      ]
     },
     "execution_count": 2,
     "metadata": {},
     "output_type": "execute_result"
    }
   ],
   "source": [
    "lines = get_lines('input')\n",
    "len(lines)"
   ]
  },
  {
   "cell_type": "code",
   "execution_count": 3,
   "id": "2b45faad-8c6d-4a9d-9221-2f62552ebcad",
   "metadata": {},
   "outputs": [],
   "source": [
    "import re"
   ]
  },
  {
   "cell_type": "markdown",
   "id": "32008524-8757-403c-a1ed-8e2bb7e8d8ad",
   "metadata": {},
   "source": [
    "Need the index values of the part numbers in each line."
   ]
  },
  {
   "cell_type": "code",
   "execution_count": 4,
   "id": "5343a022-a10c-4f49-93f9-88c9c13a7c36",
   "metadata": {},
   "outputs": [],
   "source": [
    "from collections import namedtuple"
   ]
  },
  {
   "cell_type": "code",
   "execution_count": 5,
   "id": "91c93959-2e43-4a4b-8e76-445414ee0d9b",
   "metadata": {},
   "outputs": [],
   "source": [
    "Match = namedtuple('Match','line_num span value')"
   ]
  },
  {
   "cell_type": "code",
   "execution_count": 6,
   "id": "5e7d8c0e-d7f4-4c33-bd09-72d070f025a5",
   "metadata": {},
   "outputs": [
    {
     "data": {
      "text/plain": [
       "1189"
      ]
     },
     "execution_count": 6,
     "metadata": {},
     "output_type": "execute_result"
    }
   ],
   "source": [
    "matches = list()\n",
    "#  will be a list of tuples (line index, number span, number)\n",
    "pattern = re.compile('\\d+')\n",
    "for i, line in enumerate(lines):\n",
    "    for match in re.finditer(pattern, line):\n",
    "        matches.append(Match(i, match.span(), int(match.group())))\n",
    "len(matches)"
   ]
  },
  {
   "cell_type": "markdown",
   "id": "9758eaf5-1a5d-4d6f-a052-8d0b9cd73a0a",
   "metadata": {},
   "source": [
    "For the lines above and below, expand span to include either side of the span to check for a symbol.\n",
    "\n",
    "For the line itself, check indexes on either side of the span for a symbol."
   ]
  },
  {
   "cell_type": "code",
   "execution_count": 7,
   "id": "cac3316a-d799-4912-8f81-c761a6d0ba23",
   "metadata": {},
   "outputs": [],
   "source": [
    "is_symbol = lambda char: not((char.isdigit())|(char=='.'))"
   ]
  },
  {
   "cell_type": "code",
   "execution_count": 8,
   "id": "e796283d-3d3f-4efb-9186-361419b16b6a",
   "metadata": {},
   "outputs": [
    {
     "data": {
      "text/plain": [
       "139"
      ]
     },
     "execution_count": 8,
     "metadata": {},
     "output_type": "execute_result"
    }
   ],
   "source": [
    "max_index = len(line)-1\n",
    "max_index"
   ]
  },
  {
   "cell_type": "code",
   "execution_count": 9,
   "id": "f9b83d08-039b-43b4-bae1-f1369c872687",
   "metadata": {},
   "outputs": [],
   "source": [
    "def get_check_span(span):\n",
    "    if span[0]==0:\n",
    "        start=0\n",
    "    else:\n",
    "        start=span[0]-1\n",
    "    if span[1]==max_index:\n",
    "        end=max_index\n",
    "    else:\n",
    "        end = span[1]+1\n",
    "    return (start, end)"
   ]
  },
  {
   "cell_type": "code",
   "execution_count": 10,
   "id": "bb23abad-edb4-4484-b839-d61b9165e48a",
   "metadata": {},
   "outputs": [],
   "source": [
    "# for match in matches:\n",
    "#     check = get_check_span(match.span)\n",
    "#     print(match.span, check)"
   ]
  },
  {
   "cell_type": "code",
   "execution_count": 11,
   "id": "a8db0109-ebc8-46b9-b11e-63253e025cc4",
   "metadata": {},
   "outputs": [
    {
     "data": {
      "text/plain": [
       "139"
      ]
     },
     "execution_count": 11,
     "metadata": {},
     "output_type": "execute_result"
    }
   ],
   "source": [
    "max_line_num = len(lines)-1\n",
    "max_line_num"
   ]
  },
  {
   "cell_type": "code",
   "execution_count": 12,
   "id": "d5867720-3237-440c-affc-399d8835a2db",
   "metadata": {},
   "outputs": [],
   "source": [
    "def get_check_line_nums(line_num):\n",
    "    if line_num==0:\n",
    "        return (0,1)\n",
    "    elif line_num==max_line_num:\n",
    "        return(max_line_num-1, max_line_num)\n",
    "    return (line_num-1, line_num+1)"
   ]
  },
  {
   "cell_type": "code",
   "execution_count": 13,
   "id": "c36ce05b-6a04-4cd9-b354-472c152adb86",
   "metadata": {},
   "outputs": [],
   "source": [
    "# for match in matches:\n",
    "#     line_nums = get_check_line_nums(match.line_num)\n",
    "#     print(match.line_num, line_nums)"
   ]
  },
  {
   "cell_type": "code",
   "execution_count": 14,
   "id": "ebe242fa-d3c9-4068-8924-857f6743b578",
   "metadata": {},
   "outputs": [],
   "source": [
    "def check_span_for_symbol(line,span):\n",
    "    start=span[0]\n",
    "    end=span[1]\n",
    "    # print(line, span)\n",
    "    for i in line[start:end]:\n",
    "        if is_symbol(i):\n",
    "            return True\n",
    "    return False"
   ]
  },
  {
   "cell_type": "code",
   "execution_count": 15,
   "id": "866636d9-2619-4bb2-917e-8156208ba0f2",
   "metadata": {},
   "outputs": [],
   "source": [
    "def is_part_number(match):\n",
    "    # print(match.line_num, match.span, match.value)\n",
    "    span = get_check_span(match.span)\n",
    "    line_numbers = get_check_line_nums(match.line_num)\n",
    "    for line_num in range(line_numbers[0],line_numbers[1]+1):\n",
    "        if check_span_for_symbol(lines[line_num],span):\n",
    "            return True\n",
    "    return False"
   ]
  },
  {
   "cell_type": "code",
   "execution_count": null,
   "id": "117d83f3-a6cb-4d06-822f-5e5f5798b540",
   "metadata": {},
   "outputs": [],
   "source": []
  },
  {
   "cell_type": "code",
   "execution_count": 16,
   "id": "5b4f01fd-3d9a-48ca-88c6-99b765b85aef",
   "metadata": {},
   "outputs": [],
   "source": [
    "part_numbers = list()\n",
    "parts_matches = list()\n",
    "for match in matches:\n",
    "    if is_part_number(match):\n",
    "        part_numbers.append(match.value)\n",
    "        parts_matches.append(match)\n",
    "    else:\n",
    "        # print(f'No symbol for {match}')\n",
    "        pass"
   ]
  },
  {
   "cell_type": "code",
   "execution_count": 17,
   "id": "7db97365-d288-433f-a2a2-e161c62bc188",
   "metadata": {},
   "outputs": [
    {
     "data": {
      "text/plain": [
       "520019"
      ]
     },
     "execution_count": 17,
     "metadata": {},
     "output_type": "execute_result"
    }
   ],
   "source": [
    "sum(part_numbers)"
   ]
  },
  {
   "cell_type": "markdown",
   "id": "0327ee5b-7f08-420a-8c81-45ab63c077c0",
   "metadata": {},
   "source": [
    "Blasted \"off by one\" error.\n",
    "\n",
    "Wrote the following to help me visually debug purposes, which helped me fix the `check_span_for_symbol` function."
   ]
  },
  {
   "cell_type": "code",
   "execution_count": 18,
   "id": "42904f78-58f8-4480-bbd6-392835c41b69",
   "metadata": {},
   "outputs": [],
   "source": [
    "def confirm_part(match):\n",
    "    print(match)\n",
    "    span = get_check_span(match.span)\n",
    "    print(span)\n",
    "    line_numbers = get_check_line_nums(match.line_num)\n",
    "    print(line_numbers)\n",
    "    for i in range(line_numbers[0],line_numbers[1]+1):\n",
    "        print(lines[i][span[0]:span[1]])\n",
    "    print('\\n')"
   ]
  },
  {
   "cell_type": "code",
   "execution_count": 20,
   "id": "dc821e75-d26f-4f43-93d6-e4763341ab67",
   "metadata": {},
   "outputs": [
    {
     "name": "stdout",
     "output_type": "stream",
     "text": [
      "Match(line_num=1, span=(35, 38), value=701)\n",
      "(34, 39)\n",
      "(0, 2)\n",
      ".....\n",
      ".701.\n",
      "....$\n",
      "\n",
      "\n"
     ]
    }
   ],
   "source": [
    "confirm_part(parts_matches[3])"
   ]
  },
  {
   "cell_type": "code",
   "execution_count": null,
   "id": "26af346d-0f88-4041-9640-adbd14cb433f",
   "metadata": {},
   "outputs": [],
   "source": []
  }
 ],
 "metadata": {
  "kernelspec": {
   "display_name": "Python 3 (ipykernel)",
   "language": "python",
   "name": "python3"
  },
  "language_info": {
   "codemirror_mode": {
    "name": "ipython",
    "version": 3
   },
   "file_extension": ".py",
   "mimetype": "text/x-python",
   "name": "python",
   "nbconvert_exporter": "python",
   "pygments_lexer": "ipython3",
   "version": "3.10.8"
  }
 },
 "nbformat": 4,
 "nbformat_minor": 5
}
