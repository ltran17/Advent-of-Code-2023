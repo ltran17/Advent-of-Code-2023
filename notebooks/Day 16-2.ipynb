{
 "cells": [
  {
   "cell_type": "markdown",
   "id": "b54cdc60-58a3-47f5-b6e1-e2d88f14e534",
   "metadata": {},
   "source": [
    "# --- Part Two ---\n",
    "As you try to work out what might be wrong, the reindeer tugs on your shirt and leads you to a nearby control panel. There, a collection of buttons lets you align the contraption so that the beam enters from any edge tile and heading away from that edge. (You can choose either of two directions for the beam if it starts on a corner; for instance, if the beam starts in the bottom-right corner, it can start heading either left or upward.)\n",
    "\n",
    "So, the beam could start on any tile in the top row (heading downward), any tile in the bottom row (heading upward), any tile in the leftmost column (heading right), or any tile in the rightmost column (heading left). To produce lava, you need to find the configuration that energizes as many tiles as possible.\n",
    "\n",
    "In the above example, this can be achieved by starting the beam in the fourth tile from the left in the top row:\n",
    "```\n",
    ".|<2<\\....\n",
    "|v-v\\^....\n",
    ".v.v.|->>>\n",
    ".v.v.v^.|.\n",
    ".v.v.v^...\n",
    ".v.v.v^..\\\n",
    ".v.v/2\\\\..\n",
    "<-2-/vv|..\n",
    ".|<<<2-|.\\\n",
    ".v//.|.v..\n",
    "```\n",
    "Using this configuration, 51 tiles are energized:\n",
    "```\n",
    ".#####....\n",
    ".#.#.#....\n",
    ".#.#.#####\n",
    ".#.#.##...\n",
    ".#.#.##...\n",
    ".#.#.##...\n",
    ".#.#####..\n",
    "########..\n",
    ".#######..\n",
    ".#...#.#..\n",
    "```\n",
    "Find the initial beam configuration that energizes the largest number of tiles; **how many tiles are energized in that configuration?**"
   ]
  },
  {
   "cell_type": "code",
   "execution_count": 1,
   "id": "ac26d92b-c532-4e5d-a189-535370ab28ad",
   "metadata": {},
   "outputs": [],
   "source": [
    "from utilities import get_lines\n",
    "import pandas as pd\n",
    "from collections import namedtuple"
   ]
  },
  {
   "cell_type": "code",
   "execution_count": 2,
   "id": "8dde3571-bcdd-460b-a484-83ac52b3090a",
   "metadata": {},
   "outputs": [],
   "source": [
    "layout = pd.DataFrame([[ch for ch in line] for line in get_lines('input',16)])"
   ]
  },
  {
   "cell_type": "code",
   "execution_count": 3,
   "id": "417b41e6-613e-4195-a134-4107cc6ae41e",
   "metadata": {},
   "outputs": [],
   "source": [
    "r,c = layout.shape"
   ]
  },
  {
   "cell_type": "code",
   "execution_count": 4,
   "id": "6fdbb5a8-cb64-4de7-9109-7253fd42487f",
   "metadata": {},
   "outputs": [],
   "source": [
    "r,c = layout.shape\n",
    "def reset_energy():\n",
    "    return pd.DataFrame(0,index=pd.RangeIndex(r),columns=pd.RangeIndex(c))\n",
    "energy = reset_energy()\n",
    "\n",
    "def reset_splitters():\n",
    "    return pd.DataFrame(0,index=pd.RangeIndex(r),columns=pd.RangeIndex(c))\n",
    "\n",
    "splitters = reset_splitters()"
   ]
  },
  {
   "cell_type": "code",
   "execution_count": 5,
   "id": "34a40deb-ca11-4179-adc3-43682709ffcf",
   "metadata": {},
   "outputs": [],
   "source": [
    "Beam = namedtuple('Beam', 'row col dir')"
   ]
  },
  {
   "cell_type": "code",
   "execution_count": 6,
   "id": "e1ba3c59-6a40-4f07-af9a-6766cbe59f93",
   "metadata": {},
   "outputs": [],
   "source": [
    "def move_down(beam):\n",
    "    row = beam.row+1\n",
    "    return Beam(row, beam.col, 'S')\n",
    "\n",
    "def move_up(beam):\n",
    "    row = beam.row-1\n",
    "    return Beam(row, beam.col, 'N')\n",
    "\n",
    "def move_left(beam):\n",
    "    col = beam.col-1\n",
    "    return Beam(beam.row, col, 'W')\n",
    "\n",
    "def move_right(beam):\n",
    "    col = beam.col+1\n",
    "    return Beam(beam.row, col, 'E')"
   ]
  },
  {
   "cell_type": "code",
   "execution_count": 7,
   "id": "f772e893-6d7e-4e10-9043-c5315ddcaaa6",
   "metadata": {},
   "outputs": [],
   "source": [
    "def update_energy(energy, beam):\n",
    "    if (0<=beam.row<r)&(0<=beam.col<c):\n",
    "        val = energy.loc[beam.row,beam.col]\n",
    "        energy.at[beam.row, beam.col] = 8 #  += 1 Don't need to keep adding values\n",
    "        return True\n",
    "    return False"
   ]
  },
  {
   "cell_type": "code",
   "execution_count": 8,
   "id": "27ef601e-ee17-4a7d-b875-ae6d780a328a",
   "metadata": {},
   "outputs": [],
   "source": [
    "def get_action(beam):\n",
    "    return layout.loc[beam.row,beam.col]"
   ]
  },
  {
   "cell_type": "code",
   "execution_count": 9,
   "id": "651c9db3-be89-4e7c-a9bb-5f16bf611931",
   "metadata": {},
   "outputs": [],
   "source": [
    "keep_going = {'E':move_right,\n",
    "              'W':move_left,\n",
    "              'N':move_up,\n",
    "              'S':move_down\n",
    "             }\n",
    "\n",
    "back_mirror = {'E':move_down,\n",
    "               'W':move_up,\n",
    "               'N':move_left,\n",
    "               'S':move_right\n",
    "              }\n",
    "\n",
    "forward_mirror = {'E':move_up,\n",
    "                  'W':move_down,\n",
    "                  'N':move_right,\n",
    "                  'S':move_left\n",
    "                 }"
   ]
  },
  {
   "cell_type": "code",
   "execution_count": 10,
   "id": "bbe3a484-f687-46b2-a457-fcfcee7d839b",
   "metadata": {},
   "outputs": [],
   "source": [
    "def get_splitter_state(beam):\n",
    "    r,c = beam.row, beam.col\n",
    "    return splitters.loc[r,c]"
   ]
  },
  {
   "cell_type": "code",
   "execution_count": 11,
   "id": "e56f58a9-4d7a-48b8-8952-d4690fc1199a",
   "metadata": {},
   "outputs": [],
   "source": [
    "def get_180_dir(dir):\n",
    "    compass = 'NESW'\n",
    "    i = compass.index(dir)\n",
    "    return compass[(i+2)%4]"
   ]
  },
  {
   "cell_type": "code",
   "execution_count": 12,
   "id": "d2d4a7ed-7538-4a7e-b656-3521d5b9e5c8",
   "metadata": {},
   "outputs": [],
   "source": [
    "def get_90_dir(dir):\n",
    "    compass = 'NESW'\n",
    "    i = compass.index(dir)\n",
    "    return compass[(i+1)%4]"
   ]
  },
  {
   "cell_type": "code",
   "execution_count": 13,
   "id": "da28a491-76c6-492f-bf47-7e1792de978c",
   "metadata": {},
   "outputs": [],
   "source": [
    "def mark_used_splitter(beam):\n",
    "    splitters.loc[beam.row, beam.col]=1 #  mark splitter as used\n",
    "    return None"
   ]
  },
  {
   "cell_type": "code",
   "execution_count": 14,
   "id": "82da690b-a708-4214-a008-07f3c7af17f5",
   "metadata": {},
   "outputs": [],
   "source": [
    "def split_beam(beam):\n",
    "    dirs = 'NESW'\n",
    "    opp_dir = get_180_dir(beam.dir)\n",
    "    new_beam = Beam(beam.row, beam.col, opp_dir)\n",
    "    # print(beam, 'and new beam', new_beam)\n",
    "    return new_beam"
   ]
  },
  {
   "cell_type": "code",
   "execution_count": 15,
   "id": "d83cce16-5762-465d-9fa4-45e810f8dbbb",
   "metadata": {},
   "outputs": [],
   "source": [
    "def split_vert(beam): #  | splitter\n",
    "    if (beam.dir=='N')|(beam.dir=='S'):\n",
    "        return keep_going[beam.dir](beam)\n",
    "    else: # splitter actions are to mark splitters layout and then either create a new beam or stop\n",
    "        if get_splitter_state(beam)==0:\n",
    "            beam = Beam(beam.row, beam.col, get_90_dir(beam.dir)) # make a right turn\n",
    "            beams.append(split_beam(beam)) #  create a new beam \n",
    "            mark_used_splitter(beam) #  mark the splitter as used\n",
    "            return keep_going[beam.dir](beam)\n",
    "        else:\n",
    "            return Beam(-1,-1,beam.dir) #  beam is off the layout...will stop\n",
    "            "
   ]
  },
  {
   "cell_type": "code",
   "execution_count": 16,
   "id": "c72b72d6-29cb-49c4-9553-1365005912ce",
   "metadata": {},
   "outputs": [],
   "source": [
    "def split_horiz(beam): #  - splitter\n",
    "    if (beam.dir=='E')|(beam.dir=='W'):\n",
    "        return keep_going[beam.dir](beam)\n",
    "    else: # splitter actions are to mark splitters layout and then either create a new beam or stop\n",
    "        if splitters.loc[beam.row, beam.col]==0:\n",
    "            beam = Beam(beam.row, beam.col, get_90_dir(beam.dir))\n",
    "            beams.append(split_beam(beam)) #  create a new beam\n",
    "            mark_used_splitter(beam) #  mark the splitter as used\n",
    "            return keep_going[beam.dir](beam)\n",
    "        else:\n",
    "            return Beam(-1,-1,beam.dir) #  force stop, splitter has already been used"
   ]
  },
  {
   "cell_type": "code",
   "execution_count": 17,
   "id": "5bfb77bc-c5af-4c54-813f-4c926c415778",
   "metadata": {},
   "outputs": [],
   "source": [
    "def take_step(beam):\n",
    "    action = get_action(beam)\n",
    "    if action=='/': #  forward slash mirror, nicknamed forward mirror\n",
    "        beam = forward_mirror[beam.dir](beam)\n",
    "    elif action=='\\\\': #  back slash mirror, nicknamed back mirror\n",
    "        beam = back_mirror[beam.dir](beam)\n",
    "    elif action=='.':\n",
    "        beam = keep_going[beam.dir](beam)\n",
    "    elif action=='|':\n",
    "        beam = split_vert(beam)\n",
    "    elif action=='-':\n",
    "        beam = split_horiz(beam)\n",
    "    return beam"
   ]
  },
  {
   "cell_type": "code",
   "execution_count": 18,
   "id": "08ce7824-7249-4045-a166-16dc58de9214",
   "metadata": {},
   "outputs": [],
   "source": [
    "def activate_beam(beam):\n",
    "    on_layout = update_energy(energy, beam)\n",
    "    while on_layout:\n",
    "        beam = take_step(beam)\n",
    "        on_layout = update_energy(energy, beam)\n",
    "    "
   ]
  },
  {
   "cell_type": "code",
   "execution_count": 19,
   "id": "4727ecce-9864-4491-9dd7-7b108bc1432b",
   "metadata": {},
   "outputs": [
    {
     "data": {
      "text/plain": [
       "440"
      ]
     },
     "execution_count": 19,
     "metadata": {},
     "output_type": "execute_result"
    }
   ],
   "source": [
    "beams_from_top = [Beam(0,col,'S') for col in range(c)]\n",
    "beams_from_right = [Beam(row,c-1,'W') for row in range(r)]\n",
    "beams_from_bottom = [Beam(r-1,col,'N') for col in range(c)]\n",
    "beams_from_left = [Beam(row,0,'E') for row in range(r)]\n",
    "beams_from_top.extend(beams_from_right)\n",
    "beams_from_top.extend(beams_from_bottom)\n",
    "beams_from_top.extend(beams_from_left)\n",
    "starting_beams = beams_from_top\n",
    "len(starting_beams)"
   ]
  },
  {
   "cell_type": "code",
   "execution_count": 20,
   "id": "1bcfdbfc-6b8f-475d-9b1f-cfada69ef179",
   "metadata": {},
   "outputs": [],
   "source": [
    "def get_total_energy(energy):\n",
    "    total = 0\n",
    "    for i in range(r):\n",
    "        for j in range(c):\n",
    "            if energy.loc[i,j]!=0:\n",
    "                total+=1\n",
    "    return total"
   ]
  },
  {
   "cell_type": "code",
   "execution_count": 26,
   "id": "ec9ebc04-6211-406b-bcf0-8140a95444a2",
   "metadata": {},
   "outputs": [
    {
     "name": "stdout",
     "output_type": "stream",
     "text": [
      "10 complete\t20 complete\t30 complete\t40 complete\t50 complete\t60 complete\t70 complete\t80 complete\t90 complete\t100 complete\t110 complete\t120 complete\t130 complete\t140 complete\t150 complete\t160 complete\t170 complete\t180 complete\t190 complete\t200 complete\t210 complete\t220 complete\t230 complete\t240 complete\t250 complete\t260 complete\t270 complete\t280 complete\t290 complete\t300 complete\t310 complete\t320 complete\t330 complete\t340 complete\t350 complete\t360 complete\t370 complete\t380 complete\t390 complete\t400 complete\t410 complete\t420 complete\t430 complete\t440 complete\tMaximum energy 7324\n"
     ]
    }
   ],
   "source": [
    "max_total_energy = 0\n",
    "max_beam = Beam(-1,-1,'W')\n",
    "counter = 0\n",
    "for beam in starting_beams:\n",
    "    beams = [beam]\n",
    "    energy = reset_energy()\n",
    "    splitters = reset_splitters()\n",
    "    while len(beams)>0:\n",
    "        beam = beams.pop()\n",
    "        activate_beam(beam)\n",
    "    total_energy = get_total_energy(energy)\n",
    "    if total_energy>max_total_energy:\n",
    "        max_total_energy = total_energy\n",
    "    counter += 1\n",
    "    if counter%10==0:\n",
    "        print(f'{counter} complete',end='\\t')\n",
    "    \n",
    "print(f'Maximum energy {max_total_energy}')"
   ]
  }
 ],
 "metadata": {
  "kernelspec": {
   "display_name": "Python 3 (ipykernel)",
   "language": "python",
   "name": "python3"
  },
  "language_info": {
   "codemirror_mode": {
    "name": "ipython",
    "version": 3
   },
   "file_extension": ".py",
   "mimetype": "text/x-python",
   "name": "python",
   "nbconvert_exporter": "python",
   "pygments_lexer": "ipython3",
   "version": "3.8.12"
  }
 },
 "nbformat": 4,
 "nbformat_minor": 5
}
