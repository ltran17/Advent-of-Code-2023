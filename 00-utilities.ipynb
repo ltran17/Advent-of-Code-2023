{
 "cells": [
  {
   "cell_type": "markdown",
   "id": "69a510a4",
   "metadata": {
    "tags": []
   },
   "source": [
    "### Read in the lines of today's file"
   ]
  },
  {
   "cell_type": "code",
   "execution_count": 3,
   "id": "a3ce2d17-4071-4f32-af8e-734b78b690e6",
   "metadata": {},
   "outputs": [],
   "source": [
    "def get_lines(file_type='sample', day=-1):\n",
    "    '''\n",
    "    Read in the lines of today's sample/input file line by line. \n",
    "    Assumes the file is in folder called 'inputs/'\n",
    "    \n",
    "    Parameters\n",
    "    ----------\n",
    "    file_type : str\n",
    "        Either sample or input\n",
    "    \n",
    "    Returns\n",
    "    -------\n",
    "    list of inputs stripped of whitespace\n",
    "    '''\n",
    "    if day==-1:\n",
    "        import datetime\n",
    "        day = str(datetime.datetime.today().day).zfill(2)\n",
    "    else:\n",
    "        day = str(day).zfill(2)\n",
    "    filename = f'inputs/{day}-{file_type}.txt'\n",
    "    try:\n",
    "        with open(filename,'r') as file:\n",
    "            lines = [line.strip() for line in file.readlines()]\n",
    "        return lines\n",
    "    except:\n",
    "        print(filename+' does not exist')\n",
    "        return None"
   ]
  },
  {
   "cell_type": "code",
   "execution_count": null,
   "id": "6853873b",
   "metadata": {},
   "outputs": [],
   "source": []
  },
  {
   "cell_type": "markdown",
   "id": "605bbc3d",
   "metadata": {
    "tags": []
   },
   "source": [
    "### Batch create sample and input files\n",
    "So on the day you can just copy and paste in"
   ]
  },
  {
   "cell_type": "code",
   "execution_count": 1,
   "id": "f1d98d6e",
   "metadata": {},
   "outputs": [],
   "source": [
    "def create_empty_notebook(file):\n",
    "    '''\n",
    "    Helper function to batch create empty ipynb notebooks\n",
    "    \n",
    "    Parameters\n",
    "    ----------\n",
    "    file : <class '_io.TextIOWrapper'>\n",
    "        This is a file object that you can write to.\n",
    "        Write json to initialize a notebook.\n",
    "    '''\n",
    "    empty_lines = '{\"cells\": [],\"metadata\": {},\"nbformat\": 4,\"nbformat_minor\": 5}'\n",
    "    try:\n",
    "        file.write(empty_lines)\n",
    "    except:\n",
    "        print(f'{file} does not exist')"
   ]
  },
  {
   "cell_type": "code",
   "execution_count": 2,
   "id": "c931864b",
   "metadata": {},
   "outputs": [],
   "source": [
    "def batch_create_files(start=1):\n",
    "    '''\n",
    "    Create empty files at the beginning of the month for easy copy-pasting the day of.\n",
    "    Assumes all files will go into folder labelled 'inputs/'\n",
    "    \n",
    "    Parameters\n",
    "    ----------\n",
    "    start : int\n",
    "        Which day you want to start autopopulating (in case you forgot about this function on Day 1)\n",
    "\n",
    "    '''\n",
    "    for i in range(start,26):\n",
    "        day = str(i).zfill(2)\n",
    "        with open(f'inputs/{day}-sample.txt','w') as file:\n",
    "            pass\n",
    "        with open(f'inputs/{day}-input.txt','w') as file:\n",
    "            pass\n",
    "        with open(f'Day {day}-1.ipynb','w') as file:\n",
    "            create_empty_notebook(file)\n",
    "        with open(f'Day {day}-2.ipynb','w') as file:\n",
    "            create_empty_notebook(file)"
   ]
  },
  {
   "cell_type": "code",
   "execution_count": null,
   "id": "eea98741",
   "metadata": {},
   "outputs": [],
   "source": []
  },
  {
   "cell_type": "code",
   "execution_count": 3,
   "id": "8fa900cc-e8ec-47dc-b9fe-398a035d422f",
   "metadata": {},
   "outputs": [],
   "source": [
    "batch_create_files()"
   ]
  },
  {
   "cell_type": "code",
   "execution_count": null,
   "id": "8ce87d42-6488-4e2f-906d-0ea3767dc8f4",
   "metadata": {},
   "outputs": [],
   "source": []
  }
 ],
 "metadata": {
  "kernelspec": {
   "display_name": "Python 3 (ipykernel)",
   "language": "python",
   "name": "python3"
  },
  "language_info": {
   "codemirror_mode": {
    "name": "ipython",
    "version": 3
   },
   "file_extension": ".py",
   "mimetype": "text/x-python",
   "name": "python",
   "nbconvert_exporter": "python",
   "pygments_lexer": "ipython3",
   "version": "3.10.8"
  }
 },
 "nbformat": 4,
 "nbformat_minor": 5
}
