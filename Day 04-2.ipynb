{
 "cells": [
  {
   "cell_type": "markdown",
   "id": "17fd43c0-287f-41b1-80b3-b900f91df982",
   "metadata": {},
   "source": [
    "# --- Part Two ---\n",
    "\n",
    "Just as you're about to report your findings to the Elf, one of you realizes that the rules have actually been printed on the back of every card this whole time.\n",
    "\n",
    "There's no such thing as \"points\". Instead, scratchcards only cause you to win more scratchcards equal to the number of winning numbers you have.\n",
    "\n",
    "Specifically, you win copies of the scratchcards below the winning card equal to the number of matches. So, if card 10 were to have 5 matching numbers, you would win one copy each of cards 11, 12, 13, 14, and 15.\n",
    "\n",
    "Copies of scratchcards are scored like normal scratchcards and have the same card number as the card they copied. So, if you win a copy of card 10 and it has 5 matching numbers, it would then win a copy of the same cards that the original card 10 won: cards 11, 12, 13, 14, and 15. This process repeats until none of the copies cause you to win any more cards. (Cards will never make you copy a card past the end of the table.)\n",
    "\n",
    "This time, the above example goes differently:\n",
    "```\n",
    "Card 1: 41 48 83 86 17 | 83 86  6 31 17  9 48 53\n",
    "Card 2: 13 32 20 16 61 | 61 30 68 82 17 32 24 19\n",
    "Card 3:  1 21 53 59 44 | 69 82 63 72 16 21 14  1\n",
    "Card 4: 41 92 73 84 69 | 59 84 76 51 58  5 54 83\n",
    "Card 5: 87 83 26 28 32 | 88 30 70 12 93 22 82 36\n",
    "Card 6: 31 18 13 56 72 | 74 77 10 23 35 67 36 11\n",
    "```\n",
    "Card 1 has four matching numbers, so you win one copy each of the next four cards: cards 2, 3, 4, and 5.\n",
    "\n",
    "Your original card 2 has two matching numbers, so you win one copy each of cards 3 and 4.\n",
    "\n",
    "Your copy of card 2 also wins one copy each of cards 3 and 4.\n",
    "\n",
    "Your four instances of card 3 (one original and three copies) have two matching numbers, so you win four copies each of cards 4 and 5.\n",
    "\n",
    "Your eight instances of card 4 (one original and seven copies) have one matching number, so you win eight copies of card 5.\n",
    "\n",
    "Your fourteen instances of card 5 (one original and thirteen copies) have no matching numbers and win no more cards.\n",
    "\n",
    "Your one instance of card 6 (one original) has no matching numbers and wins no more cards.\n",
    "\n",
    "Once all of the originals and copies have been processed, you end up with 1 instance of card 1, 2 instances of card 2, 4 instances of card 3, 8 instances of card 4, 14 instances of card 5, and 1 instance of card 6. In total, this example pile of scratchcards causes you to ultimately have 30 scratchcards!\n",
    "\n",
    "Process all of the original and copied scratchcards until no more scratchcards are won. **Including the original set of scratchcards, how many total scratchcards do you end up with?**"
   ]
  },
  {
   "cell_type": "markdown",
   "id": "9b214cd1-5544-4e93-b7a2-60aafbf5e197",
   "metadata": {},
   "source": [
    "## Use code from part 1 to get set up"
   ]
  },
  {
   "cell_type": "code",
   "execution_count": 1,
   "id": "bd2698a2-5d48-4d28-a067-e819b821a7e8",
   "metadata": {},
   "outputs": [],
   "source": [
    "from utilities import get_lines\n",
    "\n",
    "lines = get_lines('input')\n",
    "\n",
    "cards = [card.split('|') for card in [line.split(':')[1].strip() for line in lines]]\n",
    "\n",
    "get_nums = lambda num_string: [int(num) for num in num_string.strip().split(' ') if num!='']\n",
    "winning_numbers = [get_nums(card[0]) for card in cards]\n",
    "scratch_numbers = [get_nums(card[1]) for card in cards]\n",
    "\n",
    "def get_card_wins(winning_nums, scratch_nums):\n",
    "    return len(set(winning_nums).intersection(set(scratch_nums)))\n",
    "scratch_wins = [get_card_wins(winning_numbers[i], scratch_numbers[i]) for i in range(len(cards))]"
   ]
  },
  {
   "cell_type": "code",
   "execution_count": 2,
   "id": "6a57d930-6765-453c-a85a-bc0ee126dfb8",
   "metadata": {},
   "outputs": [
    {
     "data": {
      "text/plain": [
       "187"
      ]
     },
     "execution_count": 2,
     "metadata": {},
     "output_type": "execute_result"
    }
   ],
   "source": [
    "num_cards = len(cards)\n",
    "num_cards"
   ]
  },
  {
   "cell_type": "markdown",
   "id": "c78fa4c0-c0f8-4132-acd1-d165d69c8318",
   "metadata": {},
   "source": [
    "The hardest part here is interpreting the sentences as an algorithm...but without too much fuss..."
   ]
  },
  {
   "cell_type": "code",
   "execution_count": 3,
   "id": "168e18da-9a83-4a7f-9597-3aaae6909e91",
   "metadata": {},
   "outputs": [],
   "source": [
    "instances = [1 for i in range(num_cards)]\n",
    "for i in range(num_cards):\n",
    "    copies = scratch_wins[i]\n",
    "    for j in range(i+1,i+copies+1):\n",
    "        instances[j]+= instances[i]"
   ]
  },
  {
   "cell_type": "markdown",
   "id": "a1f9d7eb-9eb2-4040-854d-0875ff4c2047",
   "metadata": {},
   "source": [
    "This answer earned me a 🌟!"
   ]
  },
  {
   "cell_type": "code",
   "execution_count": 4,
   "id": "2cd9ea12-c6d9-4cea-ad2b-461e6877eb84",
   "metadata": {},
   "outputs": [
    {
     "data": {
      "text/plain": [
       "5747443"
      ]
     },
     "execution_count": 4,
     "metadata": {},
     "output_type": "execute_result"
    }
   ],
   "source": [
    "sum(instances)"
   ]
  },
  {
   "cell_type": "code",
   "execution_count": null,
   "id": "5f9d77bf-b126-48f8-b678-840dec7d18b0",
   "metadata": {},
   "outputs": [],
   "source": []
  }
 ],
 "metadata": {
  "kernelspec": {
   "display_name": "Python 3 (ipykernel)",
   "language": "python",
   "name": "python3"
  },
  "language_info": {
   "codemirror_mode": {
    "name": "ipython",
    "version": 3
   },
   "file_extension": ".py",
   "mimetype": "text/x-python",
   "name": "python",
   "nbconvert_exporter": "python",
   "pygments_lexer": "ipython3",
   "version": "3.10.8"
  }
 },
 "nbformat": 4,
 "nbformat_minor": 5
}
