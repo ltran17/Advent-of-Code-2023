{
 "cells": [
  {
   "cell_type": "markdown",
   "id": "362477b8-a356-41f2-b6cd-972b284a6ca9",
   "metadata": {},
   "source": [
    "# --- Day 15: Lens Library ---\n",
    "The newly-focused parabolic reflector dish is sending all of the collected light to a point on the side of yet another mountain - the largest mountain on Lava Island. As you approach the mountain, you find that the light is being collected by the wall of a large facility embedded in the mountainside.\n",
    "\n",
    "You find a door under a large sign that says \"Lava Production Facility\" and next to a smaller sign that says \"Danger - Personal Protective Equipment required beyond this point\".\n",
    "\n",
    "As you step inside, you are immediately greeted by a somewhat panicked reindeer wearing goggles and a loose-fitting hard hat. The reindeer leads you to a shelf of goggles and hard hats (you quickly find some that fit) and then further into the facility. At one point, you pass a button with a faint snout mark and the label \"PUSH FOR HELP\". No wonder you were loaded into that trebuchet so quickly!\n",
    "\n",
    "You pass through a final set of doors surrounded with even more warning signs and into what must be the room that collects all of the light from outside. As you admire the large assortment of lenses available to further focus the light, the reindeer brings you a book titled \"Initialization Manual\".\n",
    "\n",
    "\"Hello!\", the book cheerfully begins, apparently unaware of the concerned reindeer reading over your shoulder. \"This procedure will let you bring the Lava Production Facility online - all without burning or melting anything unintended!\"\n",
    "\n",
    "\"Before you begin, please be prepared to use the Holiday ASCII String Helper algorithm (appendix 1A).\" You turn to appendix 1A. The reindeer leans closer with interest.\n",
    "\n",
    "The HASH algorithm is a way to turn any string of characters into a single number in the range 0 to 255. To run the HASH algorithm on a string, start with a current value of 0. Then, for each character in the string starting from the beginning:\n",
    "\n",
    "Determine the ASCII code for the current character of the string.\n",
    "Increase the current value by the ASCII code you just determined.\n",
    "Set the current value to itself multiplied by 17.\n",
    "Set the current value to the remainder of dividing itself by 256.\n",
    "After following these steps for each character in the string in order, the current value is the output of the HASH algorithm.\n",
    "\n",
    "So, to find the result of running the HASH algorithm on the string HASH:\n",
    "```\n",
    "The current value starts at 0.\n",
    "The first character is H; its ASCII code is 72.\n",
    "The current value increases to 72.\n",
    "The current value is multiplied by 17 to become 1224.\n",
    "The current value becomes 200 (the remainder of 1224 divided by 256).\n",
    "The next character is A; its ASCII code is 65.\n",
    "The current value increases to 265.\n",
    "The current value is multiplied by 17 to become 4505.\n",
    "The current value becomes 153 (the remainder of 4505 divided by 256).\n",
    "The next character is S; its ASCII code is 83.\n",
    "The current value increases to 236.\n",
    "The current value is multiplied by 17 to become 4012.\n",
    "The current value becomes 172 (the remainder of 4012 divided by 256).\n",
    "The next character is H; its ASCII code is 72.\n",
    "The current value increases to 244.\n",
    "The current value is multiplied by 17 to become 4148.\n",
    "The current value becomes 52 (the remainder of 4148 divided by 256).\n",
    "So, the result of running the HASH algorithm on the string HASH is 52.\n",
    "```\n",
    "The initialization sequence (your puzzle input) is a comma-separated list of steps to start the Lava Production Facility. Ignore newline characters when parsing the initialization sequence. To verify that your HASH algorithm is working, the book offers the sum of the result of running the HASH algorithm on each step in the initialization sequence.\n",
    "\n",
    "For example:\n",
    "```\n",
    "rn=1,cm-,qp=3,cm=2,qp-,pc=4,ot=9,ab=5,pc-,pc=6,ot=7\n",
    "```\n",
    "This initialization sequence specifies 11 individual steps; the result of running the HASH algorithm on each of the steps is as follows:\n",
    "```\n",
    "rn=1 becomes 30.\n",
    "cm- becomes 253.\n",
    "qp=3 becomes 97.\n",
    "cm=2 becomes 47.\n",
    "qp- becomes 14.\n",
    "pc=4 becomes 180.\n",
    "ot=9 becomes 9.\n",
    "ab=5 becomes 197.\n",
    "pc- becomes 48.\n",
    "pc=6 becomes 214.\n",
    "ot=7 becomes 231.\n",
    "```\n",
    "In this example, the sum of these results is 1320. Unfortunately, the reindeer has stolen the page containing the expected verification number and is currently running around the facility with it excitedly.\n",
    "\n",
    "Run the HASH algorithm on each step in the initialization sequence. **What is the sum of the results?** (The initialization sequence is one long line; be careful when copy-pasting it.)"
   ]
  },
  {
   "cell_type": "code",
   "execution_count": 101,
   "id": "85e7f3d7-d583-4230-afaa-2883f935b0fd",
   "metadata": {},
   "outputs": [],
   "source": [
    "def get_char_value(ch, start):\n",
    "    '''\n",
    "    Parameters:\n",
    "        ch: str that is a single character in length\n",
    "    '''\n",
    "    val = ord(ch) + start\n",
    "    val = val*17\n",
    "    val = val%256\n",
    "    return val"
   ]
  },
  {
   "cell_type": "code",
   "execution_count": 106,
   "id": "790c081b-c2ba-4d9f-b274-d2b531e71574",
   "metadata": {},
   "outputs": [],
   "source": [
    "def get_hash_value(hash):\n",
    "    start = 0\n",
    "    for ch in hash:\n",
    "        start = get_char_value(ch, start)\n",
    "    return start"
   ]
  },
  {
   "cell_type": "code",
   "execution_count": 110,
   "id": "2732531f-c6ac-4177-9fb1-1b2c4abc974d",
   "metadata": {},
   "outputs": [],
   "source": [
    "from utilities import get_lines"
   ]
  },
  {
   "cell_type": "code",
   "execution_count": 116,
   "id": "bc412925-a02e-452d-a4a2-353840aa4829",
   "metadata": {},
   "outputs": [
    {
     "data": {
      "text/plain": [
       "['rn=1',\n",
       " 'cm-',\n",
       " 'qp=3',\n",
       " 'cm=2',\n",
       " 'qp-',\n",
       " 'pc=4',\n",
       " 'ot=9',\n",
       " 'ab=5',\n",
       " 'pc-',\n",
       " 'pc=6',\n",
       " 'ot=7']"
      ]
     },
     "execution_count": 116,
     "metadata": {},
     "output_type": "execute_result"
    }
   ],
   "source": [
    "lines = [line.split(',') for line in get_lines('sample')][0]\n",
    "lines"
   ]
  },
  {
   "cell_type": "code",
   "execution_count": 115,
   "id": "9c9e4a7f-e29f-4d7d-a3cc-4803e5b200e3",
   "metadata": {},
   "outputs": [
    {
     "data": {
      "text/plain": [
       "['rn=1',\n",
       " 'cm-',\n",
       " 'qp=3',\n",
       " 'cm=2',\n",
       " 'qp-',\n",
       " 'pc=4',\n",
       " 'ot=9',\n",
       " 'ab=5',\n",
       " 'pc-',\n",
       " 'pc=6',\n",
       " 'ot=7']"
      ]
     },
     "execution_count": 115,
     "metadata": {},
     "output_type": "execute_result"
    }
   ],
   "source": [
    "sum([get_hash_value(hash) for line in"
   ]
  },
  {
   "cell_type": "code",
   "execution_count": null,
   "id": "a9b5fe69-4b7b-4c5a-bd9d-fed678fda72b",
   "metadata": {},
   "outputs": [],
   "source": []
  }
 ],
 "metadata": {
  "kernelspec": {
   "display_name": "Python 3 (ipykernel)",
   "language": "python",
   "name": "python3"
  },
  "language_info": {
   "codemirror_mode": {
    "name": "ipython",
    "version": 3
   },
   "file_extension": ".py",
   "mimetype": "text/x-python",
   "name": "python",
   "nbconvert_exporter": "python",
   "pygments_lexer": "ipython3",
   "version": "3.8.12"
  }
 },
 "nbformat": 4,
 "nbformat_minor": 5
}
