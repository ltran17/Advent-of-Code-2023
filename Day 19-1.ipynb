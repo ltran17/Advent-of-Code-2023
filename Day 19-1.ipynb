{
 "cells": [
  {
   "cell_type": "markdown",
   "id": "5c0d9880-eea4-424f-b9a9-56d6463ad39a",
   "metadata": {},
   "source": [
    "# --- Day 19: Aplenty ---\n",
    "The Elves of Gear Island are thankful for your help and send you on your way. They even have a hang glider that someone stole from Desert Island; since you're already going that direction, it would help them a lot if you would use it to get down there and return it to them.\n",
    "\n",
    "As you reach the bottom of the relentless avalanche of machine parts, you discover that they're already forming a formidable heap. Don't worry, though - a group of Elves is already here organizing the parts, and they have a system.\n",
    "\n",
    "To start, each part is rated in each of four categories:\n",
    "```\n",
    "x: Extremely cool looking\n",
    "m: Musical (it makes a noise when you hit it)\n",
    "a: Aerodynamic\n",
    "s: Shiny\n",
    "```\n",
    "Then, each part is sent through a series of workflows that will ultimately accept or reject the part. Each workflow has a name and contains a list of rules; each rule specifies a condition and where to send the part if the condition is true. The first rule that matches the part being considered is applied immediately, and the part moves on to the destination described by the rule. (The last rule in each workflow has no condition and always applies if reached.)\n",
    "\n",
    "Consider the workflow ex{x>10:one,m<20:two,a>30:R,A}. This workflow is named ex and contains four rules. If workflow ex were considering a specific part, it would perform the following steps in order:\n",
    "```\n",
    "Rule \"x>10:one\": If the part's x is more than 10, send the part to the workflow named one.\n",
    "Rule \"m<20:two\": Otherwise, if the part's m is less than 20, send the part to the workflow named two.\n",
    "Rule \"a>30:R\": Otherwise, if the part's a is more than 30, the part is immediately rejected (R).\n",
    "Rule \"A\": Otherwise, because no other rules matched the part, the part is immediately accepted (A).\n",
    "```\n",
    "If a part is sent to another workflow, it immediately switches to the start of that workflow instead and never returns. If a part is accepted (sent to A) or rejected (sent to R), the part immediately stops any further processing.\n",
    "\n",
    "The system works, but it's not keeping up with the torrent of weird metal shapes. The Elves ask if you can help sort a few parts and give you the list of workflows and some part ratings (your puzzle input). For example:\n",
    "```\n",
    "px{a<2006:qkq,m>2090:A,rfg}\n",
    "pv{a>1716:R,A}\n",
    "lnx{m>1548:A,A}\n",
    "rfg{s<537:gd,x>2440:R,A}\n",
    "qs{s>3448:A,lnx}\n",
    "qkq{x<1416:A,crn}\n",
    "crn{x>2662:A,R}\n",
    "in{s<1351:px,qqz}\n",
    "qqz{s>2770:qs,m<1801:hdj,R}\n",
    "gd{a>3333:R,R}\n",
    "hdj{m>838:A,pv}\n",
    "\n",
    "{x=787,m=2655,a=1222,s=2876}\n",
    "{x=1679,m=44,a=2067,s=496}\n",
    "{x=2036,m=264,a=79,s=2244}\n",
    "{x=2461,m=1339,a=466,s=291}\n",
    "{x=2127,m=1623,a=2188,s=1013}\n",
    "```\n",
    "The workflows are listed first, followed by a blank line, then the ratings of the parts the Elves would like you to sort. All parts begin in the workflow named in. In this example, the five listed parts go through the following workflows:\n",
    "```\n",
    "{x=787,m=2655,a=1222,s=2876}: in -> qqz -> qs -> lnx -> A\n",
    "{x=1679,m=44,a=2067,s=496}: in -> px -> rfg -> gd -> R\n",
    "{x=2036,m=264,a=79,s=2244}: in -> qqz -> hdj -> pv -> A\n",
    "{x=2461,m=1339,a=466,s=291}: in -> px -> qkq -> crn -> R\n",
    "{x=2127,m=1623,a=2188,s=1013}: in -> px -> rfg -> A\n",
    "```\n",
    "Ultimately, three parts are accepted. Adding up the x, m, a, and s rating for each of the accepted parts gives 7540 for the part with x=787, 4623 for the part with x=2036, and 6951 for the part with x=2127. Adding all of the ratings for all of the accepted parts gives the sum total of 19114.\n",
    "\n",
    "**Sort through all of the parts you've been given; what do you get if you add together all of the rating numbers for all of the parts that ultimately get accepted?**"
   ]
  },
  {
   "cell_type": "code",
   "execution_count": 1,
   "id": "f2f1a694-0f77-4f1f-9be3-3f1e0b73cbe4",
   "metadata": {},
   "outputs": [],
   "source": [
    "from utilities import get_lines"
   ]
  },
  {
   "cell_type": "code",
   "execution_count": 2,
   "id": "ed40926a-1b39-456b-abe6-f10d88ae235c",
   "metadata": {},
   "outputs": [],
   "source": [
    "lines = get_lines('input')"
   ]
  },
  {
   "cell_type": "code",
   "execution_count": 3,
   "id": "47c12c02-daa5-425d-b0a9-e4067b17aa1f",
   "metadata": {},
   "outputs": [],
   "source": [
    "blank_index = lines.index('')\n",
    "wf_lines = lines[:blank_index]\n",
    "parts_lines = lines[blank_index+1:]"
   ]
  },
  {
   "cell_type": "code",
   "execution_count": 4,
   "id": "cc0d2ab2-f2bb-475a-96fd-33a14f6f9693",
   "metadata": {},
   "outputs": [
    {
     "data": {
      "text/plain": [
       "(576, 200)"
      ]
     },
     "execution_count": 4,
     "metadata": {},
     "output_type": "execute_result"
    }
   ],
   "source": [
    "len(wf_lines), len(parts_lines)"
   ]
  },
  {
   "cell_type": "code",
   "execution_count": 5,
   "id": "1b67af21-3606-4755-8989-09191f2e5785",
   "metadata": {},
   "outputs": [],
   "source": [
    "class Rule:\n",
    "    '''the Rule has a condition and next workflow'''\n",
    "    def __init__(self, rule):\n",
    "        self.rule = rule\n",
    "        self.category = self.rule[0]\n",
    "        self.operation = self.rule[1]\n",
    "        self.rating = int(self.rule[2:].split(':')[0])\n",
    "        self.next_workflow = self.rule.split(':')[1]\n",
    "\n",
    "    def __repr__(self):\n",
    "            return self.rule"
   ]
  },
  {
   "cell_type": "code",
   "execution_count": 6,
   "id": "b5f413d0-065f-4446-99fc-0f47b995e5b7",
   "metadata": {},
   "outputs": [
    {
     "data": {
      "text/plain": [
       "'ft{m<1347:R,m<1967:A,A}'"
      ]
     },
     "execution_count": 6,
     "metadata": {},
     "output_type": "execute_result"
    }
   ],
   "source": [
    "wf_lines[0]"
   ]
  },
  {
   "cell_type": "code",
   "execution_count": 7,
   "id": "c5951006-83b0-4bfe-80eb-7e26cbb6d192",
   "metadata": {},
   "outputs": [
    {
     "data": {
      "text/plain": [
       "2006"
      ]
     },
     "execution_count": 7,
     "metadata": {},
     "output_type": "execute_result"
    }
   ],
   "source": [
    "Rule('a<2006:qkq').rating"
   ]
  },
  {
   "cell_type": "code",
   "execution_count": 8,
   "id": "43d2bd96-e6b7-45f3-b8f7-f88e44606c0b",
   "metadata": {},
   "outputs": [],
   "source": [
    "class Workflow:\n",
    "    def __init__(self, line):\n",
    "        self.workflow = line\n",
    "        self.name = line.split('{')[0]\n",
    "        self.rules = line.split('{')[1].split('}')[0].split(',')[0:-1]\n",
    "        self.next_workflow = line.split(',')[-1].split('}')[0]\n",
    "\n",
    "        def _parse_rules(self):\n",
    "            parsed_rules = list()\n",
    "            for rule in self.rules:\n",
    "                parsed_rules.append(Rule(rule))\n",
    "            self.rules = parsed_rules\n",
    "            return None\n",
    "\n",
    "        _parse_rules(self)\n",
    "\n",
    "    def __repr__(self):\n",
    "        return self.workflow\n",
    "\n",
    "    def __lt__(self, other):\n",
    "        return self.name<other.name"
   ]
  },
  {
   "cell_type": "code",
   "execution_count": 9,
   "id": "4ee21be7-b356-492c-8002-fa0e1f981483",
   "metadata": {},
   "outputs": [
    {
     "data": {
      "text/plain": [
       "'ft{m<1347:R,m<1967:A,A}'"
      ]
     },
     "execution_count": 9,
     "metadata": {},
     "output_type": "execute_result"
    }
   ],
   "source": [
    "wf_lines[0]"
   ]
  },
  {
   "cell_type": "code",
   "execution_count": 10,
   "id": "9e668202-b4f3-4bd2-b9b0-3a3af6853859",
   "metadata": {},
   "outputs": [
    {
     "data": {
      "text/plain": [
       "'ft'"
      ]
     },
     "execution_count": 10,
     "metadata": {},
     "output_type": "execute_result"
    }
   ],
   "source": [
    "Workflow(wf_lines[0]).name"
   ]
  },
  {
   "cell_type": "code",
   "execution_count": 11,
   "id": "cdc5598e-ae96-464a-96de-2a105e129cc4",
   "metadata": {},
   "outputs": [],
   "source": [
    "workflows = [Workflow(wf) for wf in wf_lines]\n",
    "workflows = {wf.name:wf for wf in workflows}"
   ]
  },
  {
   "cell_type": "code",
   "execution_count": 12,
   "id": "3da7fc63-1be2-46cd-bf4a-79ad99948ba2",
   "metadata": {},
   "outputs": [],
   "source": [
    "categories = 'xmas'\n",
    "def get_part(line):\n",
    "    ratings = [int(p.split('=')[1].split('}')[0]) for p in line.split(',')]\n",
    "    return dict(zip(categories,ratings))"
   ]
  },
  {
   "cell_type": "code",
   "execution_count": 13,
   "id": "a3240aac-5e0b-4d71-b656-0df8baed8153",
   "metadata": {},
   "outputs": [],
   "source": [
    "parts = [get_part(line) for line in parts_lines]"
   ]
  },
  {
   "cell_type": "code",
   "execution_count": 14,
   "id": "f330bef9-a819-4e4d-80b6-4d50559d54d4",
   "metadata": {},
   "outputs": [
    {
     "data": {
      "text/plain": [
       "{'x': 238, 'm': 232, 'a': 127, 's': 30}"
      ]
     },
     "execution_count": 14,
     "metadata": {},
     "output_type": "execute_result"
    }
   ],
   "source": [
    "part = parts[0]\n",
    "part"
   ]
  },
  {
   "cell_type": "code",
   "execution_count": 15,
   "id": "8792ba75-d266-47da-9601-90b14a74ea69",
   "metadata": {},
   "outputs": [],
   "source": [
    "import operator"
   ]
  },
  {
   "cell_type": "code",
   "execution_count": 16,
   "id": "92793df2-c4e6-4244-996c-411b2d5a61ac",
   "metadata": {},
   "outputs": [],
   "source": [
    "operation = {'<': operator.lt,\n",
    "             '>': operator.gt\n",
    "            }"
   ]
  },
  {
   "cell_type": "code",
   "execution_count": 17,
   "id": "03103ab5-e534-439f-b017-5eded58dda13",
   "metadata": {},
   "outputs": [],
   "source": [
    "def is_condition(rule, part):\n",
    "    category = rule.category\n",
    "    rule_value = rule.rating\n",
    "    op = operation[rule.operation]\n",
    "    part_rating = part[category]\n",
    "    # print(part_rating,rule.operation,rule_value)\n",
    "    return op(part_rating,rule_value)"
   ]
  },
  {
   "cell_type": "code",
   "execution_count": 18,
   "id": "d499485c-2239-4238-94a9-0d4f747e143b",
   "metadata": {},
   "outputs": [
    {
     "data": {
      "text/plain": [
       "in{a<1943:sg,x<1758:tpb,spv}"
      ]
     },
     "execution_count": 18,
     "metadata": {},
     "output_type": "execute_result"
    }
   ],
   "source": [
    "start = workflows['in']\n",
    "start"
   ]
  },
  {
   "cell_type": "code",
   "execution_count": 19,
   "id": "8bd55d17-da97-4adb-af53-5de678edf794",
   "metadata": {},
   "outputs": [
    {
     "data": {
      "text/plain": [
       "([a<1943:sg, x<1758:tpb], 'spv')"
      ]
     },
     "execution_count": 19,
     "metadata": {},
     "output_type": "execute_result"
    }
   ],
   "source": [
    "start.rules, start.next_workflow"
   ]
  },
  {
   "cell_type": "code",
   "execution_count": 20,
   "id": "285ee911-0239-4c74-918f-ff823dbf4a2e",
   "metadata": {},
   "outputs": [
    {
     "name": "stdout",
     "output_type": "stream",
     "text": [
      "rfg{s<1129:ft,m>1514:mk,m>934:jpb,ggs}\n"
     ]
    }
   ],
   "source": [
    "wf = workflows['rfg']\n",
    "print(wf)\n",
    "\n",
    "def get_next_workflow(wf, part):\n",
    "    rs = wf.rules[::-1].copy()\n",
    "    while len(rs) > 0:\n",
    "        rule = rs.pop()\n",
    "        # print(rule)\n",
    "        if is_condition(rule, part):\n",
    "            # print('passed')\n",
    "            name = rule.next_workflow\n",
    "            if (name=='A')|(name=='R'):\n",
    "                # print(name)\n",
    "                return name\n",
    "            else:\n",
    "                return workflows[name]          \n",
    "        else:\n",
    "            pass\n",
    "            # print('failed, trying next rule')\n",
    "    # print('ran out of rules')\n",
    "    return wf.next_workflow\n",
    "        "
   ]
  },
  {
   "cell_type": "code",
   "execution_count": 21,
   "id": "d49b0135-7e74-473d-bd79-c5f521ff7915",
   "metadata": {},
   "outputs": [
    {
     "data": {
      "text/plain": [
       "ft{m<1347:R,m<1967:A,A}"
      ]
     },
     "execution_count": 21,
     "metadata": {},
     "output_type": "execute_result"
    }
   ],
   "source": [
    "get_next_workflow(wf,part)"
   ]
  },
  {
   "cell_type": "code",
   "execution_count": 22,
   "id": "3e680844-b4ef-47b9-99bd-4f709fc6b5db",
   "metadata": {},
   "outputs": [],
   "source": [
    "def get_part_decision(part):\n",
    "    # print(workflows['in'])\n",
    "    next_wf = get_next_workflow(workflows['in'],part)\n",
    "    while (next_wf!='A')&(next_wf!='R'):\n",
    "        # print(f'part {part}: {next_wf}')\n",
    "        try:\n",
    "            next_wf = get_next_workflow(workflows[next_wf], part)\n",
    "        except:\n",
    "            next_wf = get_next_workflow(workflows[next_wf.name],part)\n",
    "    return next_wf   "
   ]
  },
  {
   "cell_type": "code",
   "execution_count": 23,
   "id": "9ce4bb9f-6178-4f92-9be4-bb5ec34c0f1d",
   "metadata": {},
   "outputs": [
    {
     "data": {
      "text/plain": [
       "79"
      ]
     },
     "execution_count": 23,
     "metadata": {},
     "output_type": "execute_result"
    }
   ],
   "source": [
    "accepted = list()\n",
    "for part in parts:\n",
    "    decision = get_part_decision(part)\n",
    "    if decision=='A':\n",
    "        accepted.append(part)\n",
    "len(accepted)"
   ]
  },
  {
   "cell_type": "code",
   "execution_count": 24,
   "id": "d07d4022-3664-47e7-99b8-20e9ec49b00a",
   "metadata": {},
   "outputs": [
    {
     "data": {
      "text/plain": [
       "79"
      ]
     },
     "execution_count": 24,
     "metadata": {},
     "output_type": "execute_result"
    }
   ],
   "source": [
    "ratings = [sum(val for key, val in part.items()) for part in accepted]\n",
    "len(ratings)"
   ]
  },
  {
   "cell_type": "code",
   "execution_count": 25,
   "id": "75fefeaf-7afa-477e-a038-beff3f564b6a",
   "metadata": {},
   "outputs": [
    {
     "data": {
      "text/plain": [
       "342650"
      ]
     },
     "execution_count": 25,
     "metadata": {},
     "output_type": "execute_result"
    }
   ],
   "source": [
    "sum(ratings)"
   ]
  },
  {
   "cell_type": "code",
   "execution_count": null,
   "id": "d297a7a5-baac-4b35-802b-d03329cf39b7",
   "metadata": {},
   "outputs": [],
   "source": []
  }
 ],
 "metadata": {
  "kernelspec": {
   "display_name": "Python 3 (ipykernel)",
   "language": "python",
   "name": "python3"
  },
  "language_info": {
   "codemirror_mode": {
    "name": "ipython",
    "version": 3
   },
   "file_extension": ".py",
   "mimetype": "text/x-python",
   "name": "python",
   "nbconvert_exporter": "python",
   "pygments_lexer": "ipython3",
   "version": "3.8.12"
  }
 },
 "nbformat": 4,
 "nbformat_minor": 5
}
